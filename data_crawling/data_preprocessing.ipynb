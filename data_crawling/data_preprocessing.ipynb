{
 "metadata": {
  "language_info": {
   "codemirror_mode": {
    "name": "ipython",
    "version": 3
   },
   "file_extension": ".py",
   "mimetype": "text/x-python",
   "name": "python",
   "nbconvert_exporter": "python",
   "pygments_lexer": "ipython3",
   "version": "3.8.8"
  },
  "orig_nbformat": 2,
  "kernelspec": {
   "name": "python388jvsc74a57bd0acf25d4c580ea69f311a7e2f57afae67e2e341535d95f686413e9715a9200d91",
   "display_name": "Python 3.8.8 64-bit ('crawl': conda)"
  }
 },
 "nbformat": 4,
 "nbformat_minor": 2,
 "cells": [
  {
   "cell_type": "code",
   "execution_count": 1,
   "metadata": {},
   "outputs": [],
   "source": [
    "# data 전처리 df_preprocessing이 너무 길어져서 옮김\n",
    "#TODO\n",
    "# mp3 정렬 -> progress에 존재하는 노래 가사 data에서 추출 후 이를 다시 progress로\n",
    "# mr 버전 제거\n",
    "# 가수별 노래 개수 확인 후 10개 미만인 가수의 노래 필터링\n",
    "# tsv 변환"
   ]
  },
  {
   "cell_type": "code",
   "execution_count": 6,
   "metadata": {},
   "outputs": [],
   "source": [
    "import pandas as pd\n",
    "progress_f = 'progress.csv'\n",
    "data_f = 'data/tab_removed.columns_removed.tsv'\n",
    "data = pd.read_csv(data_f, sep='\\t')\n",
    "progress = pd.read_csv(progress_f).drop('Unnamed: 0',axis = 1)"
   ]
  },
  {
   "cell_type": "code",
   "execution_count": 10,
   "metadata": {},
   "outputs": [
    {
     "output_type": "execute_result",
     "data": {
      "text/plain": [
       "                  titles    artist  \\\n",
       "0                 널 볼때마다  강균성 (노을)   \n",
       "1      바람기억 (웃는 얼굴에 수박씨)  강균성 (노을)   \n",
       "2    다 지난 일인데 (Feat.타블로)  강균성 (노을)   \n",
       "3  그대 나와 같다면 (Feat. 박기영)  강균성 (노을)   \n",
       "4   내 눈물 모아 (웃는 얼굴에 수박씨)  강균성 (노을)   \n",
       "5               처음 그 날처럼  강균성 (노을)   \n",
       "6           사랑은 언제나 목마르다  강균성 (노을)   \n",
       "7                 이번엔 달라  강균성 (노을)   \n",
       "8               그대 없는 날들  강균성 (노을)   \n",
       "9              십자가 밑에 나가  강균성 (노을)   \n",
       "\n",
       "                                              lyrics  \\\n",
       "0  왜 이렇게 힘들죠 나에겐 익숙한 일인데 조금씩 비틀거려요 갑자기 왜 화가 나려고 하...   \n",
       "1  바람 불어와 내 맘 흔들면 지나간 세월에  두 눈을 감아본다 나를 스치는 고요한 떨...   \n",
       "2  생각 없이 아무렇지 않은 듯이 너를 보냈었어 예 시간은 널 쉽게 데려가 줄 거라고 ...   \n",
       "3  한번쯤 그대를 바랬나 봐요 습관처럼 눈물이 나요 온종일 그대 뒷모습만 보다 사랑해 ...   \n",
       "4  창 밖으로 하나 둘씩  별빛이 꺼질 때쯤이면  하늘에 편지를 써 날 떠나 다른 사람...   \n",
       "5  가야 한다고 어쩔 수 없다고 너의 손잡은 채 나는 울고만 있었지 언젠가는 꼭 돌아올...   \n",
       "6  그렇게 많이 사랑한다 했는데  이제야 사랑을 알 것 같아요  부탁이 있어 제발 용서...   \n",
       "7  이번엔 달라 가슴이 하는 말 너만 보면 숨이 멎어와 벅찬 심장소리만 너만은 달라 내...   \n",
       "8  끝이라는 그대 거짓말에 아무 말도 슬퍼할 수도 없던 그 날이 믿지 않았었던 그 날이...   \n",
       "9  주님 내 안에 계시네  말로 표현할 수 없는 기쁨 평안 사랑 절대 빼앗기지 않으리 ...   \n",
       "\n",
       "                                          video_name  \n",
       "0  /content/drive/MyDrive/data/svs/music/[King of...  \n",
       "1  /content/drive/MyDrive/data/svs/music/애절함의 대명사...  \n",
       "2  /content/drive/MyDrive/data/svs/music/강균성(kang...  \n",
       "3  /content/drive/MyDrive/data/svs/music/노을 2015 ...  \n",
       "4  /content/drive/MyDrive/data/svs/music/[King of...  \n",
       "5  /content/drive/MyDrive/data/svs/music/강균성-이번엔 ...  \n",
       "6  /content/drive/MyDrive/data/svs/music/다 지난 일인데...  \n",
       "7  /content/drive/MyDrive/data/svs/music/그대 나와 같다...  \n",
       "8  /content/drive/MyDrive/data/svs/music/십자가 밑에 나...  \n",
       "9  /content/drive/MyDrive/data/svs/music/펀치 OST 강...  "
      ],
      "text/html": "<div>\n<style scoped>\n    .dataframe tbody tr th:only-of-type {\n        vertical-align: middle;\n    }\n\n    .dataframe tbody tr th {\n        vertical-align: top;\n    }\n\n    .dataframe thead th {\n        text-align: right;\n    }\n</style>\n<table border=\"1\" class=\"dataframe\">\n  <thead>\n    <tr style=\"text-align: right;\">\n      <th></th>\n      <th>titles</th>\n      <th>artist</th>\n      <th>lyrics</th>\n      <th>video_name</th>\n    </tr>\n  </thead>\n  <tbody>\n    <tr>\n      <th>0</th>\n      <td>널 볼때마다</td>\n      <td>강균성 (노을)</td>\n      <td>왜 이렇게 힘들죠 나에겐 익숙한 일인데 조금씩 비틀거려요 갑자기 왜 화가 나려고 하...</td>\n      <td>/content/drive/MyDrive/data/svs/music/[King of...</td>\n    </tr>\n    <tr>\n      <th>1</th>\n      <td>바람기억 (웃는 얼굴에 수박씨)</td>\n      <td>강균성 (노을)</td>\n      <td>바람 불어와 내 맘 흔들면 지나간 세월에  두 눈을 감아본다 나를 스치는 고요한 떨...</td>\n      <td>/content/drive/MyDrive/data/svs/music/애절함의 대명사...</td>\n    </tr>\n    <tr>\n      <th>2</th>\n      <td>다 지난 일인데 (Feat.타블로)</td>\n      <td>강균성 (노을)</td>\n      <td>생각 없이 아무렇지 않은 듯이 너를 보냈었어 예 시간은 널 쉽게 데려가 줄 거라고 ...</td>\n      <td>/content/drive/MyDrive/data/svs/music/강균성(kang...</td>\n    </tr>\n    <tr>\n      <th>3</th>\n      <td>그대 나와 같다면 (Feat. 박기영)</td>\n      <td>강균성 (노을)</td>\n      <td>한번쯤 그대를 바랬나 봐요 습관처럼 눈물이 나요 온종일 그대 뒷모습만 보다 사랑해 ...</td>\n      <td>/content/drive/MyDrive/data/svs/music/노을 2015 ...</td>\n    </tr>\n    <tr>\n      <th>4</th>\n      <td>내 눈물 모아 (웃는 얼굴에 수박씨)</td>\n      <td>강균성 (노을)</td>\n      <td>창 밖으로 하나 둘씩  별빛이 꺼질 때쯤이면  하늘에 편지를 써 날 떠나 다른 사람...</td>\n      <td>/content/drive/MyDrive/data/svs/music/[King of...</td>\n    </tr>\n    <tr>\n      <th>5</th>\n      <td>처음 그 날처럼</td>\n      <td>강균성 (노을)</td>\n      <td>가야 한다고 어쩔 수 없다고 너의 손잡은 채 나는 울고만 있었지 언젠가는 꼭 돌아올...</td>\n      <td>/content/drive/MyDrive/data/svs/music/강균성-이번엔 ...</td>\n    </tr>\n    <tr>\n      <th>6</th>\n      <td>사랑은 언제나 목마르다</td>\n      <td>강균성 (노을)</td>\n      <td>그렇게 많이 사랑한다 했는데  이제야 사랑을 알 것 같아요  부탁이 있어 제발 용서...</td>\n      <td>/content/drive/MyDrive/data/svs/music/다 지난 일인데...</td>\n    </tr>\n    <tr>\n      <th>7</th>\n      <td>이번엔 달라</td>\n      <td>강균성 (노을)</td>\n      <td>이번엔 달라 가슴이 하는 말 너만 보면 숨이 멎어와 벅찬 심장소리만 너만은 달라 내...</td>\n      <td>/content/drive/MyDrive/data/svs/music/그대 나와 같다...</td>\n    </tr>\n    <tr>\n      <th>8</th>\n      <td>그대 없는 날들</td>\n      <td>강균성 (노을)</td>\n      <td>끝이라는 그대 거짓말에 아무 말도 슬퍼할 수도 없던 그 날이 믿지 않았었던 그 날이...</td>\n      <td>/content/drive/MyDrive/data/svs/music/십자가 밑에 나...</td>\n    </tr>\n    <tr>\n      <th>9</th>\n      <td>십자가 밑에 나가</td>\n      <td>강균성 (노을)</td>\n      <td>주님 내 안에 계시네  말로 표현할 수 없는 기쁨 평안 사랑 절대 빼앗기지 않으리 ...</td>\n      <td>/content/drive/MyDrive/data/svs/music/펀치 OST 강...</td>\n    </tr>\n  </tbody>\n</table>\n</div>"
     },
     "metadata": {},
     "execution_count": 10
    }
   ],
   "source": [
    "data.head(10)"
   ]
  },
  {
   "cell_type": "code",
   "execution_count": 8,
   "metadata": {},
   "outputs": [
    {
     "output_type": "execute_result",
     "data": {
      "text/plain": [
       "                  titles    artist  \\\n",
       "0      바람기억 (웃는 얼굴에 수박씨)  강균성 (노을)   \n",
       "1           사랑은 언제나 목마르다  강균성 (노을)   \n",
       "2                 널 볼때마다  강균성 (노을)   \n",
       "3               처음 그 날처럼  강균성 (노을)   \n",
       "4   내 눈물 모아 (웃는 얼굴에 수박씨)  강균성 (노을)   \n",
       "5                 이번엔 달라  강균성 (노을)   \n",
       "6    다 지난 일인데 (Feat.타블로)  강균성 (노을)   \n",
       "7  그대 나와 같다면 (Feat. 박기영)  강균성 (노을)   \n",
       "8              십자가 밑에 나가  강균성 (노을)   \n",
       "9               그대 없는 날들  강균성 (노을)   \n",
       "\n",
       "                                          video_name  \n",
       "0  /content/drive/MyDrive/data/svs/music/[King of...  \n",
       "1  /content/drive/MyDrive/data/svs/music/애절함의 대명사...  \n",
       "2  /content/drive/MyDrive/data/svs/music/강균성(kang...  \n",
       "3  /content/drive/MyDrive/data/svs/music/노을 2015 ...  \n",
       "4  /content/drive/MyDrive/data/svs/music/[King of...  \n",
       "5  /content/drive/MyDrive/data/svs/music/강균성-이번엔 ...  \n",
       "6  /content/drive/MyDrive/data/svs/music/다 지난 일인데...  \n",
       "7  /content/drive/MyDrive/data/svs/music/그대 나와 같다...  \n",
       "8  /content/drive/MyDrive/data/svs/music/십자가 밑에 나...  \n",
       "9  /content/drive/MyDrive/data/svs/music/펀치 OST 강...  "
      ],
      "text/html": "<div>\n<style scoped>\n    .dataframe tbody tr th:only-of-type {\n        vertical-align: middle;\n    }\n\n    .dataframe tbody tr th {\n        vertical-align: top;\n    }\n\n    .dataframe thead th {\n        text-align: right;\n    }\n</style>\n<table border=\"1\" class=\"dataframe\">\n  <thead>\n    <tr style=\"text-align: right;\">\n      <th></th>\n      <th>titles</th>\n      <th>artist</th>\n      <th>video_name</th>\n    </tr>\n  </thead>\n  <tbody>\n    <tr>\n      <th>0</th>\n      <td>바람기억 (웃는 얼굴에 수박씨)</td>\n      <td>강균성 (노을)</td>\n      <td>/content/drive/MyDrive/data/svs/music/[King of...</td>\n    </tr>\n    <tr>\n      <th>1</th>\n      <td>사랑은 언제나 목마르다</td>\n      <td>강균성 (노을)</td>\n      <td>/content/drive/MyDrive/data/svs/music/애절함의 대명사...</td>\n    </tr>\n    <tr>\n      <th>2</th>\n      <td>널 볼때마다</td>\n      <td>강균성 (노을)</td>\n      <td>/content/drive/MyDrive/data/svs/music/강균성(kang...</td>\n    </tr>\n    <tr>\n      <th>3</th>\n      <td>처음 그 날처럼</td>\n      <td>강균성 (노을)</td>\n      <td>/content/drive/MyDrive/data/svs/music/노을 2015 ...</td>\n    </tr>\n    <tr>\n      <th>4</th>\n      <td>내 눈물 모아 (웃는 얼굴에 수박씨)</td>\n      <td>강균성 (노을)</td>\n      <td>/content/drive/MyDrive/data/svs/music/[King of...</td>\n    </tr>\n    <tr>\n      <th>5</th>\n      <td>이번엔 달라</td>\n      <td>강균성 (노을)</td>\n      <td>/content/drive/MyDrive/data/svs/music/강균성-이번엔 ...</td>\n    </tr>\n    <tr>\n      <th>6</th>\n      <td>다 지난 일인데 (Feat.타블로)</td>\n      <td>강균성 (노을)</td>\n      <td>/content/drive/MyDrive/data/svs/music/다 지난 일인데...</td>\n    </tr>\n    <tr>\n      <th>7</th>\n      <td>그대 나와 같다면 (Feat. 박기영)</td>\n      <td>강균성 (노을)</td>\n      <td>/content/drive/MyDrive/data/svs/music/그대 나와 같다...</td>\n    </tr>\n    <tr>\n      <th>8</th>\n      <td>십자가 밑에 나가</td>\n      <td>강균성 (노을)</td>\n      <td>/content/drive/MyDrive/data/svs/music/십자가 밑에 나...</td>\n    </tr>\n    <tr>\n      <th>9</th>\n      <td>그대 없는 날들</td>\n      <td>강균성 (노을)</td>\n      <td>/content/drive/MyDrive/data/svs/music/펀치 OST 강...</td>\n    </tr>\n  </tbody>\n</table>\n</div>"
     },
     "metadata": {},
     "execution_count": 8
    }
   ],
   "source": [
    "progress.head(10)"
   ]
  },
  {
   "cell_type": "code",
   "execution_count": 9,
   "metadata": {},
   "outputs": [],
   "source": [
    "lyrics = []\n",
    "for p_title,p_artist in zip(progress['titles'],progress['artist']):\n",
    "    for f_title, f_artist, lyric in zip(data['titles'],data['artist'],data['lyrics']):\n",
    "        if p_title == f_title and p_artist == f_artist:\n",
    "            lyrics.append(lyric)"
   ]
  },
  {
   "cell_type": "code",
   "execution_count": 11,
   "metadata": {},
   "outputs": [],
   "source": [
    "progress['lyrics'] = pd.Series(lyrics)"
   ]
  },
  {
   "cell_type": "code",
   "execution_count": 12,
   "metadata": {},
   "outputs": [
    {
     "output_type": "execute_result",
     "data": {
      "text/plain": [
       "                 titles    artist  \\\n",
       "0     바람기억 (웃는 얼굴에 수박씨)  강균성 (노을)   \n",
       "1          사랑은 언제나 목마르다  강균성 (노을)   \n",
       "2                널 볼때마다  강균성 (노을)   \n",
       "3              처음 그 날처럼  강균성 (노을)   \n",
       "4  내 눈물 모아 (웃는 얼굴에 수박씨)  강균성 (노을)   \n",
       "\n",
       "                                          video_name  \\\n",
       "0  /content/drive/MyDrive/data/svs/music/[King of...   \n",
       "1  /content/drive/MyDrive/data/svs/music/애절함의 대명사...   \n",
       "2  /content/drive/MyDrive/data/svs/music/강균성(kang...   \n",
       "3  /content/drive/MyDrive/data/svs/music/노을 2015 ...   \n",
       "4  /content/drive/MyDrive/data/svs/music/[King of...   \n",
       "\n",
       "                                              lyrics  \n",
       "0  바람 불어와 내 맘 흔들면 지나간 세월에  두 눈을 감아본다 나를 스치는 고요한 떨...  \n",
       "1  그렇게 많이 사랑한다 했는데  이제야 사랑을 알 것 같아요  부탁이 있어 제발 용서...  \n",
       "2  왜 이렇게 힘들죠 나에겐 익숙한 일인데 조금씩 비틀거려요 갑자기 왜 화가 나려고 하...  \n",
       "3  가야 한다고 어쩔 수 없다고 너의 손잡은 채 나는 울고만 있었지 언젠가는 꼭 돌아올...  \n",
       "4  창 밖으로 하나 둘씩  별빛이 꺼질 때쯤이면  하늘에 편지를 써 날 떠나 다른 사람...  "
      ],
      "text/html": "<div>\n<style scoped>\n    .dataframe tbody tr th:only-of-type {\n        vertical-align: middle;\n    }\n\n    .dataframe tbody tr th {\n        vertical-align: top;\n    }\n\n    .dataframe thead th {\n        text-align: right;\n    }\n</style>\n<table border=\"1\" class=\"dataframe\">\n  <thead>\n    <tr style=\"text-align: right;\">\n      <th></th>\n      <th>titles</th>\n      <th>artist</th>\n      <th>video_name</th>\n      <th>lyrics</th>\n    </tr>\n  </thead>\n  <tbody>\n    <tr>\n      <th>0</th>\n      <td>바람기억 (웃는 얼굴에 수박씨)</td>\n      <td>강균성 (노을)</td>\n      <td>/content/drive/MyDrive/data/svs/music/[King of...</td>\n      <td>바람 불어와 내 맘 흔들면 지나간 세월에  두 눈을 감아본다 나를 스치는 고요한 떨...</td>\n    </tr>\n    <tr>\n      <th>1</th>\n      <td>사랑은 언제나 목마르다</td>\n      <td>강균성 (노을)</td>\n      <td>/content/drive/MyDrive/data/svs/music/애절함의 대명사...</td>\n      <td>그렇게 많이 사랑한다 했는데  이제야 사랑을 알 것 같아요  부탁이 있어 제발 용서...</td>\n    </tr>\n    <tr>\n      <th>2</th>\n      <td>널 볼때마다</td>\n      <td>강균성 (노을)</td>\n      <td>/content/drive/MyDrive/data/svs/music/강균성(kang...</td>\n      <td>왜 이렇게 힘들죠 나에겐 익숙한 일인데 조금씩 비틀거려요 갑자기 왜 화가 나려고 하...</td>\n    </tr>\n    <tr>\n      <th>3</th>\n      <td>처음 그 날처럼</td>\n      <td>강균성 (노을)</td>\n      <td>/content/drive/MyDrive/data/svs/music/노을 2015 ...</td>\n      <td>가야 한다고 어쩔 수 없다고 너의 손잡은 채 나는 울고만 있었지 언젠가는 꼭 돌아올...</td>\n    </tr>\n    <tr>\n      <th>4</th>\n      <td>내 눈물 모아 (웃는 얼굴에 수박씨)</td>\n      <td>강균성 (노을)</td>\n      <td>/content/drive/MyDrive/data/svs/music/[King of...</td>\n      <td>창 밖으로 하나 둘씩  별빛이 꺼질 때쯤이면  하늘에 편지를 써 날 떠나 다른 사람...</td>\n    </tr>\n  </tbody>\n</table>\n</div>"
     },
     "metadata": {},
     "execution_count": 12
    }
   ],
   "source": [
    "progress.head()"
   ]
  },
  {
   "cell_type": "code",
   "execution_count": 13,
   "metadata": {},
   "outputs": [],
   "source": [
    "progress.to_csv('data/lyrics_alinged_tab_removed.tsv',index=False,header=None,sep='\\t')"
   ]
  },
  {
   "cell_type": "code",
   "execution_count": 10,
   "metadata": {},
   "outputs": [
    {
     "output_type": "execute_result",
     "data": {
      "text/plain": [
       "                 titles    artist  \\\n",
       "0     바람기억 (웃는 얼굴에 수박씨)  강균성 (노을)   \n",
       "1          사랑은 언제나 목마르다  강균성 (노을)   \n",
       "2                널 볼때마다  강균성 (노을)   \n",
       "3              처음 그 날처럼  강균성 (노을)   \n",
       "4  내 눈물 모아 (웃는 얼굴에 수박씨)  강균성 (노을)   \n",
       "\n",
       "                                          video_name  \\\n",
       "0  /content/drive/MyDrive/data/svs/music/[King of...   \n",
       "1  /content/drive/MyDrive/data/svs/music/애절함의 대명사...   \n",
       "2  /content/drive/MyDrive/data/svs/music/강균성(kang...   \n",
       "3  /content/drive/MyDrive/data/svs/music/노을 2015 ...   \n",
       "4  /content/drive/MyDrive/data/svs/music/[King of...   \n",
       "\n",
       "                                              lyrics  \n",
       "0  바람 불어와 내 맘 흔들면 지나간 세월에  두 눈을 감아본다 나를 스치는 고요한 떨...  \n",
       "1  그렇게 많이 사랑한다 했는데  이제야 사랑을 알 것 같아요  부탁이 있어 제발 용서...  \n",
       "2  왜 이렇게 힘들죠 나에겐 익숙한 일인데 조금씩 비틀거려요 갑자기 왜 화가 나려고 하...  \n",
       "3  가야 한다고 어쩔 수 없다고 너의 손잡은 채 나는 울고만 있었지 언젠가는 꼭 돌아올...  \n",
       "4  창 밖으로 하나 둘씩  별빛이 꺼질 때쯤이면  하늘에 편지를 써 날 떠나 다른 사람...  "
      ],
      "text/html": "<div>\n<style scoped>\n    .dataframe tbody tr th:only-of-type {\n        vertical-align: middle;\n    }\n\n    .dataframe tbody tr th {\n        vertical-align: top;\n    }\n\n    .dataframe thead th {\n        text-align: right;\n    }\n</style>\n<table border=\"1\" class=\"dataframe\">\n  <thead>\n    <tr style=\"text-align: right;\">\n      <th></th>\n      <th>titles</th>\n      <th>artist</th>\n      <th>video_name</th>\n      <th>lyrics</th>\n    </tr>\n  </thead>\n  <tbody>\n    <tr>\n      <th>0</th>\n      <td>바람기억 (웃는 얼굴에 수박씨)</td>\n      <td>강균성 (노을)</td>\n      <td>/content/drive/MyDrive/data/svs/music/[King of...</td>\n      <td>바람 불어와 내 맘 흔들면 지나간 세월에  두 눈을 감아본다 나를 스치는 고요한 떨...</td>\n    </tr>\n    <tr>\n      <th>1</th>\n      <td>사랑은 언제나 목마르다</td>\n      <td>강균성 (노을)</td>\n      <td>/content/drive/MyDrive/data/svs/music/애절함의 대명사...</td>\n      <td>그렇게 많이 사랑한다 했는데  이제야 사랑을 알 것 같아요  부탁이 있어 제발 용서...</td>\n    </tr>\n    <tr>\n      <th>2</th>\n      <td>널 볼때마다</td>\n      <td>강균성 (노을)</td>\n      <td>/content/drive/MyDrive/data/svs/music/강균성(kang...</td>\n      <td>왜 이렇게 힘들죠 나에겐 익숙한 일인데 조금씩 비틀거려요 갑자기 왜 화가 나려고 하...</td>\n    </tr>\n    <tr>\n      <th>3</th>\n      <td>처음 그 날처럼</td>\n      <td>강균성 (노을)</td>\n      <td>/content/drive/MyDrive/data/svs/music/노을 2015 ...</td>\n      <td>가야 한다고 어쩔 수 없다고 너의 손잡은 채 나는 울고만 있었지 언젠가는 꼭 돌아올...</td>\n    </tr>\n    <tr>\n      <th>4</th>\n      <td>내 눈물 모아 (웃는 얼굴에 수박씨)</td>\n      <td>강균성 (노을)</td>\n      <td>/content/drive/MyDrive/data/svs/music/[King of...</td>\n      <td>창 밖으로 하나 둘씩  별빛이 꺼질 때쯤이면  하늘에 편지를 써 날 떠나 다른 사람...</td>\n    </tr>\n  </tbody>\n</table>\n</div>"
     },
     "metadata": {},
     "execution_count": 10
    }
   ],
   "source": [
    "#MR 모두 제거 해야함\n",
    "import pandas as pd\n",
    "progress = pd.read_csv('data/lyrics_alinged_tab_removed.tsv',sep = '\\t')\n",
    "progress.head()"
   ]
  },
  {
   "cell_type": "code",
   "execution_count": 14,
   "metadata": {
    "tags": [
     "outputPrepend"
    ]
   },
   "outputs": [
    {
     "output_type": "stream",
     "name": "stdout",
     "text": [
      "                               우연이\n",
      "video_name    /content/drive/MyDrive/data/svs/music/[KY 금영노래...\n",
      "lyrics        내 통장에서 당신 통장으로  내사랑을 부쳐 드립니다 보고플땐 언제나 찾아쓰세요  넉...\n",
      "Name: 13021, dtype: object\n",
      "titles                                                  아리쓰리아리랑\n",
      "artist                                                      윤수현\n",
      "video_name    /content/drive/MyDrive/data/svs/music/[TJ노래방  ...\n",
      "lyrics        헤일 수 없이 수많은 밤을  내 가슴 도려내는 아픔에 겨워  얼마나 울었던가 동백아...\n",
      "Name: 13028, dtype: object\n",
      "titles                                                       편지\n",
      "artist                                                      이진아\n",
      "video_name    /content/drive/MyDrive/data/svs/music/[TJ노래방] ...\n",
      "lyrics        밤바다 무작정 기차 타고 떠났던 너와 둘만이 밤하늘 보았던 그 여름밤 아름다웠지 너...\n",
      "Name: 13166, dtype: object\n",
      "titles                                           이제 나만 믿어요 (MR)\n",
      "artist                                                      임영웅\n",
      "video_name    /content/drive/MyDrive/data/svs/music/[TJ노래방] ...\n",
      "lyrics        사랑이었을까 날 스쳐 지나간 그 이름 그리고 그 순간들은 난 거기 있을까 네가 떠올...\n",
      "Name: 13226, dtype: object\n",
      "titles                                           사랑했었다면 (Inst.)\n",
      "artist                                                       지아\n",
      "video_name    /content/drive/MyDrive/data/svs/music/[TJ노래방] ...\n",
      "lyrics        모르나봐 모르나봐  내 마음을 모르시나봐  빨간 립스틱 바른 이유  립스틱을 바른 ...\n",
      "Name: 13242, dtype: object\n",
      "titles                                         사랑하는 사람아 (Inst.)\n",
      "artist                                                이해리 (다비치)\n",
      "video_name    /content/drive/MyDrive/data/svs/music/[TJ노래방] ...\n",
      "lyrics        1절   봄이오는 아리랑고개  님이오는 아리랑고개  가는님은 밉상이요  오는님은 곱...\n",
      "Name: 13243, dtype: object\n",
      "titles                                          나만 아픈 일 (Inst.)\n",
      "artist                                                이해리 (다비치)\n",
      "video_name    /content/drive/MyDrive/data/svs/music/[TJ노래방] ...\n",
      "lyrics        혼자사는 여자 자존심만은 버릴 수 없는 거지 혼자사는 남자 기분에 취해 나이를 잊고...\n",
      "Name: 13244, dtype: object\n",
      "titles                                               아이좋아라 (MR)\n",
      "artist                                                      이혜리\n",
      "video_name    /content/drive/MyDrive/data/svs/music/[TJ노래방] ...\n",
      "lyrics        사랑에 약한것이 여자라지만 그 마음 몰라주는 무정한 남자의 마음 밤 늦게 전화해 자...\n",
      "Name: 13250, dtype: object\n",
      "titles                                                모르나봐 (MR)\n",
      "artist                                                      이혜리\n",
      "video_name    /content/drive/MyDrive/data/svs/music/[TJ노래방] ...\n",
      "lyrics        울고왔다 울고가는 설은사정을  당신이 몰라주면 그누가 알아주나요  알뜰한 당신은 알...\n",
      "Name: 13253, dtype: object\n",
      "titles                                               춤추는 밤 (MR)\n",
      "artist                                                      이혜리\n",
      "video_name    /content/drive/MyDrive/data/svs/music/[TJ노래방] ...\n",
      "lyrics        오직 시선은 짧은 치마로 그게 다였지  너를 움직일 나의 노래로 너를 바꿔봐  이 ...\n",
      "Name: 13260, dtype: object\n",
      "titles                                                       잠깐\n",
      "artist                                                      인순이\n",
      "video_name    /content/drive/MyDrive/data/svs/music/잠깐-인순이 노...\n",
      "lyrics        바람 속으로 걸어 갔어요  이른 아침의 그 찻집  마른 꽃 걸린 창가에 앉아   외...\n",
      "Name: 13313, dtype: object\n",
      "titles                                                   돌아 가리라\n",
      "artist                                                      인순이\n",
      "video_name    /content/drive/MyDrive/data/svs/music/[TJ노래방] ...\n",
      "lyrics        한 걸음도 다가설 수 없었던 내 마음을 알아주기를 얼마나 바라고 바래왔는지 눈물이 ...\n",
      "Name: 13323, dtype: object\n",
      "titles                                                     달빛사랑\n",
      "artist                                                      임수정\n",
      "video_name    /content/drive/MyDrive/data/svs/music/[TJ노래방] ...\n",
      "lyrics        그대여 떠나가나요 다시 또 볼 수 없나요 부디 나에게 사랑한다고 한 번만 말해 주세...\n",
      "Name: 13377, dtype: object\n",
      "titles                                                   사랑의 기도\n",
      "artist                                                      임주리\n",
      "video_name    /content/drive/MyDrive/data/svs/music/사랑의 기도 -...\n",
      "lyrics        처음본 당신을 왜이리 못잊을까 가슴에 담긴말을 한마디 못하고서 밤이면 잠못드는 그리...\n",
      "Name: 13428, dtype: object\n",
      "titles                                                       재회\n",
      "artist                                                      임주리\n",
      "video_name    /content/drive/MyDrive/data/svs/music/[TJ노래방] ...\n",
      "lyrics        깊은 밤 어디선가 고독을 태우는 소리 한숨짓던 미련마저 재가 되리라 뽀얗게 허공을 ...\n",
      "Name: 13440, dtype: object\n",
      "titles                                                   목마른 사슴\n",
      "artist                                                      장윤정\n",
      "video_name    /content/drive/MyDrive/data/svs/music/장윤정-목마른사...\n",
      "lyrics        사랑한 당신 내 편인 당신  나는 항상 당신 편인 걸  꿈을 꾸며 들을까 몰라  나...\n",
      "Name: 13546, dtype: object\n",
      "titles                                                  오동도 블루스\n",
      "artist                                                      장윤정\n",
      "video_name    /content/drive/MyDrive/data/svs/music/[KY 금영노래...\n",
      "lyrics        내 모든게 초라하다 느낄때 세상 어디에도 없는  노랠 했었지 나만이 부르던 노래 마...\n",
      "Name: 13559, dtype: object\n",
      "titles                                               환청 (Inst.)\n",
      "artist                                                      장재인\n",
      "video_name    /content/drive/MyDrive/data/svs/music/Auditory...\n",
      "lyrics        아침햇살이 내 방 창가에 소리 없이 내려앉으면  작은 화분 그 속에 나의 어린 꽃들...\n",
      "Name: 13609, dtype: object\n",
      "titles                                                   천상의 왈츠\n",
      "artist                                                       적우\n",
      "video_name    /content/drive/MyDrive/data/svs/music/[TJ노래방] ...\n",
      "lyrics        아문 것 같은데 난 아직인지  문득 날 스친 차가운 바람에  우리 둘뿐인 그날이 아...\n",
      "Name: 13681, dtype: object\n",
      "titles                                               꿈의 대화 (MR)\n",
      "artist                                                      정수라\n",
      "video_name    /content/drive/MyDrive/data/svs/music/[TJ노래방] ...\n",
      "lyrics        1.어두운밤하늘에 흘러버린유성처럼   허무하고 슬픈것이 여자의 꿈인가요   수많은 ...\n",
      "Name: 13720, dtype: object\n",
      "titles                                      우리들의 이야기 (Feat.정수라)\n",
      "artist                                                      전영록\n",
      "video_name    /content/drive/MyDrive/data/svs/music/[KY 금영노래...\n",
      "lyrics        흔한게 사랑이라지만 나는 그런 사랑 원하지 않아 바라만 봐도 괜히 그냥 좋은 그런 ...\n",
      "Name: 13721, dtype: object\n",
      "titles                                              아이 좋아라 (MR)\n",
      "artist                                                      이혜리\n",
      "video_name    /content/drive/MyDrive/data/svs/music/[TJ노래방] ...\n",
      "lyrics        거기까지라고  누군가 툭 한마디 던지면  그렇지 하고 포기할 것 같아 잘한 거라 토...\n",
      "Name: 13777, dtype: object\n",
      "titles                                                     오빠나빠\n",
      "artist                                            Jessica (제시카)\n",
      "video_name    /content/drive/MyDrive/data/svs/music/[TJ노래방] ...\n",
      "lyrics        I'm not your ordinary chick   with a radio son...\n",
      "Name: 13855, dtype: object\n",
      "titles                                하루만이라도 (Feat. 바로 Of B1A4)\n",
      "artist                                                       제아\n",
      "video_name    /content/drive/MyDrive/data/svs/music/[TJ노래방] ...\n",
      "lyrics        푸른 달빛 그 아래  그대의 예쁜 고백 나 눈물로 대답할래요 평생 그대 짝으로  영...\n",
      "Name: 13895, dtype: object\n",
      "titles                                            Sorry (Inst.)\n",
      "artist                                               JUNIEL(서아)\n",
      "video_name    /content/drive/MyDrive/data/svs/music/[TJ노래방] ...\n",
      "lyrics        수많은 사람들 스치며 지나가고  긴 하루 속에 지친 발걸음  저녁노을 지고 어둠이 ...\n",
      "Name: 14028, dtype: object\n",
      "titles                                               미운 사랑 (MR)\n",
      "artist                                                      임영웅\n",
      "video_name    /content/drive/MyDrive/data/svs/music/[TJ노래방] ...\n",
      "lyrics        너의 깊은 그 눈빛이 날 데려가 저 멀리 누군가 맘에 들 때 더 신비롭게 궁금하게 ...\n",
      "Name: 14117, dtype: object\n",
      "titles                                                  나하나의 사랑\n",
      "artist                                                      진미령\n",
      "video_name    /content/drive/MyDrive/data/svs/music/[TJ노래방] ...\n",
      "lyrics        지금도 기억 속에  남겨둔 그대 눈물 이제는 가슴속에  묻혀만 두기 싫어 떠나야 했...\n",
      "Name: 14124, dtype: object\n",
      "titles                                                 애인이 돼주세요\n",
      "artist                                                      최연화\n",
      "video_name    /content/drive/MyDrive/data/svs/music/애인이 돼 주세...\n",
      "lyrics        구름에 달빛가린 캄캄한 밤에  나홀로 잠 못이뤘죠. 당신앞에 자신이없어 몰래 편지를...\n",
      "Name: 14263, dtype: object\n",
      "titles                                          내 손을 잡아 (Inst.)\n",
      "artist                                                       타루\n",
      "video_name    /content/drive/MyDrive/data/svs/music/[TJ노래방] ...\n",
      "lyrics        가만히 눈을 감고 들어봐 잠들지 않는 꿈들은 모두 같은 길을 걷고있는걸 숨이 막힐것...\n",
      "Name: 14373, dtype: object\n",
      "titles                                              그대 나를 떠나가나요\n",
      "artist                                                      하수빈\n",
      "video_name    /content/drive/MyDrive/data/svs/music/[TJ노래방] ...\n",
      "lyrics        꿈처럼 아름답던 날 그날에 날 담아보네 언제나 내 맘속에 그림처럼 숨 쉬는 꽃잎의 ...\n",
      "Name: 14458, dtype: object\n",
      "titles                                               미운 사랑 (MR)\n",
      "artist                                                      진미령\n",
      "video_name    /content/drive/MyDrive/data/svs/music/[TJ노래방] ...\n",
      "lyrics        가끔 보고싶을땐 내게 기대 함께 있어줄게 마음속 깊은 고민들은 나에게 말해봐 언제나...\n",
      "Name: 14475, dtype: object\n",
      "titles                                                   사랑한 후에\n",
      "artist                                                      하수빈\n",
      "video_name    /content/drive/MyDrive/data/svs/music/사랑한 후에하수...\n",
      "lyrics        그댄 내게 무엇이기에 이렇게 아픔만 남겨주나요 슬픈 우린 또 다시 혼자가 되는 걸 ...\n",
      "Name: 14501, dtype: object\n",
      "titles                                               The Winner\n",
      "artist                                                      하수빈\n",
      "video_name    /content/drive/MyDrive/data/svs/music/노노노노노-하수...\n",
      "lyrics        Walking up alone and cold 내 외침을 던져 헤어날 수 없는 빛 ...\n",
      "Name: 14505, dtype: object\n",
      "titles                                                     우리마을\n",
      "artist                                                      한명숙\n",
      "video_name    /content/drive/MyDrive/data/svs/music/우리마을-한명숙...\n",
      "lyrics        광막한 광야에 달리는 인생아 너의 가는 곳 그 어데이냐 쓸쓸한 세상 험악한 고해에 ...\n",
      "Name: 14564, dtype: object\n",
      "titles                                              정정정 (Inst.)\n",
      "artist                                                      한영주\n",
      "video_name    /content/drive/MyDrive/data/svs/music/[TJ노래방] ...\n",
      "lyrics        내 가슴에 담아 놓고 내가 보고 싶을 때마다 아무도 모르게 꺼내 보고 내 가슴에 다...\n",
      "Name: 14628, dtype: object\n",
      "titles                                                       애상\n",
      "artist                                                      한혜진\n",
      "video_name    /content/drive/MyDrive/data/svs/music/Sorrow T...\n",
      "lyrics        1일째엔 볼을 붉히고 수줍게 웃지요 어느새 우리에게 50 일이 왔어요 50일째엔 손...\n",
      "Name: 14651, dtype: object\n",
      "titles                                                 해군가 (군가)\n",
      "artist                                                       현숙\n",
      "video_name    /content/drive/MyDrive/data/svs/music/해군가-군가 노...\n",
      "lyrics        구름이 끼었다고 비가오나 구름위엔 또 햇살있지 내 앞길을 막는 그 무엇도 난 두렵지...\n",
      "Name: 14676, dtype: object\n",
      "titles                                                     포장마차\n",
      "artist                                                       현숙\n",
      "video_name    /content/drive/MyDrive/data/svs/music/포장마차 - 현...\n",
      "lyrics        착한 여자 나쁜 여자 따로 있나 남자하기 나름이지 요즘 여잔 행복한 가정 변함없이 ...\n",
      "Name: 14677, dtype: object\n",
      "titles                                                     해피데이\n",
      "artist                                                       현숙\n",
      "video_name    /content/drive/MyDrive/data/svs/music/[TJ노래방] ...\n",
      "lyrics        Ice cream Ice cream I'll melt you down like Ic...\n",
      "Name: 14687, dtype: object\n",
      "titles                                                   찻집의 오후\n",
      "artist                                                      혜은이\n",
      "video_name    /content/drive/MyDrive/data/svs/music/[KY 금영노래...\n",
      "lyrics        참 많이 생각해봤어  헤어지잔 얘기를 어떻게 말해야하는지  아직 아무것도 모른체 환...\n",
      "Name: 14769, dtype: object\n",
      "titles                                             그대안의 블루 (MR)\n",
      "artist                                                      임영웅\n",
      "video_name    /content/drive/MyDrive/data/svs/music/[TJ노래방] ...\n",
      "lyrics        캄캄한 세상바다 너 하나만 의지하고 가시밭 불 고개를 울며 울며 넘을 적에 그 누가...\n",
      "Name: 14830, dtype: object\n",
      "titles                                                      희망가\n",
      "artist                                                      황금심\n",
      "video_name    /content/drive/MyDrive/data/svs/music/희망가-황금심 ...\n",
      "lyrics        따라따라따라 따라따라따라따 따라따라따라 따라따라따라따 따라따라따라 따라따라따라따 따...\n",
      "Name: 14836, dtype: object\n",
      "titles                                               She's Mine\n",
      "artist                                                      박효신\n",
      "video_name    /content/drive/MyDrive/data/svs/music/[TJ노래방] ...\n",
      "lyrics        날 생각해주는 그대가 좋아요 더 이상 어색하게 만들지는 말아요 친구로인게 난 너무 ...\n",
      "Name: 14931, dtype: object\n",
      "titles                                                    그보다 더\n",
      "artist                                                      박효신\n",
      "video_name    /content/drive/MyDrive/data/svs/music/[TJ노래방] ...\n",
      "lyrics        낯선 내 시간이 흐른뒤에 잊혀질까 그대 먼 여행을 떠난거라 생각할까 그대란 기억은 ...\n",
      "Name: 14933, dtype: object\n",
      "titles                                         꽃피는 봄이오면 (Inst.)\n",
      "artist                                                      BMK\n",
      "video_name    /content/drive/MyDrive/data/svs/music/[TJ노래방] ...\n",
      "lyrics        어둠속에 니 얼굴 보다가  나도 몰래 눈물이 흘렀어   소리 없이 날 따라오며 비춘...\n",
      "Name: 14953, dtype: object\n",
      "titles                                                 사랑한 시간부터\n",
      "artist                                                      BMK\n",
      "video_name    /content/drive/MyDrive/data/svs/music/[TJ노래방] ...\n",
      "lyrics        그만 거기서 한 걸음만 뒤를 돌아보지 말고 걸어와 넌 나를 믿고 그냥 걸어봐 위험한...\n",
      "Name: 14958, dtype: object\n",
      "titles                                 물들어 (Short Ver.) (Inst.)\n",
      "artist                                                      BMK\n",
      "video_name    /content/drive/MyDrive/data/svs/music/[TJ노래방] ...\n",
      "lyrics        우리 곁에 다가온 꿈을  잊고 싶지가 않아  그대의 입술과 내게 짓던 그 미소  바...\n",
      "Name: 14962, dtype: object\n",
      "titles                                              내맘이 (Inst.)\n",
      "artist                                              혜이니 (HEYNE)\n",
      "video_name    /content/drive/MyDrive/data/svs/music/[TJ노래방] ...\n",
      "lyrics        son son you are moon moon shining light son so...\n",
      "Name: 15030, dtype: object\n",
      "titles                                          새빨간 거짓말 (Inst.)\n",
      "artist                                              혜이니 (HEYNE)\n",
      "video_name    /content/drive/MyDrive/data/svs/music/[TJ노래방] ...\n",
      "lyrics        세월이 흘러가면 어디로 가는지 나는 아직 모르잖아요 그대 내 곁에 있어요 떠나가지 ...\n",
      "Name: 15031, dtype: object\n",
      "titles                                               달라 (Inst.)\n",
      "artist                                              혜이니 (HEYNE)\n",
      "video_name    /content/drive/MyDrive/data/svs/music/[TJ노래방] ...\n",
      "lyrics        이렇게 길을 걷기 좋은 날에 우리는 이별하네요 내겐 좋아요 그댈 보낸 뒤 다른 약속...\n",
      "Name: 15035, dtype: object\n",
      "titles                                       그댄 행복에 살텐데 (Inst.)\n",
      "artist                                               리즈 (Leeds)\n",
      "video_name    /content/drive/MyDrive/data/svs/music/[TJ노래방] ...\n",
      "lyrics        I cried a tear You wiped it dry I was confused...\n",
      "Name: 15050, dtype: object\n",
      "titles                              축가 (Celebrate Love) (Inst.)\n",
      "artist                                                      바이브\n",
      "video_name    /content/drive/MyDrive/data/svs/music/[TJ노래방] ...\n",
      "lyrics        돌아오지 않을 올해의 봄처럼 잡을 수 없기에 아름다운 날들 오늘보다 눈부시던 어제의...\n",
      "Name: 15110, dtype: object\n",
      "titles                                         어디에 (Piano Ver.)\n",
      "artist                                                 미(MIIII)\n",
      "video_name    /content/drive/MyDrive/data/svs/music/[TJ노래방] ...\n",
      "lyrics        끝이 없네요 그대 사랑은 아무것도 아닌데 날 사랑한데요 그대 두눈에 감춘 눈물은 반...\n",
      "Name: 15115, dtype: object\n",
      "titles                                       넌 나의 크리스마스 (Inst.)\n",
      "artist                                                      바이브\n",
      "video_name    /content/drive/MyDrive/data/svs/music/[TJ노래방] ...\n",
      "lyrics        아는 오빠 만나러가요 정말 키도 크고 잘생겼어요 아는오빠 만나러가요 정말 눈치없고 ...\n",
      "Name: 15126, dtype: object\n",
      "titles                                                     반딧불이\n",
      "artist                                                 미(MIIII)\n",
      "video_name    /content/drive/MyDrive/data/svs/music/[TJ노래방] ...\n",
      "lyrics        밥을 먹어도 혼자 야구를 봐도 혼자 거리를 걸어도 나 혼자 혼자이기 싫은데 또 방에...\n",
      "Name: 15127, dtype: object\n",
      "titles                                                    별이 운다\n",
      "artist                                                 미(MIIII)\n",
      "video_name    /content/drive/MyDrive/data/svs/music/[TJ노래방] ...\n",
      "lyrics        우물쭈물 하게 돼 네 앞에만 서면 아무것도 못해 왜 맘은 말을 하는데 굳게 닫힌 입...\n",
      "Name: 15128, dtype: object\n",
      "titles                                            비와 당신 (Inst.)\n",
      "artist                                                 미(MIIII)\n",
      "video_name    /content/drive/MyDrive/data/svs/music/[TJ노래방] ...\n",
      "lyrics        툭툭 지나가던 내 걸음이 또또 멀게만 느껴지는 하루에요 난 점점 마음이 겁이 나서 ...\n",
      "Name: 15129, dtype: object\n",
      "titles                                 키키키 (With MIIII) (Inst.)\n",
      "artist                                                        벤\n",
      "video_name    /content/drive/MyDrive/data/svs/music/별도따준다면서-...\n",
      "lyrics        안개비가 햐얗게 내리던 밤  그대 사는 작은 섬으로 나를 이끌던 날 부터 그댄 내겐...\n",
      "Name: 15136, dtype: object\n",
      "titles                                                       여자\n",
      "artist                                                 미(MIIII)\n",
      "video_name    /content/drive/MyDrive/data/svs/music/[TJ노래방] ...\n",
      "lyrics        변치않는 사랑이라 얘기하진 않아도 너무나 정들었던 지난 날  많지 않은 바램들의 벅...\n",
      "Name: 15139, dtype: object\n",
      "titles                                          바닐라 쉐이크 (Inst.)\n",
      "artist                                                      앤씨아\n",
      "video_name    /content/drive/MyDrive/data/svs/music/[TJ노래방] ...\n",
      "lyrics          baby 1 2 3 4 5 minutes 5분 안에 달려 와 1 2 3 4 5 ...\n",
      "Name: 15159, dtype: object\n",
      "titles                                        헤어질 자신 있니 (inst.)\n",
      "artist                                                      앤씨아\n",
      "video_name    /content/drive/MyDrive/data/svs/music/[TJ노래방] ...\n",
      "lyrics        나를 향한 주의 사랑  산과 바다에 넘치니  내 마음 열 때 주님  나에게 참 자유...\n",
      "Name: 15168, dtype: object\n",
      "titles                            땡땡땡 (Feat. 화사 Of 마마무) (Inst.)\n",
      "artist                                               SURAN (수란)\n",
      "video_name    /content/drive/MyDrive/data/svs/music/[TJ노래방] ...\n",
      "lyrics        그대여 자꾸 망설이는 나를 아나요 그댈 안고싶은데 자꾸만 이렇게 겁이 나는걸요 자꾸...\n",
      "Name: 15202, dtype: object\n",
      "titles                     차가워진 이 바람엔 우리가 써있어(Bad Love) (Inst.)\n",
      "artist                                               HYNN (박혜원)\n",
      "video_name    /content/drive/MyDrive/data/svs/music/[TJ노래방] ...\n",
      "lyrics        춤추는 바람에  손을 뻗어 볼래 뿌려지는 햇살 따라 걷고 있어 거리 거리마다 색깔이...\n",
      "Name: 15225, dtype: object\n",
      "titles                                    오늘에게 (TO.DAY) (Inst.)\n",
      "artist                                               HYNN (박혜원)\n",
      "video_name    /content/drive/MyDrive/data/svs/music/[TJ노래방] ...\n",
      "lyrics        한참을 뛰었더니 숨이 차올라 우리 집으로 가는 마지막 차 내일이 더 힘들고 지쳐도 ...\n",
      "Name: 15228, dtype: object\n",
      "titles                                      시든 꽃에 물을 주듯 (Inst.)\n",
      "artist                                               HYNN (박혜원)\n",
      "video_name    /content/drive/MyDrive/data/svs/music/[TJ노래방] ...\n",
      "lyrics        바람이 부는 소리에 노을 진 내방 창가에 익숙한 집 앞 거리에 그때의 우리가 내 눈...\n",
      "Name: 15229, dtype: object\n",
      "titles                                      아무렇지 않게, 안녕 (Inst.)\n",
      "artist                                               HYNN (박혜원)\n",
      "video_name    /content/drive/MyDrive/data/svs/music/[TJ노래방] ...\n",
      "lyrics        너와 함께 걸으면 왠지 난 무섭지 않아 두 손 꼭 잡고 같은 곳을 향해가 두려움이 ...\n",
      "Name: 15231, dtype: object\n",
      "titles                                        그대 없이 그대와 (Inst.)\n",
      "artist                                               HYNN (박혜원)\n",
      "video_name    /content/drive/MyDrive/data/svs/music/[TJ노래방] ...\n",
      "lyrics        착한 여자 나쁜 여자 따로 있나 남자하기 나름이지 요즘 여잔 행복한 가정 변함없이 ...\n",
      "Name: 15233, dtype: object\n",
      "titles                                       그대가 꽃이 아니면 (Inst.)\n",
      "artist                                               HYNN (박혜원)\n",
      "video_name    /content/drive/MyDrive/data/svs/music/[TJ노래방] ...\n",
      "lyrics        이게 다 본능 yeah ye 이게 다 본능 baby  uh shake it baby...\n",
      "Name: 15236, dtype: object\n",
      "titles                                               막차 (Inst.)\n",
      "artist                                               HYNN (박혜원)\n",
      "video_name    /content/drive/MyDrive/data/svs/music/[TJ노래방] ...\n",
      "lyrics        밤새 떠드는 빗방울 소리 소리도 없이 두 손을 내민 봄 너무 힘들면 햇살에 기대어 ...\n",
      "Name: 15240, dtype: object\n",
      "titles                                       LET ME OUT (Inst.)\n",
      "artist                                               HYNN (박혜원)\n",
      "video_name    /content/drive/MyDrive/data/svs/music/[TJ노래방] ...\n",
      "lyrics        석양이 지는 먼 하늘 바라보면  눈물이 난다는 그 사람 두고온 추억이 너무 많아서 ...\n",
      "Name: 15241, dtype: object\n",
      "titles                                                 우리사랑 부라보\n",
      "artist                                                      한영주\n",
      "video_name    /content/drive/MyDrive/data/svs/music/[TJ노래방] ...\n",
      "lyrics                                                      NaN\n",
      "Name: 15244, dtype: object\n"
     ]
    }
   ],
   "source": [
    "index = []\n",
    "for num,video_name in enumerate(progress['video_name']):\n",
    "    if 'TJ노래방' in video_name or 'TJ 노래방' in video_name or '금영' in video_name or 'MR' in video_name or 'mr' in video_name:\n",
    "        print(progress.iloc[num])\n",
    "        index.append(num)"
   ]
  },
  {
   "cell_type": "code",
   "execution_count": 15,
   "metadata": {},
   "outputs": [
    {
     "output_type": "execute_result",
     "data": {
      "text/plain": [
       "418"
      ]
     },
     "metadata": {},
     "execution_count": 15
    }
   ],
   "source": [
    "len(index)"
   ]
  },
  {
   "cell_type": "code",
   "execution_count": 11,
   "metadata": {},
   "outputs": [],
   "source": [
    "import pandas as pd\n",
    "progress_f = 'data/progress.csv'\n",
    "data_f = 'data/f_result.csv'\n",
    "data = pd.read_csv(data_f).drop(['Unnamed: 0','Unnamed: 0.1'],axis =1)\n",
    "progress = pd.read_csv(progress_f).drop('Unnamed: 0',axis = 1)"
   ]
  },
  {
   "cell_type": "code",
   "execution_count": 28,
   "metadata": {},
   "outputs": [
    {
     "output_type": "execute_result",
     "data": {
      "text/plain": [
       "                 titles    artist  \\\n",
       "0     바람기억 (웃는 얼굴에 수박씨)  강균성 (노을)   \n",
       "1          사랑은 언제나 목마르다  강균성 (노을)   \n",
       "2                널 볼때마다  강균성 (노을)   \n",
       "3              처음 그 날처럼  강균성 (노을)   \n",
       "4  내 눈물 모아 (웃는 얼굴에 수박씨)  강균성 (노을)   \n",
       "\n",
       "                                          video_name  \n",
       "0  /content/drive/MyDrive/data/svs/music/[King of...  \n",
       "1  /content/drive/MyDrive/data/svs/music/애절함의 대명사...  \n",
       "2  /content/drive/MyDrive/data/svs/music/강균성(kang...  \n",
       "3  /content/drive/MyDrive/data/svs/music/노을 2015 ...  \n",
       "4  /content/drive/MyDrive/data/svs/music/[King of...  "
      ],
      "text/html": "<div>\n<style scoped>\n    .dataframe tbody tr th:only-of-type {\n        vertical-align: middle;\n    }\n\n    .dataframe tbody tr th {\n        vertical-align: top;\n    }\n\n    .dataframe thead th {\n        text-align: right;\n    }\n</style>\n<table border=\"1\" class=\"dataframe\">\n  <thead>\n    <tr style=\"text-align: right;\">\n      <th></th>\n      <th>titles</th>\n      <th>artist</th>\n      <th>video_name</th>\n    </tr>\n  </thead>\n  <tbody>\n    <tr>\n      <th>0</th>\n      <td>바람기억 (웃는 얼굴에 수박씨)</td>\n      <td>강균성 (노을)</td>\n      <td>/content/drive/MyDrive/data/svs/music/[King of...</td>\n    </tr>\n    <tr>\n      <th>1</th>\n      <td>사랑은 언제나 목마르다</td>\n      <td>강균성 (노을)</td>\n      <td>/content/drive/MyDrive/data/svs/music/애절함의 대명사...</td>\n    </tr>\n    <tr>\n      <th>2</th>\n      <td>널 볼때마다</td>\n      <td>강균성 (노을)</td>\n      <td>/content/drive/MyDrive/data/svs/music/강균성(kang...</td>\n    </tr>\n    <tr>\n      <th>3</th>\n      <td>처음 그 날처럼</td>\n      <td>강균성 (노을)</td>\n      <td>/content/drive/MyDrive/data/svs/music/노을 2015 ...</td>\n    </tr>\n    <tr>\n      <th>4</th>\n      <td>내 눈물 모아 (웃는 얼굴에 수박씨)</td>\n      <td>강균성 (노을)</td>\n      <td>/content/drive/MyDrive/data/svs/music/[King of...</td>\n    </tr>\n  </tbody>\n</table>\n</div>"
     },
     "metadata": {},
     "execution_count": 28
    }
   ],
   "source": [
    "progress.head()"
   ]
  },
  {
   "cell_type": "code",
   "execution_count": 29,
   "metadata": {},
   "outputs": [
    {
     "output_type": "execute_result",
     "data": {
      "text/plain": [
       "                  titles    artist  \\\n",
       "0                 널 볼때마다  강균성 (노을)   \n",
       "1      바람기억 (웃는 얼굴에 수박씨)  강균성 (노을)   \n",
       "2    다 지난 일인데 (Feat.타블로)  강균성 (노을)   \n",
       "3  그대 나와 같다면 (Feat. 박기영)  강균성 (노을)   \n",
       "4   내 눈물 모아 (웃는 얼굴에 수박씨)  강균성 (노을)   \n",
       "\n",
       "                                              lyrics  \\\n",
       "0  왜 이렇게 힘들죠 나에겐 익숙한 일인데 조금씩 비틀거려요 갑자기 왜 화가 나려고 하...   \n",
       "1  바람 불어와 내 맘 흔들면 지나간 세월에  두 눈을 감아본다 나를 스치는 고요한 떨...   \n",
       "2  생각 없이 아무렇지 않은 듯이 너를 보냈었어 예 시간은 널 쉽게 데려가 줄 거라고 ...   \n",
       "3  한번쯤 그대를 바랬나 봐요 습관처럼 눈물이 나요 온종일 그대 뒷모습만 보다 사랑해 ...   \n",
       "4  창 밖으로 하나 둘씩  별빛이 꺼질 때쯤이면  하늘에 편지를 써 날 떠나 다른 사람...   \n",
       "\n",
       "                                          video_name  \n",
       "0  /content/drive/MyDrive/data/svs/music/[King of...  \n",
       "1  /content/drive/MyDrive/data/svs/music/애절함의 대명사...  \n",
       "2  /content/drive/MyDrive/data/svs/music/강균성(kang...  \n",
       "3  /content/drive/MyDrive/data/svs/music/노을 2015 ...  \n",
       "4  /content/drive/MyDrive/data/svs/music/[King of...  "
      ],
      "text/html": "<div>\n<style scoped>\n    .dataframe tbody tr th:only-of-type {\n        vertical-align: middle;\n    }\n\n    .dataframe tbody tr th {\n        vertical-align: top;\n    }\n\n    .dataframe thead th {\n        text-align: right;\n    }\n</style>\n<table border=\"1\" class=\"dataframe\">\n  <thead>\n    <tr style=\"text-align: right;\">\n      <th></th>\n      <th>titles</th>\n      <th>artist</th>\n      <th>lyrics</th>\n      <th>video_name</th>\n    </tr>\n  </thead>\n  <tbody>\n    <tr>\n      <th>0</th>\n      <td>널 볼때마다</td>\n      <td>강균성 (노을)</td>\n      <td>왜 이렇게 힘들죠 나에겐 익숙한 일인데 조금씩 비틀거려요 갑자기 왜 화가 나려고 하...</td>\n      <td>/content/drive/MyDrive/data/svs/music/[King of...</td>\n    </tr>\n    <tr>\n      <th>1</th>\n      <td>바람기억 (웃는 얼굴에 수박씨)</td>\n      <td>강균성 (노을)</td>\n      <td>바람 불어와 내 맘 흔들면 지나간 세월에  두 눈을 감아본다 나를 스치는 고요한 떨...</td>\n      <td>/content/drive/MyDrive/data/svs/music/애절함의 대명사...</td>\n    </tr>\n    <tr>\n      <th>2</th>\n      <td>다 지난 일인데 (Feat.타블로)</td>\n      <td>강균성 (노을)</td>\n      <td>생각 없이 아무렇지 않은 듯이 너를 보냈었어 예 시간은 널 쉽게 데려가 줄 거라고 ...</td>\n      <td>/content/drive/MyDrive/data/svs/music/강균성(kang...</td>\n    </tr>\n    <tr>\n      <th>3</th>\n      <td>그대 나와 같다면 (Feat. 박기영)</td>\n      <td>강균성 (노을)</td>\n      <td>한번쯤 그대를 바랬나 봐요 습관처럼 눈물이 나요 온종일 그대 뒷모습만 보다 사랑해 ...</td>\n      <td>/content/drive/MyDrive/data/svs/music/노을 2015 ...</td>\n    </tr>\n    <tr>\n      <th>4</th>\n      <td>내 눈물 모아 (웃는 얼굴에 수박씨)</td>\n      <td>강균성 (노을)</td>\n      <td>창 밖으로 하나 둘씩  별빛이 꺼질 때쯤이면  하늘에 편지를 써 날 떠나 다른 사람...</td>\n      <td>/content/drive/MyDrive/data/svs/music/[King of...</td>\n    </tr>\n  </tbody>\n</table>\n</div>"
     },
     "metadata": {},
     "execution_count": 29
    }
   ],
   "source": [
    "data.head()"
   ]
  },
  {
   "cell_type": "code",
   "execution_count": 30,
   "metadata": {},
   "outputs": [],
   "source": [
    "lyrics = []\n",
    "for p_title,p_artist in zip(progress['titles'],progress['artist']):\n",
    "    for f_title, f_artist, lyric in zip(data['titles'],data['artist'],data['lyrics']):\n",
    "        if p_title == f_title and p_artist == f_artist:\n",
    "            lyrics.append(lyric)"
   ]
  },
  {
   "cell_type": "code",
   "execution_count": 31,
   "metadata": {},
   "outputs": [
    {
     "output_type": "execute_result",
     "data": {
      "text/plain": [
       "                 titles    artist  \\\n",
       "0     바람기억 (웃는 얼굴에 수박씨)  강균성 (노을)   \n",
       "1          사랑은 언제나 목마르다  강균성 (노을)   \n",
       "2                널 볼때마다  강균성 (노을)   \n",
       "3              처음 그 날처럼  강균성 (노을)   \n",
       "4  내 눈물 모아 (웃는 얼굴에 수박씨)  강균성 (노을)   \n",
       "\n",
       "                                          video_name  \\\n",
       "0  /content/drive/MyDrive/data/svs/music/[King of...   \n",
       "1  /content/drive/MyDrive/data/svs/music/애절함의 대명사...   \n",
       "2  /content/drive/MyDrive/data/svs/music/강균성(kang...   \n",
       "3  /content/drive/MyDrive/data/svs/music/노을 2015 ...   \n",
       "4  /content/drive/MyDrive/data/svs/music/[King of...   \n",
       "\n",
       "                                              lyrics  \n",
       "0  바람 불어와 내 맘 흔들면 지나간 세월에  두 눈을 감아본다 나를 스치는 고요한 떨...  \n",
       "1  그렇게 많이 사랑한다 했는데  이제야 사랑을 알 것 같아요  부탁이 있어 제발 용서...  \n",
       "2  왜 이렇게 힘들죠 나에겐 익숙한 일인데 조금씩 비틀거려요 갑자기 왜 화가 나려고 하...  \n",
       "3  가야 한다고 어쩔 수 없다고 너의 손잡은 채 나는 울고만 있었지 언젠가는 꼭 돌아올...  \n",
       "4  창 밖으로 하나 둘씩  별빛이 꺼질 때쯤이면  하늘에 편지를 써 날 떠나 다른 사람...  "
      ],
      "text/html": "<div>\n<style scoped>\n    .dataframe tbody tr th:only-of-type {\n        vertical-align: middle;\n    }\n\n    .dataframe tbody tr th {\n        vertical-align: top;\n    }\n\n    .dataframe thead th {\n        text-align: right;\n    }\n</style>\n<table border=\"1\" class=\"dataframe\">\n  <thead>\n    <tr style=\"text-align: right;\">\n      <th></th>\n      <th>titles</th>\n      <th>artist</th>\n      <th>video_name</th>\n      <th>lyrics</th>\n    </tr>\n  </thead>\n  <tbody>\n    <tr>\n      <th>0</th>\n      <td>바람기억 (웃는 얼굴에 수박씨)</td>\n      <td>강균성 (노을)</td>\n      <td>/content/drive/MyDrive/data/svs/music/[King of...</td>\n      <td>바람 불어와 내 맘 흔들면 지나간 세월에  두 눈을 감아본다 나를 스치는 고요한 떨...</td>\n    </tr>\n    <tr>\n      <th>1</th>\n      <td>사랑은 언제나 목마르다</td>\n      <td>강균성 (노을)</td>\n      <td>/content/drive/MyDrive/data/svs/music/애절함의 대명사...</td>\n      <td>그렇게 많이 사랑한다 했는데  이제야 사랑을 알 것 같아요  부탁이 있어 제발 용서...</td>\n    </tr>\n    <tr>\n      <th>2</th>\n      <td>널 볼때마다</td>\n      <td>강균성 (노을)</td>\n      <td>/content/drive/MyDrive/data/svs/music/강균성(kang...</td>\n      <td>왜 이렇게 힘들죠 나에겐 익숙한 일인데 조금씩 비틀거려요 갑자기 왜 화가 나려고 하...</td>\n    </tr>\n    <tr>\n      <th>3</th>\n      <td>처음 그 날처럼</td>\n      <td>강균성 (노을)</td>\n      <td>/content/drive/MyDrive/data/svs/music/노을 2015 ...</td>\n      <td>가야 한다고 어쩔 수 없다고 너의 손잡은 채 나는 울고만 있었지 언젠가는 꼭 돌아올...</td>\n    </tr>\n    <tr>\n      <th>4</th>\n      <td>내 눈물 모아 (웃는 얼굴에 수박씨)</td>\n      <td>강균성 (노을)</td>\n      <td>/content/drive/MyDrive/data/svs/music/[King of...</td>\n      <td>창 밖으로 하나 둘씩  별빛이 꺼질 때쯤이면  하늘에 편지를 써 날 떠나 다른 사람...</td>\n    </tr>\n  </tbody>\n</table>\n</div>"
     },
     "metadata": {},
     "execution_count": 31
    }
   ],
   "source": [
    "progress['lyrics'] = pd.Series(lyrics)\n",
    "progress.head()"
   ]
  },
  {
   "cell_type": "code",
   "execution_count": 32,
   "metadata": {},
   "outputs": [],
   "source": [
    "progress.to_csv('data/lyrics_alinged_tab_removed.tsv',index=False,header=None,sep='\\t')"
   ]
  },
  {
   "cell_type": "code",
   "execution_count": 33,
   "metadata": {},
   "outputs": [
    {
     "output_type": "execute_result",
     "data": {
      "text/plain": [
       "                 titles    artist  \\\n",
       "0     바람기억 (웃는 얼굴에 수박씨)  강균성 (노을)   \n",
       "1          사랑은 언제나 목마르다  강균성 (노을)   \n",
       "2                널 볼때마다  강균성 (노을)   \n",
       "3              처음 그 날처럼  강균성 (노을)   \n",
       "4  내 눈물 모아 (웃는 얼굴에 수박씨)  강균성 (노을)   \n",
       "\n",
       "                                          video_name  \\\n",
       "0  /content/drive/MyDrive/data/svs/music/[King of...   \n",
       "1  /content/drive/MyDrive/data/svs/music/애절함의 대명사...   \n",
       "2  /content/drive/MyDrive/data/svs/music/강균성(kang...   \n",
       "3  /content/drive/MyDrive/data/svs/music/노을 2015 ...   \n",
       "4  /content/drive/MyDrive/data/svs/music/[King of...   \n",
       "\n",
       "                                              lyrics  \n",
       "0  바람 불어와 내 맘 흔들면 지나간 세월에  두 눈을 감아본다 나를 스치는 고요한 떨...  \n",
       "1  그렇게 많이 사랑한다 했는데  이제야 사랑을 알 것 같아요  부탁이 있어 제발 용서...  \n",
       "2  왜 이렇게 힘들죠 나에겐 익숙한 일인데 조금씩 비틀거려요 갑자기 왜 화가 나려고 하...  \n",
       "3  가야 한다고 어쩔 수 없다고 너의 손잡은 채 나는 울고만 있었지 언젠가는 꼭 돌아올...  \n",
       "4  창 밖으로 하나 둘씩  별빛이 꺼질 때쯤이면  하늘에 편지를 써 날 떠나 다른 사람...  "
      ],
      "text/html": "<div>\n<style scoped>\n    .dataframe tbody tr th:only-of-type {\n        vertical-align: middle;\n    }\n\n    .dataframe tbody tr th {\n        vertical-align: top;\n    }\n\n    .dataframe thead th {\n        text-align: right;\n    }\n</style>\n<table border=\"1\" class=\"dataframe\">\n  <thead>\n    <tr style=\"text-align: right;\">\n      <th></th>\n      <th>titles</th>\n      <th>artist</th>\n      <th>video_name</th>\n      <th>lyrics</th>\n    </tr>\n  </thead>\n  <tbody>\n    <tr>\n      <th>0</th>\n      <td>바람기억 (웃는 얼굴에 수박씨)</td>\n      <td>강균성 (노을)</td>\n      <td>/content/drive/MyDrive/data/svs/music/[King of...</td>\n      <td>바람 불어와 내 맘 흔들면 지나간 세월에  두 눈을 감아본다 나를 스치는 고요한 떨...</td>\n    </tr>\n    <tr>\n      <th>1</th>\n      <td>사랑은 언제나 목마르다</td>\n      <td>강균성 (노을)</td>\n      <td>/content/drive/MyDrive/data/svs/music/애절함의 대명사...</td>\n      <td>그렇게 많이 사랑한다 했는데  이제야 사랑을 알 것 같아요  부탁이 있어 제발 용서...</td>\n    </tr>\n    <tr>\n      <th>2</th>\n      <td>널 볼때마다</td>\n      <td>강균성 (노을)</td>\n      <td>/content/drive/MyDrive/data/svs/music/강균성(kang...</td>\n      <td>왜 이렇게 힘들죠 나에겐 익숙한 일인데 조금씩 비틀거려요 갑자기 왜 화가 나려고 하...</td>\n    </tr>\n    <tr>\n      <th>3</th>\n      <td>처음 그 날처럼</td>\n      <td>강균성 (노을)</td>\n      <td>/content/drive/MyDrive/data/svs/music/노을 2015 ...</td>\n      <td>가야 한다고 어쩔 수 없다고 너의 손잡은 채 나는 울고만 있었지 언젠가는 꼭 돌아올...</td>\n    </tr>\n    <tr>\n      <th>4</th>\n      <td>내 눈물 모아 (웃는 얼굴에 수박씨)</td>\n      <td>강균성 (노을)</td>\n      <td>/content/drive/MyDrive/data/svs/music/[King of...</td>\n      <td>창 밖으로 하나 둘씩  별빛이 꺼질 때쯤이면  하늘에 편지를 써 날 떠나 다른 사람...</td>\n    </tr>\n  </tbody>\n</table>\n</div>"
     },
     "metadata": {},
     "execution_count": 33
    }
   ],
   "source": [
    "#MR 모두 제거 해야함\n",
    "import pandas as pd\n",
    "progress = pd.read_csv('data/lyrics_alinged_tab_removed.tsv',sep = '\\t')\n",
    "progress.head()"
   ]
  },
  {
   "cell_type": "code",
   "execution_count": 34,
   "metadata": {
    "tags": [
     "outputPrepend"
    ]
   },
   "outputs": [
    {
     "output_type": "stream",
     "name": "stdout",
     "text": [
      "                               우연이\n",
      "video_name    /content/drive/MyDrive/data/svs/music/[KY 금영노래...\n",
      "lyrics        첫눈에 맘에 든 그 남자 오늘 밤 난 너를 찍었어 뜨거운 미소마저도 다가갈 수 있다...\n",
      "Name: 13021, dtype: object\n",
      "titles                                                  아리쓰리아리랑\n",
      "artist                                                      윤수현\n",
      "video_name    /content/drive/MyDrive/data/svs/music/[TJ노래방  ...\n",
      "lyrics        아리아리 아리랑 마음이 너무 아려 쓰리쓰리 쓰리랑 가슴이 너무 쓰려 꽃 다운 내 사...\n",
      "Name: 13028, dtype: object\n",
      "titles                                                       편지\n",
      "artist                                                      이진아\n",
      "video_name    /content/drive/MyDrive/data/svs/music/[TJ노래방] ...\n",
      "lyrics        여전히 남아있는  잔잔한 글씨들이 내 맘을 내 눈빛을 움직이네 살며시 꽃송이를 전해...\n",
      "Name: 13166, dtype: object\n",
      "titles                                           이제 나만 믿어요 (MR)\n",
      "artist                                                      임영웅\n",
      "video_name    /content/drive/MyDrive/data/svs/music/[TJ노래방] ...\n",
      "lyrics        무얼 믿은 걸까 부족했던 내게서  나조차 못 믿던 내게 여태 머문 사람  무얼 봤던...\n",
      "Name: 13226, dtype: object\n",
      "titles                                           사랑했었다면 (Inst.)\n",
      "artist                                                       지아\n",
      "video_name    /content/drive/MyDrive/data/svs/music/[TJ노래방] ...\n",
      "lyrics          사랑한다 했잖아 영원히  아껴준다 했잖아 약속했잖아 어떻게 그 맘이 변할 수 있...\n",
      "Name: 13242, dtype: object\n",
      "titles                                         사랑하는 사람아 (Inst.)\n",
      "artist                                                이해리 (다비치)\n",
      "video_name    /content/drive/MyDrive/data/svs/music/[TJ노래방] ...\n",
      "lyrics        긴 하루의 끝에서 꺼내보는  내 마음속에 꼭 숨겨둔 이야기 먼 훗날 언젠가는 돌아보...\n",
      "Name: 13243, dtype: object\n",
      "titles                                          나만 아픈 일 (Inst.)\n",
      "artist                                                이해리 (다비치)\n",
      "video_name    /content/drive/MyDrive/data/svs/music/[TJ노래방] ...\n",
      "lyrics        멍하니 또 하루 종일 의미 없는 생각들만 했어 아니라고 아니라고 헤어지자 말하기가 ...\n",
      "Name: 13244, dtype: object\n",
      "titles                                               아이좋아라 (MR)\n",
      "artist                                                      이혜리\n",
      "video_name    /content/drive/MyDrive/data/svs/music/[TJ노래방] ...\n",
      "lyrics        멜론 홈으로검색열기 앱설치닫기 로그인하세요 내 스타일에 맞는 이용권은? 이용권구매 ...\n",
      "Name: 13250, dtype: object\n",
      "titles                                                모르나봐 (MR)\n",
      "artist                                                      이혜리\n",
      "video_name    /content/drive/MyDrive/data/svs/music/[TJ노래방] ...\n",
      "lyrics        모르나봐 모르나봐  내 마음을 모르시나봐  빨간 립스틱 바른 이유  립스틱을 바른 ...\n",
      "Name: 13253, dtype: object\n",
      "titles                                               춤추는 밤 (MR)\n",
      "artist                                                      이혜리\n",
      "video_name    /content/drive/MyDrive/data/svs/music/[TJ노래방] ...\n",
      "lyrics        오색등 불빛들이 반짝반짝 춤을 추는 서울의 밤거리는 사랑의 거리 그대와 손잡고 이밤...\n",
      "Name: 13260, dtype: object\n",
      "titles                                                       잠깐\n",
      "artist                                                      인순이\n",
      "video_name    /content/drive/MyDrive/data/svs/music/잠깐-인순이 노...\n",
      "lyrics        돌아서서 떠나갈때 변하더라도 잠깐 웃고 지금만 있어요 왜 가는지 왜 가는지 떠나가는...\n",
      "Name: 13313, dtype: object\n",
      "titles                                                   돌아 가리라\n",
      "artist                                                      인순이\n",
      "video_name    /content/drive/MyDrive/data/svs/music/[TJ노래방] ...\n",
      "lyrics        기억 눈물 모두 다 지우고 떠나야 했다 버려야 했다 항상 지켜주던 사람이라서 잊을수...\n",
      "Name: 13323, dtype: object\n",
      "titles                                                     달빛사랑\n",
      "artist                                                      임수정\n",
      "video_name    /content/drive/MyDrive/data/svs/music/[TJ노래방] ...\n",
      "lyrics        그대를 처음 본 순간 내 가슴은 몹시 뛰었지 어쩐지 내사랑 일것같은 행복한 예감이 ...\n",
      "Name: 13377, dtype: object\n",
      "titles                                                   사랑의 기도\n",
      "artist                                                      임주리\n",
      "video_name    /content/drive/MyDrive/data/svs/music/사랑의 기도 -...\n",
      "lyrics        * 사랑의 기도 * (1절) 천상에 계신이여! 나의 기도 들어주소서! 그사람을 사랑...\n",
      "Name: 13428, dtype: object\n",
      "titles                                                       재회\n",
      "artist                                                      임주리\n",
      "video_name    /content/drive/MyDrive/data/svs/music/[TJ노래방] ...\n",
      "lyrics        우리사이에 사랑이 있었던 게  정말로 사실인가요  살아서는 만나지 말자던  사랑도 ...\n",
      "Name: 13440, dtype: object\n",
      "titles                                                   목마른 사슴\n",
      "artist                                                      장윤정\n",
      "video_name    /content/drive/MyDrive/data/svs/music/장윤정-목마른사...\n",
      "lyrics        당신이 앞에 있으면 왜 나는 울고 싶은지 한마디 듣고 싶은 그 한마디에 가슴은 까맣...\n",
      "Name: 13546, dtype: object\n",
      "titles                                                  오동도 블루스\n",
      "artist                                                      장윤정\n",
      "video_name    /content/drive/MyDrive/data/svs/music/[KY 금영노래...\n",
      "lyrics        오동도 뱃길따라 오실 때는 여린 정 품에 안고 오질 마세요 물빛 순정은 항구의 정이...\n",
      "Name: 13559, dtype: object\n",
      "titles                                               환청 (Inst.)\n",
      "artist                                                      장재인\n",
      "video_name    /content/drive/MyDrive/data/svs/music/Auditory...\n",
      "lyrics        내 안에 숨은 것들이 말이야 날 참 많이 변하게 했잖아 날 잠재우고 두 손 묶고선 ...\n",
      "Name: 13609, dtype: object\n",
      "titles                                                   천상의 왈츠\n",
      "artist                                                       적우\n",
      "video_name    /content/drive/MyDrive/data/svs/music/[TJ노래방] ...\n",
      "lyrics        오늘 오늘 하루만 나를 못 본 척해 줄 수 없나요 눈물 자국 아직 남아 있잖아요 한...\n",
      "Name: 13681, dtype: object\n",
      "titles                                               꿈의 대화 (MR)\n",
      "artist                                                      정수라\n",
      "video_name    /content/drive/MyDrive/data/svs/music/[TJ노래방] ...\n",
      "lyrics        땅거미 내려 앉아 어두운 거리에 가만히 너에게 나의 꿈 들려주네 헤이 헤이 헤이 헤...\n",
      "Name: 13720, dtype: object\n",
      "titles                                      우리들의 이야기 (Feat.정수라)\n",
      "artist                                                      전영록\n",
      "video_name    /content/drive/MyDrive/data/svs/music/[KY 금영노래...\n",
      "lyrics        그대가 만약 떠나있다해도 슬퍼 하지 않을래 그대가 왠지 곁에 있는것 같아 이밤 난 ...\n",
      "Name: 13721, dtype: object\n",
      "titles                                              아이 좋아라 (MR)\n",
      "artist                                                      이혜리\n",
      "video_name    /content/drive/MyDrive/data/svs/music/[TJ노래방] ...\n",
      "lyrics        멜론 홈으로검색열기 앱설치닫기 로그인하세요 내 스타일에 맞는 이용권은? 이용권구매 ...\n",
      "Name: 13777, dtype: object\n",
      "titles                                                     오빠나빠\n",
      "artist                                            Jessica (제시카)\n",
      "video_name    /content/drive/MyDrive/data/svs/music/[TJ노래방] ...\n",
      "lyrics        다 아는데 난 아닌데 그래도 놓치기 싫은데 딱 한번만 내 말을 들어요 오빠 앞에선 ...\n",
      "Name: 13855, dtype: object\n",
      "titles                                하루만이라도 (Feat. 바로 Of B1A4)\n",
      "artist                                                       제아\n",
      "video_name    /content/drive/MyDrive/data/svs/music/[TJ노래방] ...\n",
      "lyrics        째깍째깍 시간은 계속 흘러가는데 사랑했던 맘은 멈춰 버렸네 돌아오라 말하기엔 너무 ...\n",
      "Name: 13895, dtype: object\n",
      "titles                                            Sorry (Inst.)\n",
      "artist                                               JUNIEL(서아)\n",
      "video_name    /content/drive/MyDrive/data/svs/music/[TJ노래방] ...\n",
      "lyrics        Lately 이젠 떠난다구요 maybe 정말 끝이라구요 이해할게요 이해할게요 내 맘...\n",
      "Name: 14028, dtype: object\n",
      "titles                                               미운 사랑 (MR)\n",
      "artist                                                      임영웅\n",
      "video_name    /content/drive/MyDrive/data/svs/music/[TJ노래방] ...\n",
      "lyrics        남몰래 기다리다가 가슴만 태우는 사랑 어제는 기다림에 오늘은 외로움 그리움에 적셔진...\n",
      "Name: 14117, dtype: object\n",
      "titles                                                  나하나의 사랑\n",
      "artist                                                      진미령\n",
      "video_name    /content/drive/MyDrive/data/svs/music/[TJ노래방] ...\n",
      "lyrics        나 혼자만이 그대를 알고 싶소  나 혼자만이 그대를 갖고 싶소 나 혼자만이 그대를 ...\n",
      "Name: 14124, dtype: object\n",
      "titles                                                 애인이 돼주세요\n",
      "artist                                                      최연화\n",
      "video_name    /content/drive/MyDrive/data/svs/music/애인이 돼 주세...\n",
      "lyrics        그대여 나의 애인이 되어 애인이 돼 주세요  외롭고 쓸쓸한 나의 나의 가슴에  사랑...\n",
      "Name: 14263, dtype: object\n",
      "titles                                          내 손을 잡아 (Inst.)\n",
      "artist                                                       타루\n",
      "video_name    /content/drive/MyDrive/data/svs/music/[TJ노래방] ...\n",
      "lyrics        (A)가끔 보고싶을땐 내게 기대     함께 있어줄게     마음속 깊은 고민들은 ...\n",
      "Name: 14373, dtype: object\n",
      "titles                                              그대 나를 떠나가나요\n",
      "artist                                                      하수빈\n",
      "video_name    /content/drive/MyDrive/data/svs/music/[TJ노래방] ...\n",
      "lyrics        1. 그댄 내게 무엇이기에 이렇게 아픔만 남겨주나요 슬픈 우린 또 다시 혼자가 되는...\n",
      "Name: 14458, dtype: object\n",
      "titles                                               미운 사랑 (MR)\n",
      "artist                                                      진미령\n",
      "video_name    /content/drive/MyDrive/data/svs/music/[TJ노래방] ...\n",
      "lyrics        남몰래 기다리다가 가슴만 태우는 사랑 어제는 기다림에 오늘은 외로움 그리움에 적셔진...\n",
      "Name: 14475, dtype: object\n",
      "titles                                                   사랑한 후에\n",
      "artist                                                      하수빈\n",
      "video_name    /content/drive/MyDrive/data/svs/music/사랑한 후에하수...\n",
      "lyrics        무슨 말을 한 거야 꼭 이래야 했던 거야 오직 너를 너만을 사랑하면서 그 무언가를 ...\n",
      "Name: 14501, dtype: object\n",
      "titles                                               The Winner\n",
      "artist                                                      하수빈\n",
      "video_name    /content/drive/MyDrive/data/svs/music/노노노노노-하수...\n",
      "lyrics        네가 원한 건 정말 뭐였니 말해줘 위험한 너의 사고방식 버려야해 나 가진 젤 소중함...\n",
      "Name: 14505, dtype: object\n",
      "titles                                                     우리마을\n",
      "artist                                                      한명숙\n",
      "video_name    /content/drive/MyDrive/data/svs/music/우리마을-한명숙...\n",
      "lyrics        수양버들이 하늘하늘 바람을 타고 하늘하늘 물동이 이고 가는 처녀 치마자락 하늘하늘 ...\n",
      "Name: 14564, dtype: object\n",
      "titles                                              정정정 (Inst.)\n",
      "artist                                                      한영주\n",
      "video_name    /content/drive/MyDrive/data/svs/music/[TJ노래방] ...\n",
      "lyrics        사랑했던 그시절이 주마등처럼 스쳐가면 생각난다 생각난다 가고없는 그 사람이  어느 ...\n",
      "Name: 14628, dtype: object\n",
      "titles                                                       애상\n",
      "artist                                                      한혜진\n",
      "video_name    /content/drive/MyDrive/data/svs/music/Sorrow T...\n",
      "lyrics        보고싶어요 정말 난 외로움을 참 많이 느껴요 그냥 내곁에 있어줬으면 하고 생각하면 ...\n",
      "Name: 14651, dtype: object\n",
      "titles                                                 해군가 (군가)\n",
      "artist                                                       현숙\n",
      "video_name    /content/drive/MyDrive/data/svs/music/해군가-군가 노...\n",
      "lyrics        우리는 해군이다  바다가 고향  가슴속에 끓는피를 고히바치자  우리는 해군이다 바다...\n",
      "Name: 14676, dtype: object\n",
      "titles                                                     포장마차\n",
      "artist                                                       현숙\n",
      "video_name    /content/drive/MyDrive/data/svs/music/포장마차 - 현...\n",
      "lyrics        벽돌담 모퉁이에 기대선 포장마차 너도 친구 나도 친구 우연히 만나서 다정한 친구들아...\n",
      "Name: 14677, dtype: object\n",
      "titles                                                     해피데이\n",
      "artist                                                       현숙\n",
      "video_name    /content/drive/MyDrive/data/svs/music/[TJ노래방] ...\n",
      "lyrics        구름이 끼었다고 비가오나 구름위엔 또 햇살있지 내 앞길을 막는 그 무엇도 난 두렵지...\n",
      "Name: 14687, dtype: object\n",
      "titles                                                   찻집의 오후\n",
      "artist                                                      혜은이\n",
      "video_name    /content/drive/MyDrive/data/svs/music/[KY 금영노래...\n",
      "lyrics        당신과 처음 마주앉았던 조용한 찻집에 허전한마음 채울길없어 나도 몰래 여길 찾아왔어...\n",
      "Name: 14769, dtype: object\n",
      "titles                                             그대안의 블루 (MR)\n",
      "artist                                                      임영웅\n",
      "video_name    /content/drive/MyDrive/data/svs/music/[TJ노래방] ...\n",
      "lyrics        난 난 눈을 감아요 빛과 그대 모습 사라져 이제 어둠이 밀려오네 저 파란 어둠 속에...\n",
      "Name: 14830, dtype: object\n",
      "titles                                                      희망가\n",
      "artist                                                      황금심\n",
      "video_name    /content/drive/MyDrive/data/svs/music/희망가-황금심 ...\n",
      "lyrics        이 풍진 세상을 만났으니 너의 희망이 무엇이냐 부귀와 영화를 누렸으니  희망이 족할...\n",
      "Name: 14836, dtype: object\n",
      "titles                                               She's Mine\n",
      "artist                                                      박효신\n",
      "video_name    /content/drive/MyDrive/data/svs/music/[TJ노래방] ...\n",
      "lyrics        니가 예뻐 보였어 왠지 있어 보였어 너와 있고 싶었어 꼭 너를 갖고 싶었어 다가갔던...\n",
      "Name: 14931, dtype: object\n",
      "titles                                                    그보다 더\n",
      "artist                                                      박효신\n",
      "video_name    /content/drive/MyDrive/data/svs/music/[TJ노래방] ...\n",
      "lyrics        홀연히 돌아설 때에 눈물 흘리는 것은 이별 때문이 아니라 묘한 기쁨 때문에 그것보다...\n",
      "Name: 14933, dtype: object\n",
      "titles                                         꽃피는 봄이오면 (Inst.)\n",
      "artist                                                      BMK\n",
      "video_name    /content/drive/MyDrive/data/svs/music/[TJ노래방] ...\n",
      "lyrics        니가 떠난 그 후로 내 눈물은 얼 수 없나봐   얼어 붙고 싶어도 다시 흐르는 눈물...\n",
      "Name: 14953, dtype: object\n",
      "titles                                                 사랑한 시간부터\n",
      "artist                                                      BMK\n",
      "video_name    /content/drive/MyDrive/data/svs/music/[TJ노래방] ...\n",
      "lyrics        힘이 드나요.. 짐이 됐나요.. 그런 표정 싫어요.. 이미 나에게는 더이상  아무 ...\n",
      "Name: 14958, dtype: object\n",
      "titles                                 물들어 (Short Ver.) (Inst.)\n",
      "artist                                                      BMK\n",
      "video_name    /content/drive/MyDrive/data/svs/music/[TJ노래방] ...\n",
      "lyrics        머리에 얹은 너의 손 나는 잊을 수가 없어서 내 아픈 가슴을 너의 익숙함으로 다시 ...\n",
      "Name: 14962, dtype: object\n",
      "titles                                              내맘이 (Inst.)\n",
      "artist                                              혜이니 (HEYNE)\n",
      "video_name    /content/drive/MyDrive/data/svs/music/[TJ노래방] ...\n",
      "lyrics        첫눈에 내 맘에 새겨졌나 봐 의미 없는 손짓마저 내겐 너무 특별해 매일 걷던 길이 ...\n",
      "Name: 15030, dtype: object\n",
      "titles                                          새빨간 거짓말 (Inst.)\n",
      "artist                                              혜이니 (HEYNE)\n",
      "video_name    /content/drive/MyDrive/data/svs/music/[TJ노래방] ...\n",
      "lyrics        니가 뱉는 숨소리도 못 믿어 다 알고 말한 건데 넌 또 거짓말을 해 어떻게 얼굴색 ...\n",
      "Name: 15031, dtype: object\n",
      "titles                                               달라 (Inst.)\n",
      "artist                                              혜이니 (HEYNE)\n",
      "video_name    /content/drive/MyDrive/data/svs/music/[TJ노래방] ...\n",
      "lyrics          만나는 사람마다 말을해 너  달라졌어 뭔가 달라졌어 오  머리스타일에 옷까지  ...\n",
      "Name: 15035, dtype: object\n",
      "titles                                       그댄 행복에 살텐데 (Inst.)\n",
      "artist                                               리즈 (Leeds)\n",
      "video_name    /content/drive/MyDrive/data/svs/music/[TJ노래방] ...\n",
      "lyrics        혼자인 시간이 싫어 시계를 되돌려 봤죠  앞으로 앞으로  그대를 만나게  그러다 또...\n",
      "Name: 15050, dtype: object\n",
      "titles                              축가 (Celebrate Love) (Inst.)\n",
      "artist                                                      바이브\n",
      "video_name    /content/drive/MyDrive/data/svs/music/[TJ노래방] ...\n",
      "lyrics        네가 세상에 많은 사람을 스쳐 지나고 가장 사랑스러운 그녀를 만나는 순간 그렇게 네...\n",
      "Name: 15110, dtype: object\n",
      "titles                                         어디에 (Piano Ver.)\n",
      "artist                                                 미(MIIII)\n",
      "video_name    /content/drive/MyDrive/data/svs/music/[TJ노래방] ...\n",
      "lyrics        내게 찾아온 내게 찾아온 내게 찾아왔던 사랑은 어디에 돌아올 거야 돌아올 거야 말도...\n",
      "Name: 15115, dtype: object\n",
      "titles                                       넌 나의 크리스마스 (Inst.)\n",
      "artist                                                      바이브\n",
      "video_name    /content/drive/MyDrive/data/svs/music/[TJ노래방] ...\n",
      "lyrics        빛나는 길거리 울리는 캐럴이 떠오르게 하는 이름 그 이름 너란 걸 딱 너 하나란 걸...\n",
      "Name: 15126, dtype: object\n",
      "titles                                                     반딧불이\n",
      "artist                                                 미(MIIII)\n",
      "video_name    /content/drive/MyDrive/data/svs/music/[TJ노래방] ...\n",
      "lyrics        끝이 없네요 그대 사랑은 아무것도 아닌데 날 사랑한데요 그대 두눈에 감춘 눈물은 반...\n",
      "Name: 15127, dtype: object\n",
      "titles                                                    별이 운다\n",
      "artist                                                 미(MIIII)\n",
      "video_name    /content/drive/MyDrive/data/svs/music/[TJ노래방] ...\n",
      "lyrics        해가 뜬다 해가 진다   또 별이 뜬다 별이 진다   너없이 또 하루가   저물어 ...\n",
      "Name: 15128, dtype: object\n",
      "titles                                            비와 당신 (Inst.)\n",
      "artist                                                 미(MIIII)\n",
      "video_name    /content/drive/MyDrive/data/svs/music/[TJ노래방] ...\n",
      "lyrics        이젠 당신이 그립지 않죠 보고 싶은 마음도 없죠 사랑한 것도 잊혀 가네요  조용하게...\n",
      "Name: 15129, dtype: object\n",
      "titles                                 키키키 (With MIIII) (Inst.)\n",
      "artist                                                        벤\n",
      "video_name    /content/drive/MyDrive/data/svs/music/별도따준다면서-...\n",
      "lyrics        키키키키키 키키키키키 나는 키도 작고 예쁘진 않지만  노래는 잘 불러 나는 키는 크...\n",
      "Name: 15136, dtype: object\n",
      "titles                                                       여자\n",
      "artist                                                 미(MIIII)\n",
      "video_name    /content/drive/MyDrive/data/svs/music/[TJ노래방] ...\n",
      "lyrics        밥을 먹어도 혼자 야구를 봐도 혼자 거리를 걸어도 나 혼자 혼자이기 싫은데 또 방에...\n",
      "Name: 15139, dtype: object\n",
      "titles                                          바닐라 쉐이크 (Inst.)\n",
      "artist                                                      앤씨아\n",
      "video_name    /content/drive/MyDrive/data/svs/music/[TJ노래방] ...\n",
      "lyrics        MY SHAKE SHAKE SHAKE  AH AH MY SHAKE   MY SHAK...\n",
      "Name: 15159, dtype: object\n",
      "titles                                        헤어질 자신 있니 (inst.)\n",
      "artist                                                      앤씨아\n",
      "video_name    /content/drive/MyDrive/data/svs/music/[TJ노래방] ...\n",
      "lyrics        헤어질 자신 있니 나와 이별할 자신 있니 정말 할 수 있겠니 모든 게 다 사라질 텐...\n",
      "Name: 15168, dtype: object\n",
      "titles                            땡땡땡 (Feat. 화사 Of 마마무) (Inst.)\n",
      "artist                                               SURAN (수란)\n",
      "video_name    /content/drive/MyDrive/data/svs/music/[TJ노래방] ...\n",
      "lyrics        셔츠와 청바지 어머나  속옷도 어제와 똑같아  자동차 먹다 남은 커피 두개가  re...\n",
      "Name: 15202, dtype: object\n",
      "titles                     차가워진 이 바람엔 우리가 써있어(Bad Love) (Inst.)\n",
      "artist                                               HYNN (박혜원)\n",
      "video_name    /content/drive/MyDrive/data/svs/music/[TJ노래방] ...\n",
      "lyrics        넌 한숨만 또 한숨만 긴 침묵이 흐르고 차가워진 이 바람엔 우리가 써있어 먼 계절을...\n",
      "Name: 15225, dtype: object\n",
      "titles                                    오늘에게 (TO.DAY) (Inst.)\n",
      "artist                                               HYNN (박혜원)\n",
      "video_name    /content/drive/MyDrive/data/svs/music/[TJ노래방] ...\n",
      "lyrics        Hey 새로운 아침이야 새로운 나인거야 꿈만 같던 시작이야 Hey 어제의 끝자락에 ...\n",
      "Name: 15228, dtype: object\n",
      "titles                                      시든 꽃에 물을 주듯 (Inst.)\n",
      "artist                                               HYNN (박혜원)\n",
      "video_name    /content/drive/MyDrive/data/svs/music/[TJ노래방] ...\n",
      "lyrics        아무말도 아무것도 여전히 넌 여기 없고 널 원하고 널 원해도 난 외롭고 꽃이 피고 ...\n",
      "Name: 15229, dtype: object\n",
      "titles                                      아무렇지 않게, 안녕 (Inst.)\n",
      "artist                                               HYNN (박혜원)\n",
      "video_name    /content/drive/MyDrive/data/svs/music/[TJ노래방] ...\n",
      "lyrics        시간이 유난히 좀 느리게 흐르고 너와 나 그 사이에 고요함이 번질 때 기다리던 너에...\n",
      "Name: 15231, dtype: object\n",
      "titles                                        그대 없이 그대와 (Inst.)\n",
      "artist                                               HYNN (박혜원)\n",
      "video_name    /content/drive/MyDrive/data/svs/music/[TJ노래방] ...\n",
      "lyrics        하얀 눈 위에 너의 이름을 가만히 그려보네 잊고 지냈어 가끔 떠올라도 애써 또 웃어...\n",
      "Name: 15233, dtype: object\n",
      "titles                                       그대가 꽃이 아니면 (Inst.)\n",
      "artist                                               HYNN (박혜원)\n",
      "video_name    /content/drive/MyDrive/data/svs/music/[TJ노래방] ...\n",
      "lyrics        그대여 자꾸 망설이는 나를 아나요 그댈 안고싶은데 자꾸만 이렇게 겁이 나는걸요 자꾸...\n",
      "Name: 15236, dtype: object\n",
      "titles                                               막차 (Inst.)\n",
      "artist                                               HYNN (박혜원)\n",
      "video_name    /content/drive/MyDrive/data/svs/music/[TJ노래방] ...\n",
      "lyrics        한참을 뛰었더니 숨이 차올라 우리 집으로 가는 마지막 차 내일이 더 힘들고 지쳐도 ...\n",
      "Name: 15240, dtype: object\n",
      "titles                                       LET ME OUT (Inst.)\n",
      "artist                                               HYNN (박혜원)\n",
      "video_name    /content/drive/MyDrive/data/svs/music/[TJ노래방] ...\n",
      "lyrics        바람이 부는 소리에 노을 진 내방 창가에 익숙한 집 앞 거리에 그때의 우리가 내 눈...\n",
      "Name: 15241, dtype: object\n",
      "titles                                                 우리사랑 부라보\n",
      "artist                                                      한영주\n",
      "video_name    /content/drive/MyDrive/data/svs/music/[TJ노래방] ...\n",
      "lyrics        정 정 정 주고 가네 정 주고 간 사람 정 정 정말로 미워 정말 미워라 나는 나는 ...\n",
      "Name: 15244, dtype: object\n"
     ]
    }
   ],
   "source": [
    "index = []\n",
    "for num,video_name in enumerate(progress['video_name']):\n",
    "    if 'TJ노래방' in video_name or 'TJ 노래방' in video_name or '금영' in video_name or 'MR' in video_name or 'mr' in video_name:\n",
    "        print(progress.iloc[num])\n",
    "        index.append(num)"
   ]
  },
  {
   "cell_type": "code",
   "execution_count": 35,
   "metadata": {},
   "outputs": [
    {
     "output_type": "execute_result",
     "data": {
      "text/plain": [
       "418"
      ]
     },
     "metadata": {},
     "execution_count": 35
    }
   ],
   "source": [
    "len(index)"
   ]
  },
  {
   "cell_type": "code",
   "execution_count": 36,
   "metadata": {},
   "outputs": [
    {
     "output_type": "stream",
     "name": "stdout",
     "text": [
      "[60, 69, 120, 121, 127, 130, 134, 189, 206, 234, 262, 290, 292, 320, 348, 363, 450, 454, 455, 467, 591, 625, 717, 800, 829, 940, 941, 956, 958, 969, 971, 975, 976, 979, 981, 983, 1092, 1098, 1145, 1148, 1163, 1166, 1194, 1195, 1197, 1235, 1243, 1258, 1259, 1266, 1287, 1384, 1401, 1406, 1432, 1492, 1495, 1673, 1696, 1728, 1744, 1852, 1909, 1963, 2046, 2047, 2062, 2069, 2071, 2072, 2159, 2183, 2196, 2204, 2441, 2581, 2618, 2637, 2646, 2667, 2668, 2676, 2680, 2681, 2694, 2699, 2703, 2707, 2709, 2713, 2725, 2748, 2755, 2763, 2826, 2865, 2885, 2971, 2974, 3134, 3151, 3252, 3256, 3257, 3258, 3351, 3361, 3365, 3366, 3404, 3415, 3424, 3427, 3432, 3672, 3738, 3764, 3772, 3833, 3840, 3846, 3853, 3865, 3881, 3892, 3899, 3923, 3956, 4075, 4080, 4154, 4230, 4251, 4353, 4394, 4408, 4411, 4420, 4484, 4508, 4559, 4561, 4574, 4575, 4589, 4630, 4643, 4688, 4689, 4705, 4726, 4757, 4929, 4942, 4950, 4961, 5016, 5127, 5156, 5184, 5280, 5310, 5327, 5364, 5542, 5554, 5629, 5679, 5703, 5820, 5860, 5952, 5961, 5972, 5982, 5991, 6005, 6093, 6160, 6241, 6244, 6260, 6273, 6310, 6311, 6314, 6433, 6485, 6487, 6561, 6564, 6647, 6666, 6667, 6699, 6748, 6759, 6796, 6808, 6832, 6839, 6850, 6860, 6869, 6874, 6897, 6909, 6921, 6938, 6994, 6998, 7001, 7006, 7072, 7084, 7124, 7187, 7194, 7214, 7225, 7228, 7240, 7270, 7344, 7367, 7484, 7542, 7559, 7581, 7730, 7743, 7797, 7826, 7903, 7928, 7934, 8010, 8022, 8083, 8088, 8228, 8401, 8630, 8681, 8691, 8700, 8857, 8874, 8980, 9100, 9109, 9132, 9175, 9184, 9193, 9206, 9337, 9338, 9428, 9500, 9537, 9543, 9546, 9552, 9568, 9658, 9660, 9662, 9864, 9927, 9966, 9971, 9972, 9975, 10041, 10074, 10122, 10132, 10160, 10227, 10235, 10295, 10335, 10380, 10384, 10454, 10472, 10493, 10543, 10626, 10893, 10909, 10928, 10949, 10951, 10957, 10961, 10997, 10999, 11001, 11098, 11099, 11137, 11140, 11160, 11176, 11178, 11190, 11218, 11229, 11249, 11301, 11347, 11383, 11384, 11388, 11553, 11590, 11591, 11606, 11612, 11630, 11873, 11890, 12007, 12248, 12332, 12406, 12435, 12510, 12624, 12632, 12710, 12776, 12791, 12794, 12808, 12827, 12829, 12841, 12919, 12955, 12969, 12973, 12995, 12999, 13006, 13021, 13028, 13166, 13226, 13242, 13243, 13244, 13250, 13253, 13260, 13313, 13323, 13377, 13428, 13440, 13546, 13559, 13609, 13681, 13720, 13721, 13777, 13855, 13895, 14028, 14117, 14124, 14263, 14373, 14458, 14475, 14501, 14505, 14564, 14628, 14651, 14676, 14677, 14687, 14769, 14830, 14836, 14931, 14933, 14953, 14958, 14962, 15030, 15031, 15035, 15050, 15110, 15115, 15126, 15127, 15128, 15129, 15136, 15139, 15159, 15168, 15202, 15225, 15228, 15229, 15231, 15233, 15236, 15240, 15241, 15244]\n"
     ]
    }
   ],
   "source": [
    "print(index)"
   ]
  },
  {
   "cell_type": "code",
   "execution_count": 37,
   "metadata": {},
   "outputs": [],
   "source": [
    "MR_del_data = progress.drop(index = index)"
   ]
  },
  {
   "cell_type": "code",
   "execution_count": 39,
   "metadata": {},
   "outputs": [],
   "source": [
    "MR_del_data.to_csv('data/Mr_removed.lyrics_alinged.tab_removed.tsv',index=False,header=None,sep='\\t')"
   ]
  },
  {
   "cell_type": "code",
   "execution_count": 47,
   "metadata": {},
   "outputs": [
    {
     "output_type": "stream",
     "name": "stdout",
     "text": [
      "49 정동하\n41 알리 (ALi)\n51 방탄소년단\n42 한영애\n46 강성훈\n69 윤종신\n47 김호중\n44 플라이 투 더 스카이\n62 MC몽\n45 유영진\n53 성시경\n42 권인하\n58 박효신\n47 박상민\n44 김건모\n41 이효리\n50 김경호\n61 아이유\n43 김동률\n42 김민종\n45 김범수\n42 The One (더원)\n63 임영웅\n50 영탁\n44 윤건\n43 서영은\n48 볼빨간사춘기\n42 김진호 (SG워너비)\n45 린\n43 김혁건\n48 다비치\n42 이석훈\n45 거미\n52 지아\n48 윤하 (YOUNHA)\n44 기리보이\n43 헤이즈 (Heize)\n42 넬 (NELL)\n48 에픽하이 (EPIK HIGH)\n43 노라조\n49 케이윌\n45 BIGBANG\n47 달빛요정 역전만루홈런\n50 더보이즈 (THE BOYZ)\n45 태연 (TAEYEON)\n41 손승연\n46 싸이 (PSY)\n47 로이킴\n41 루시드폴\n44 장윤정\n42 가비엔제이\n47 버즈\n45 소향\n50 폴킴\n42 장범준\n41 휘성 (Realslow)\n42 신승훈\n41 신해철\n42 에릭남 (Eric Nam)\n41 허각\n42 벤\n43 황치열\n42 정준일\n44 왁스\n47 임창정\n45 이승환\n45 이승기\n43 박혜경\n52 이찬원\n42 임태경\n45 혁오 (HYUKOH)\n41 양수경\n41 엄정화\n44 조항조\n47 진해성\n44 홍대광\n44 DAY6 (데이식스)\n41 KCM\n44 SE7EN\n42 최진희\n43 나희경\n46 심규선 (Lucia)\n42 적우\n44 이미자\n41 서문탁\n45 제이세라\n41 안예슬\n41 웅산\n4006\n88\n"
     ]
    },
    {
     "output_type": "error",
     "ename": "TypeError",
     "evalue": "unsupported operand type(s) for +: 'int' and 'str'",
     "traceback": [
      "\u001b[1;31m---------------------------------------------------------------------------\u001b[0m",
      "\u001b[1;31mTypeError\u001b[0m                                 Traceback (most recent call last)",
      "\u001b[1;32m<ipython-input-47-e24477b63423>\u001b[0m in \u001b[0;36m<module>\u001b[1;34m\u001b[0m\n\u001b[0;32m     23\u001b[0m \u001b[0mprint\u001b[0m\u001b[1;33m(\u001b[0m\u001b[0msong_count\u001b[0m\u001b[1;33m)\u001b[0m\u001b[1;33m\u001b[0m\u001b[1;33m\u001b[0m\u001b[0m\n\u001b[0;32m     24\u001b[0m \u001b[0mprint\u001b[0m\u001b[1;33m(\u001b[0m\u001b[0msinger_count\u001b[0m\u001b[1;33m)\u001b[0m\u001b[1;33m\u001b[0m\u001b[1;33m\u001b[0m\u001b[0m\n\u001b[1;32m---> 25\u001b[1;33m \u001b[0mf\u001b[0m\u001b[1;33m.\u001b[0m\u001b[0mwrite\u001b[0m\u001b[1;33m(\u001b[0m\u001b[0msong_count\u001b[0m\u001b[1;33m+\u001b[0m\u001b[1;34m'\\n'\u001b[0m\u001b[1;33m+\u001b[0m\u001b[0msinger_count\u001b[0m\u001b[1;33m)\u001b[0m\u001b[1;33m\u001b[0m\u001b[1;33m\u001b[0m\u001b[0m\n\u001b[0m\u001b[0;32m     26\u001b[0m \u001b[1;31m#\u001b[0m\u001b[1;33m\u001b[0m\u001b[1;33m\u001b[0m\u001b[1;33m\u001b[0m\u001b[0m\n\u001b[0;32m     27\u001b[0m \u001b[1;31m#    f.writelines(song_count)\u001b[0m\u001b[1;33m\u001b[0m\u001b[1;33m\u001b[0m\u001b[1;33m\u001b[0m\u001b[0m\n",
      "\u001b[1;31mTypeError\u001b[0m: unsupported operand type(s) for +: 'int' and 'str'"
     ]
    }
   ],
   "source": [
    "import pandas as pd\n",
    "from pprint import pprint as pp\n",
    "\n",
    "appropriate = []\n",
    "artist_counter = {}\n",
    "\n",
    "for i in range(len(MR_del_data)):\n",
    "    try:\n",
    "        artist_counter[MR_del_data.iloc[i]['artist']] += 1\n",
    "    except:\n",
    "        artist_counter[MR_del_data.iloc[i]['artist']] = 1\n",
    "\n",
    "song_count = 0\n",
    "singer_count = 0\n",
    "with open('data/singer_list.txt','w',encoding='UTF-8') as f:\n",
    "    for key,value in artist_counter.items():\n",
    "        if value > 40:\n",
    "            appropriate.append(key)\n",
    "            print(str(value) + \" \" + key)\n",
    "            f.write(str(value) + \" \" + key+'\\n')\n",
    "            song_count += value\n",
    "            singer_count += 1\n",
    "print(song_count)\n",
    "print(singer_count)\n",
    "#\n",
    "#    f.writelines(song_count)"
   ]
  },
  {
   "cell_type": "code",
   "execution_count": 49,
   "metadata": {},
   "outputs": [
    {
     "output_type": "stream",
     "name": "stdout",
     "text": [
      "                 titles    artist  \\\n34  아름다운 강산 (With. 민영기)       정동하   \n38              아름다운 강산  알리 (ALi)   \n40                 팔도강산     방탄소년단   \n42    ...라구요 (원곡가수 강산에)       한영애   \n43  아껴둔 이야기 (Full Ver.)       강성훈   \n\n                                           video_name  \\\n34  /content/drive/MyDrive/data/svs/music/불후의명곡 Im...   \n38  /content/drive/MyDrive/data/svs/music/알리 - 아름다...   \n40  /content/drive/MyDrive/data/svs/music/BTS - Pa...   \n42  /content/drive/MyDrive/data/svs/music/[ROCK] 강...   \n43  /content/drive/MyDrive/data/svs/music/강성훈   아껴...   \n\n                                               lyrics  \n34  하늘은 파랗게 구름은 하얗게 실바람도 불어와 부풀은 내 마음 나뭇잎 푸르게 강물도 ...  \n38  하늘은 파랗게 / 구름은 하얗게 실바람도 불어와 / 부풀은 내 마음 나뭇잎 푸르게 ...  \n40  Yo once again  Bighit Represent  우리는 방탄소년단  Le...  \n42  두만강 푸른 물에 노 젓는 뱃사공을  볼 수는 없었지만  그 노래만은 너무 잘 아는...  \n43  아직도 그대로인지 시간이 데려간 니모습 힘이 들어도 나의 하나까지도 아껴주는지 저녁...  \n"
     ]
    }
   ],
   "source": [
    "data_list = MR_del_data[MR_del_data['artist'].isin(appropriate)]\n",
    "\n",
    "print(data_list.head())\n",
    "data_list.to_csv('data/singer_up40.mr_removed.lyrics_alinged.tab_removed.tsv',index=False,header=None,sep='\\t') "
   ]
  },
  {
   "cell_type": "code",
   "execution_count": 52,
   "metadata": {},
   "outputs": [
    {
     "output_type": "stream",
     "name": "stdout",
     "text": [
      "                 titles    artist  \\\n0     바람기억 (웃는 얼굴에 수박씨)  강균성 (노을)   \n1          사랑은 언제나 목마르다  강균성 (노을)   \n2                널 볼때마다  강균성 (노을)   \n3              처음 그 날처럼  강균성 (노을)   \n4  내 눈물 모아 (웃는 얼굴에 수박씨)  강균성 (노을)   \n\n                                          video_name  \\\n0  /content/drive/MyDrive/data/svs/music/[King of...   \n1  /content/drive/MyDrive/data/svs/music/애절함의 대명사...   \n2  /content/drive/MyDrive/data/svs/music/강균성(kang...   \n3  /content/drive/MyDrive/data/svs/music/노을 2015 ...   \n4  /content/drive/MyDrive/data/svs/music/[King of...   \n\n                                              lyrics  \n0  바람 불어와 내 맘 흔들면 지나간 세월에  두 눈을 감아본다 나를 스치는 고요한 떨...  \n1  그렇게 많이 사랑한다 했는데  이제야 사랑을 알 것 같아요  부탁이 있어 제발 용서...  \n2  왜 이렇게 힘들죠 나에겐 익숙한 일인데 조금씩 비틀거려요 갑자기 왜 화가 나려고 하...  \n3  가야 한다고 어쩔 수 없다고 너의 손잡은 채 나는 울고만 있었지 언젠가는 꼭 돌아올...  \n4  창 밖으로 하나 둘씩  별빛이 꺼질 때쯤이면  하늘에 편지를 써 날 떠나 다른 사람...  \n"
     ]
    }
   ],
   "source": [
    "unused_data = MR_del_data.drop(index = MR_del_data[MR_del_data['artist'].isin(appropriate)].index)\n",
    "print(unused_data.head())\n",
    "unused_data.to_csv('data/singer_under40.tsv',index=False,header=None,sep='\\t')"
   ]
  },
  {
   "cell_type": "code",
   "execution_count": 5,
   "metadata": {},
   "outputs": [],
   "source": [
    "#4/22\n",
    "import pandas as pd\n",
    "\n",
    "ipa_f = 'data/test_ipa2.txt'\n",
    "data_f = 'data/singer_up40.mr_removed.lyrics_alinged.tab_removed.tsv'\n",
    "\n",
    "data = pd.read_csv(data_f,sep='\\t')"
   ]
  },
  {
   "cell_type": "code",
   "execution_count": 6,
   "metadata": {},
   "outputs": [
    {
     "output_type": "execute_result",
     "data": {
      "text/plain": [
       "                titles    artist  \\\n",
       "0  아름다운 강산 (With. 민영기)       정동하   \n",
       "1              아름다운 강산  알리 (ALi)   \n",
       "2                 팔도강산     방탄소년단   \n",
       "3    ...라구요 (원곡가수 강산에)       한영애   \n",
       "4  아껴둔 이야기 (Full Ver.)       강성훈   \n",
       "\n",
       "                                          video_name  \\\n",
       "0  /content/drive/MyDrive/data/svs/music/불후의명곡 Im...   \n",
       "1  /content/drive/MyDrive/data/svs/music/알리 - 아름다...   \n",
       "2  /content/drive/MyDrive/data/svs/music/BTS - Pa...   \n",
       "3  /content/drive/MyDrive/data/svs/music/[ROCK] 강...   \n",
       "4  /content/drive/MyDrive/data/svs/music/강성훈   아껴...   \n",
       "\n",
       "                                              lyrics  \n",
       "0  하늘은 파랗게 구름은 하얗게 실바람도 불어와 부풀은 내 마음 나뭇잎 푸르게 강물도 ...  \n",
       "1  하늘은 파랗게 / 구름은 하얗게 실바람도 불어와 / 부풀은 내 마음 나뭇잎 푸르게 ...  \n",
       "2  Yo once again  Bighit Represent  우리는 방탄소년단  Le...  \n",
       "3  두만강 푸른 물에 노 젓는 뱃사공을  볼 수는 없었지만  그 노래만은 너무 잘 아는...  \n",
       "4  아직도 그대로인지 시간이 데려간 니모습 힘이 들어도 나의 하나까지도 아껴주는지 저녁...  "
      ],
      "text/html": "<div>\n<style scoped>\n    .dataframe tbody tr th:only-of-type {\n        vertical-align: middle;\n    }\n\n    .dataframe tbody tr th {\n        vertical-align: top;\n    }\n\n    .dataframe thead th {\n        text-align: right;\n    }\n</style>\n<table border=\"1\" class=\"dataframe\">\n  <thead>\n    <tr style=\"text-align: right;\">\n      <th></th>\n      <th>titles</th>\n      <th>artist</th>\n      <th>video_name</th>\n      <th>lyrics</th>\n    </tr>\n  </thead>\n  <tbody>\n    <tr>\n      <th>0</th>\n      <td>아름다운 강산 (With. 민영기)</td>\n      <td>정동하</td>\n      <td>/content/drive/MyDrive/data/svs/music/불후의명곡 Im...</td>\n      <td>하늘은 파랗게 구름은 하얗게 실바람도 불어와 부풀은 내 마음 나뭇잎 푸르게 강물도 ...</td>\n    </tr>\n    <tr>\n      <th>1</th>\n      <td>아름다운 강산</td>\n      <td>알리 (ALi)</td>\n      <td>/content/drive/MyDrive/data/svs/music/알리 - 아름다...</td>\n      <td>하늘은 파랗게 / 구름은 하얗게 실바람도 불어와 / 부풀은 내 마음 나뭇잎 푸르게 ...</td>\n    </tr>\n    <tr>\n      <th>2</th>\n      <td>팔도강산</td>\n      <td>방탄소년단</td>\n      <td>/content/drive/MyDrive/data/svs/music/BTS - Pa...</td>\n      <td>Yo once again  Bighit Represent  우리는 방탄소년단  Le...</td>\n    </tr>\n    <tr>\n      <th>3</th>\n      <td>...라구요 (원곡가수 강산에)</td>\n      <td>한영애</td>\n      <td>/content/drive/MyDrive/data/svs/music/[ROCK] 강...</td>\n      <td>두만강 푸른 물에 노 젓는 뱃사공을  볼 수는 없었지만  그 노래만은 너무 잘 아는...</td>\n    </tr>\n    <tr>\n      <th>4</th>\n      <td>아껴둔 이야기 (Full Ver.)</td>\n      <td>강성훈</td>\n      <td>/content/drive/MyDrive/data/svs/music/강성훈   아껴...</td>\n      <td>아직도 그대로인지 시간이 데려간 니모습 힘이 들어도 나의 하나까지도 아껴주는지 저녁...</td>\n    </tr>\n  </tbody>\n</table>\n</div>"
     },
     "metadata": {},
     "execution_count": 6
    }
   ],
   "source": [
    "data.head()"
   ]
  },
  {
   "cell_type": "code",
   "execution_count": 10,
   "metadata": {
    "tags": [
     "outputPrepend"
    ]
   },
   "outputs": [
    {
     "output_type": "stream",
     "name": "stdout",
     "text": [
      "uɫtɛqɐdʑimɐn puthɐqijɐ tɕoqɯmmɐn dʌ nʌɾɯɫ poɫ su itke mjʌtʃhiɫdʑʌn ujʌnhi poɐttʌn tɕithɯn hwɐdʑɐŋɯj tʃhwihɐn nemosɯp sumqiqo siphɯn to dɐɾɯn sɐlmi ittɐmjʌn ʌndʑeqɐdʑi moɾɯntʃhʌq hɐɫthende hɐnbʌnmɐn dwedoljʌ tɕuɫsunɯn ʌpkenni ʌtʌtkhe idɛɾo sɐɾɐŋi qɯnnɐni hɛŋbokhɛttʌn tʃhʌɯmɯɾo doɾɐqɐɫ su itke hʌɾɐkhɛdʑwʌ nʌdo ɡiʌkhɐni sumi mʌtɕɯɫ dɯt sɐɾɐŋhɛttʌn qumbodɐdo dʌ ɐɾɯmdɐwʌ pusʌdʑiɫqʌt ɡɐttʌn nunbusin sunqɐndɯɫ ɡiʌkho nɐɫ duqo tʌnɐjɐ hɐndɐmjʌn tʃhuʌqi nunmuɾi dweʌjɐ hɐndɐmjʌn puthɐqijɐ tɕoqɯmmɐn dʌ nʌɾɯɫ poɫsuitke \\n', 'nɛqen iɾʌniɫ ʌpsɯɫqʌɾɐ midko sɐɾɐsʌttɕjo nʌmu ʌɾisʌqkedo hɐɾudʑoŋiɫ nɐn mʌŋhɐni hɐnɯɫmɐn pɐɾɐboqe dwɛttɕjo ɡɯɾʌtkhe dwenqʌdʑjo nɐɾɯɫ noɯɫsun ʌpsɯɫqʌɾɐ ɡɯdɛɫ midʌsʌttɕjo tɕʌŋmɐɫ pɐbotʃhʌɾʌm nɐn nɐɾi ɡɐɫsuɾoq tɕɐqu ɡɯdɛ mosɯp tʌolɐ nɛnune hɐnɯɾɯɫ dɐmqettɕjo ɡɯ nuqudo ɡɯdɛiɫ sun ʌptɐqo puttɕɐpnɯn nɐ nʌmu ʌsɛkhɐqettɕjo tɕʌŋmɐɫ ɡɯ hɯnhɐn sɐɾɐŋhɐndɐn mɐɫdʑotʃhɐ hɛdʑudʑi mosɐn nɐɾɯɫ ɡɯnjɐŋ mɐɯmqʌt jokhɛjo ɡɯdɛɫ tɕɐptɕinɯn ɐnɯɫqʌɾɐ ɡɯdɛn midʌtkettɕjo tɕʌŋmɐɫ ɡɯɾɛsʌnnɐjo nɐɾiqɐɫsuɾoq tɕɐqu ɡɯdɛ mosɯp tʌolɐ nɛnune hɐnɯɾɯɫ dɐmqettɕjo ɡɯ nuqudo ɡɯdɛiɫ sun ʌptɐqo puttɕɐpnɯn nɐ nʌmu ʌsɛkhɐqettɕjo tɕʌŋmɐɫ ɡɯ hɯnhɐn sɐɾɐŋhɐndɐn mɐɫdʑotʃhɐ hɛdʑudʑi mosɐn nɐɾɯɫ ɡɯnjɐŋ mɐɯmqʌt jokhɛjo ɡɯɾʌtkhe himdɯɾʌnnɐjo tɕʌŋmɐɫ miɐnhɛsʌjo imi nɐn ɡɯdɛ ʌpsinɯn ɡʌɾɯɫsudo ʌptɕjo tɕʌŋmɐɫ tɕɐɫ hɐɫsu ittɐqo mɐɾɯɫ hɛdo nʌmu nɯtɕɯn ɡʌqettɕjo idʑe ɡɯ hɯnhɐn sɐɾɐŋhɐndɐn mɐɫdʑotʃhɐ hɐɫ su ʌpkettɕjo nɐɾɯɫ wihɛ tɕɐpɯn qɯn noɐjo nɐɾɯɫ wihɛ tɕɐpɯn qɯn noɐjo \\n', 'ɐmuɾʌn ɡʌqtɕʌŋhɐdʑi mɐɾɐjo nɐ hɐnɐ ʌptɐqo i sesɐŋi pɐqwidʑin ɐnɐ tʃhɐmɯɫ su ʌpsi ɐphɯn sɐŋtʃhʌdo ɡɯdɛqɐ tɕwʌsɯni sodʑuŋhɐqe ɡɐndʑikhɐɫqejo ɡɯdɛɾɯɫ hjɐŋhɐn miumdo nɐɫ wihɛ tɕun sʌnmuɾiɾɐ sɛŋqɐkhɐmjʌ nɐɫ sɐɾɐqɐqettɕjo sɐɾɐŋhɐn ɡʌlo dwɛsʌjo nɛqɐ dʌ mwʌɫ pɐɾɐɫ su isɯɫqɐjo ɡɯdɛɫ tɕoqɯm dʌ ɡjʌthe duɾjʌhɛttʌn hʌttwen joqsimi tɕweinqʌɾjo jʌŋwʌnhi itko sɐɾɐjo nɐdo ɡɯdɛɫ moɾɯndɐ mɐɫhɐɫqejo duqo posejo uɾin dɐn hɐn pʌndo i sesɐŋesʌ mɐnnɐn tɕʌq ʌptɐqo mɐɫhɐɫtheniqɐ ɡɯdɛɾɯɫ hjɐŋhɐn miumdo nɐɫ wihɛ tɕun sʌnmuɾiɾɐ sɛŋqɐkhɐmjʌ nɐɫ sɐɾɐqɐqettɕjo sɐɾɐŋhɐn ɡʌlo dwɛsʌjo nɛqɐ dʌ mwʌɫ pɐɾɐɫ su isɯɫqɐjo ɡɯdɛɫ tɕoqɯm dʌ ɡjʌthe duɾjʌ hɛttʌn hʌttwen joqsimi tɕweinqʌɾjo jʌŋwʌnhi itko sɐɾɐjo nɐdo ɡɯdɛɫ moɾɯndɐ mɐɫhɐɫqejo duqo posejo uɾin dɐn hɐnbʌndo i sesɐŋesʌ mɐnnɐn tɕʌq ʌptɐqo mɐɫhɐɫtheniqɐ \\n', 'ɡɯdɛqɐ nɐɫ puɾɯdʑi ɐnɐnnɐjo hɐɾudʑoŋiɫ tʃhɐŋbɐkɯɫ pwɐttɕjo nɛɐne innɯn ɡɯdɛɫ qʌnɛqiqɐ nʌmu himi dɯɾʌ tʃhɐqkɐqɯɫ hɐnqʌdʑjo tɕiqɯmdo ɡɯdɛsumqjʌɾɯɫ nɯqidʑjo dɐsin mɐnnɐdʑi ɐnkhettɐmjʌ himdɯɾʌdo tʃhɐmqettɐdʌn jɐqsoqɯɫ idʑen nɐ tɕɐsindʑotʃhɐ midɯɫ su ʌpnejo doɾɐoɫ su ʌptɐnɯnqʌɫ nɐnɯn tɕɐɫ ɐɫqoittɕjo sɐɾɐŋhɐnmɐnkhɯmi nɛ moksiɾɐnqʌtto iɾʌtkhe ɐphɐhɐmjʌn itɕɯɫtɛdo dwɛnnɯnde tɕuqnɯnqʌtpodɐ dʌ ɐndwɛjo dɐ modɯn ɐphɯn ɡiʌqɯɫ nɛqɐ hondʑɐ ɐnɯntʃhɛ sɐɾɐqɐɫtheni ittɕimɐɾɐjo tɕebɐɫ hondʑɐin nɛqɐ duɾjʌwʌ to nuquɫ mɐnnɐqettɕjo ɡɯdɛn tɕɐɾinnɐjo ɐnijejo nɐɾɯɫ pʌɾiqo tʌnɐn ɡɯdɛn ɐɾɯmdɐuɫ sun isʌdo hɛŋbokhɐdʑin mosɐɫqʌjejo ɡɯ modɯn ɡiʌqsoqesʌ pʌsʌnɐɫ su ʌpsɯni dɐsi nɛqe doɾɐwɐdʑwʌjo tɕebɐɫ \\n', 'weɫkhʌm thu njujoqtɪldə je tɪldə njujoq siɾi tɪldə njujoqsiɾi jɐ wɐ uɾiqɐ njujoqɯɫ wɐsʌ tɕʌqe uɾiqɐ jʌpsʌesʌ podʌn ɡɯ thɐimsɯkhweʌ thɐimsɯkhweʌ tɪldə wɐ tɪldə tɕintɕɐ ʌmtʃhʌŋnɐdɐ siɫdʑeɾo poniqɐ jʌqi nʌmu tɕotthɐ wɐ jʌdʑɐdɯɫ nʌmu ipʌ jɐ dɐ nɛ isɐŋhjʌŋijɐ hjʌŋ tɕʌ jʌdʑɐ pwɐbwɐ tɕʌ jʌdʑɐ tʃhjʌdɐbonɯnqʌ ɡɐthɛ wequqini nɐɫ ʌtʌtkhe ɐɾɐ ɐɫdʑi hjʌŋ keɪpɒp tɕiqɯm tɕɐŋnɐn ɐnijɐ hjʌŋ poqosiptɐ qɯtsɐɾɐŋ dɐ ɐɾʌ tɕʌnseqje sɐɾɐmdɯɫ wequqinɯn dɐ tʃhindʑʌɫhɛ tɪldətɪldətɪldə hjʌŋ khi tɕoqɯm oljʌ wɛ ɡjesoq tʃhjʌdɐbwɐ hjʌŋɯn tʃhjʌdɐbodʑimɐ tɕʌŋmɐlo jɐqkɐn khi sɐɫtɕɐq oliqo sʌnqɯlɐsɯ tɕomdʌ nophi sɯqo jʌŋʌ hɐɫ tɕuɫ ɐɫdʑi hjʌŋ hɐnɐdo mosɛtɪldətɪldətɪldə oqoittɐ ondɐ iqsɯkhjudʑɯmi hɐi tɪldətɪldə pʌmsukhim je jesɯ o mɐiqɐswitɪldə pʌmsu khim jesɯjesɯ tɪldə omɐiqɐt tɪldə ɐ je okhei tholʌ hɛnsʌm phʌɫsɯn peɾibeɾi ɡut tɪldə ʌm soɾi phɐdɯn athɐʃdɒləatdələpəsɛntɐndastəɹɪsk ʌm so so soso ju \\n', 'tɕʌ mʌn pɐdɐ qɯthen mwʌqɐ isɯɫqɐ dɐɾɯn muʌnqɐ sesɐŋqwɐnɯn mʌn jɛqi ɡuɾɯm wiɾo olɐqɐmjʌn poiɫqɐ tʃhʌnsɐwɐ nɐphɐɫ punɯn ɐidɯɫ sup soq ʌdienqɐ ɡwiɾɯɫ dɛbomjʌn odʑiq nɛqemɐn tɕɐqke dɯljʌonɯn moqsoɾi qumɯɫ qunɯn dɯsi nɐɾɐqɐboɫqɐ tɕʌqi nophɯn ɡot ɐmudo ʌpnɯn seqje ɡɯɾʌtkhedo mɐnthʌn tɕiɫmunqwɐ phulidʑi mosɐn nɐɯj sumɐnɯn jɛqiqɐ doɾɐboqo sʌmjʌn ʌndʑebuthʌnqɐ nɐdo molɛ itko ittʌn nɐmɐnɯj pimiɫ idʑe tɕʌŋmɐɫ wɛ iɾɛ nɐ idʑe khʌbʌɾin ɡʌɫqɐ idʑe tɕʌŋmɐɫ mwʌnqɐ iɾʌbʌɾin ɡiʌq tɕiqɯm nɛ mɐm idʑen nɐɯj ɡɯ tɕɐqɯn somɐŋqwɐ qumɯɫ iltʃhʲi ɐnkhiɾɯɫ tɕʌ hɐnɯɫ soqe soqsɐqilɛ qɐmɐn pɐmhɐnɯɾe pɐkke pinnɐdʌn pjʌɫdɯɫ ɡɐunde nɐ thɛʌnɐn ɡot isɯɫqɐ nɐnɯn tɕiquinqwɐ dɐɾɯn ɡosesʌ nɛɾjʌ on ɡʌɾɐ midko sipkido hɛsʌ ɡɯɾʌtkhedo mɐnthʌn tɕiɫmunqwɐ phulidʑi mosɐn nɐɯj sumɐnɯn jɛqiqɐ doɾɐboqo sʌmjʌn ʌndʑebuthʌnqɐ nɐdo molɛ itko ittʌn nɐmɐnɯj pimiɫ idʑe tɕʌŋmɐɫ wɛ iɾɛ nɐ idʑe khʌbʌɾin ɡʌɫqɐ idʑe tɕʌŋmɐɫ mwʌnqɐ iɾʌbʌɾin ɡiʌq tɕiqɯm nɛ mɐm idʑen nɐɯj ɡɯ tɕɐqɯn somɐŋqwɐ qumɯɫ iltʃhʲi ɐnkhiɾɯɫ tɕʌ hɐnɯɫ soqe soqsɐqilɛ nʌmunɐdo tɕoɯn hjɐŋqiwɐ pɐɾɐmi nɐeqeɾo dɐqɐwɐ ʌnɯ sɛnqɐ nɐdo moɾɯqe ɡɐmɐnhi dɯljʌonɯn tɕɐqɯn soqsɐqim ɡwiɾɯɫ ɡiuɾiqo pulʌbosejo dɐsi tʃhɐtke dweɫ ɡʌjejo ithjʌdʑin ɡiʌq sɛŋqɐkhɛbwɐ nɐ idʑe dʌ isɐŋ nottʃhidʑin ɐnɐ sodʑuŋhɛttʌn nɐɯj iɾʌbʌɾin ɡiʌq tɕiqɯm nɛ mɐm idʑen nɐɯj ɡɯ tɕɐqɯn somɐŋqwɐ qumɯɫ iltʃhʲi ɐnkhiɾɯɫ tɕʌ hɐnɯɫ soqe soqsɐqilɛ wɛ iɾɛ nɐ idʑe khʌbʌɾin ɡʌɫqɐ idʑe tɕʌŋmɐɫ mwʌnqɐ iɾʌbʌɾin ɡiʌq tɕiqɯm nɛ mɐm idʑen nɐɯj ɡɯ tɕɐqɯn somɐŋqwɐ qumɯɫ iltʃhʲi ɐnkhiɾɯɫ tɕʌ hɐnɯɫ soqe ɡidohɐlɛ \\n', 'sipnjʌndwie nɛ tɕɐsineqe ponɛnɯn phjʌndʑi ɡɐɯɫbɐɾɐme hwimɐljʌdʑin hɐn nɐqjʌpi hɐn nɐmudqɐdʑi tʌnɐ mʌn nɐɾɐɾo nɐɾɐqɐdɯsi nɐn nɛ mɐmɯj puɾiesʌ mʌɾʌdʑiɫqɐ ʌɫmɐnɐ pjʌnhɛsɯɫqɐ tɕɐsinɯn nɛ tɕɐsiqtɯɾeqen sɐɾɐŋɯɫ pɐnnɯn fɑːðə ɐnimjʌn ɡɐsiqtwen tɕonqjʌŋpunɯɾo ipkwɐ nunɯɾon ɡoŋqjʌŋ soq mɐɯmɯɾon ɡoŋqjʌq pɐdɯmjʌ tɕipɯn tiːviː dɹɑːmətʃhʌɾʌm qumjʌdʑin phuŋqjʌŋ phuŋsʌŋhɐn puɾo nɐnɯn moqphjo ʌpsi hɯlʌqɐnɯn siqɐntʃhʌɾʌm qumɯɫ pʌɾiɫqɐ ɐnim ɐtʃhim iɫtɕiqputhʌ tɕɐqɯn pɐŋbɐdɐqe sinmundʑiɾɯɫ phjʌ iɫ tʃhɐtɕɐ hemɛɫqɐ dɛθ and laɪfmʌɾikhɐɾɐq hɐnɐ tʃhɐi mɐnnɐmqwɐ ɡʊdbaɪ tɕoŋi hɐn tɕɐŋɯj tuː saɪdz tɕuɫdʑɐɾo tɕɛbwɐ sɐlmɯn qɯthɯn mʌɫdʑi ɐnɐ hʌnɐ nɐwɐ mʌnɐ mʌn nʌɯj ɡʌɾin ɡiɾʌ nʌmunɐ nɐɾɐqɐnnɐ sɛqɐ dwɛ (nɐɾɐnɐɾɐqɐ tɕʌ mʌli nɐɾɐqɐ )tʃhɐtɕɐqɐnnɐ nɛqɐ (dwebɐdɐ tʃhɐtɕɐqɐ ne tɕɐɾiɫ tʃhɐtɕɐqɐ )mʌɾʌdʑjʌnnɐ ɡwɐqʌsoqɯj nɐ (doɾɐwɐ mʌlisʌ doɾɐwɐ )ɡʌɾʌqɐnɐ i ɡiɾɯɫ (tɐɾɐ tɐɾɐqɐ i ɡiɾɯɫ tɐɾɐqɐ )sipnjʌn dwie nɛ tɕɐsineqe ponɛnɯn phjʌndʑi i sipnjʌn ɡɐdɯq sɐɯn huhweɯj thɐpkwɐ dɐli nɐɯj sinnjʌmqwɐ midɯm ɐphe nɐ tɕʌɫdɛ pjʌntʃhi ɐnɯn tʃhɛɾo hɯndɯlim ʌpsi sɐɾɐqɐqiɫ oɫbɐɾɯn ɡiɾɯɫ ɡʌɾʌqɐqi wihɛ nɐɯj thɐkhɐn du nunqwɐ nɛ du ɡwiɾɯɫ mɐqko mɐɯmɯj nunɯɾo isɐŋɯɫ qumquqo oɫbɐɾɯn ɡiphumɯɾo nɐɯj sɐlmɯn sumswiqo hʌttwen joqsimqwɐ ɡʌdʑittwen hɛŋsiɾɯj ɡjʌɫqwɐnɯn modu dɐ (tɕʌnbudɐmjʌt )pɛɾo nɛqe doɾɐwɐ pɛɾɯɫ tʃhɛun joqsimɐ pɛɾɯɫ thɐqo tʌnɐqɐ pɛɾo dɐsi thɛʌnɐ tɕinɯn qotpodɐ thɐmsɯɾʌun jʌɫmɛqɐ dweqiɫ pinɯn nɐnɯn dɐɫkhomhɐmɯɾo ɡɐdɯq tʃhɛwʌdʑin pɛ soqtʃhʌɾʌm ʌmʌniɯj phum soqtʃhʌɾʌm dɐɫkhomhɐn qum soqe tɕʌtɕʌ sɐɾɐqɐ nɐɾɐqɐnnɐ sɛqɐ dwɛ (nɐɾɐnɐɾɐqɐ tɕʌ mʌli nɐɾɐqɐ )tʃhɐtɕɐqɐnnɐ nɛqɐ (dwebɐdɐ tʃhɐtɕɐqɐ ne tɕɐɾiɫ tʃhɐtɕɐqɐ )mʌɾʌdʑjʌnnɐ ɡwɐqʌsoqɯj nɐ (doɾɐwɐ mʌlisʌ doɾɐwɐ )ɡʌɾʌqɐnɐ i ɡiɾɯɫ (tɐɾɐ tɐɾɐqɐ i ɡiɾɯɫ tɐɾɐqɐ )tɕinɐbʌɾin siqɐndɯɫ soqe pjʌnhɛbʌɾin nɐɯj mosɯpe phjʌɫtʃhjʌdʑin sesɐŋɐphe huhweɾɐnɯn ɡʌsɯn tɕʌɫdɛ ʌpke ɛvɹɪ ɡɒtə stan ʌp nɛvə tʃeɪndʒ juː ɡɒtə standʌp laɪv juː laɪf faɪt fɔː ðə ɹaɪt ɒv weɪ θɹuː ðə weɪ ɒv ɹaɪt ɛvɹɪ naɪt and deɪ nɛvə tʃeɪndʒ nʌwɐ nɐ moduqɐ nʌmunɐ nophɯn ɡonɐnɯj tɕɐŋbjʌqɯɫ nʌmɯɫtɛ stand ʌp tɕʌ ɐphɯɾo ɡudke ɡʌɾʌqɐdo dwimmosɯpɯɫ sɛŋqɐkhɐnɯn hjʌnmjʌŋhɐn sɐɾɐmɯɾo nɛvə tʃeɪndʒtɕʌɫdɛɾo nɐ munʌdʑiɫtɛdo du nunɯɫ ɡɐmdʑiɐnɯn tʃhɛɾo nophɯn pjʌɾɐŋɯɾo nɐɾɐqɐnnɐ sɛqɐ dwɛ (nɐɾɐnɐɾɐqɐ tɕʌ mʌɾi nɐɾɐqɐ )tʃhɐtɕɐqɐnnɐ nɛqɐ (dwebɐdɐ tʃhɐtɕɐqɐ ne tɕɐɾiɫ tʃhɐtɕɐqɐ )mʌɾʌdʑjʌnnɐ ɡwɐqʌsoqɯj nɐ (doɾɐwɐ mʌlisʌ doɾɐwɐ )ɡʌɾʌqɐnɐ i ɡiɾɯɫ (tɐɾɐ tɐɾɐqɐ i ɡiɾɯɫ tɐɾɐqɐ )tɕinɐbʌɾin siqɐndɯɫ soqe pjʌnhɛbʌɾin nɐɯj mosɯpe phjʌɫtʃhjʌdʑin sesɐŋɐphe huhweɾɐnɯn ɡʌsɯn tɕʌɫdɛ ʌpke ɛvɹɪ ɡɒtə stan ʌp nɛvə tʃeɪndʒ \\n', 'jʌbosejo ɡʌqi nuquʌpso ʌdumɯn nɯɫ ɡɯɾʌtkhe pʌɫsʌ qɐljʌisʌ tʃhɐŋmunɯɫ dudɯɾinɯn dɐɫbitɕhe dɛdɐphɐdɯt ɡʌmʌdʑin ɡoɫmoqkiɾe ɡɯnjɐŋ hɐnbʌn pulʌbwɐsʌ nɐɫ ɡiʌq hɐnɯn sɐɾɐmdɯɾɯn tɕiqɯm modu onɯɫbɐmdo phjʌnɐnhidɯɫ tɕumusiqo ɡjesinɯndʑi pɐmi nʌmu ɡinqʌtkɐthɯn sɛŋqɐqe ɐtʃhimɯɫ poɾjʌ ɐtʃhimɯɫ poɾjʌhɐne nɐwɐ ɡɐtɕhi nuqu ɐtʃhimɯɫ poɫ sɐɾɐm ɡʌqi ʌpso nuqunqɐ qɛʌttɐmjʌn nɛqe dɛdɐphɛdʑu jʌbosejo ɡʌqi nuquʌpso sɛbjʌqɯn to iɾʌtkhe nɐɾɯɫ qɛutʃhiɾjʌ juhoqɯj tɕʌnjʌqpitɕhe muɫdɯn nɛ mosɯp tɕiwʌdʑuni ɡɯqʌse ɡɐmsɐhɐdɯt ɡɯnjɐŋ hɐnbʌn pulʌbwɐsʌ onɯɾɯɫ ɡiʌq hɐnɯn sɐɾɐmdɯɾɯn tɕiqɯm pʌɫsʌ hɐɾuɾɯɫ sidʑɐkhɐɾjʌ pɐpidɯɫ umdʑiqiqo ɐtʃhimi tɕʌŋmɐɫ oɫqɐhɐnɯn sɛŋqɐqe idʑenɯn tɕɐɾjʌ idʑenɯn tɕɐɾjʌhɐne tɕɐmɯɫ tɕɐnɯn nɐɾɯɫ qɛwʌ tɕuɫ i ɡʌqi nuquʌpso nuqunqɐ ɐtʃhimdwemjʌn nɐdʑom iɾɯkhjʌdʑu nuqunqɐ ɐtʃhimdwemjʌn nɐdʑom iɾɯkhjʌdʑu nuqunqɐ ɐtʃhimdwemjʌn nɐdʑom iɾɯkhjʌdʑu \\n', 'idʑenɯn modu doɾɐqɐ tɕedʑɐɾie ɐnnɯndɐ puɫthɐnɯn jʌɫdʑʌŋe ɡɐɾiwʌdʑjʌttʌn ɡoun ʌɫquɫdɯɾi misoɾɯɫ ponɛnɯn siqɐn tʌnɐqɐn tʃhɐkhɐn jʌnindɯɫ sʌɾo ɐnbuɾɯɫ mudko dɐɾɐqpɐŋ tɕʌnsʌɾi qɯnnɐqi tɕʌne ɡɯɾiun sonɯɫ tɕɐpko ɡomɐptɐ insɐɾɯɫ hɐne hɛnɯn juɾi ɡʌulo dɐɾɯn ɡɯɾimdʑɐ nʌmʌ pjʌɾɯn pʌɫqʌbʌnnɯn i ɡɐsɯme ɡiphʌdʑiɾɐqo dʌ ɡiphʌdʑiɾɐqo phjʌŋhwɐɾopke pɐntɕɐqimjʌnsʌ ɐnɯɾo tɯne sɐɾɐŋ ɐɾɯmdɐun ɡiɫ joŋsʌɾɯɫ mɐndɯne dɯnophɯn hɐnɯɫ modɯn ɡʌt ihɛhɐmjʌ ɡɐmsɐ ɐnɐdʑunɯn thumjʌŋhɐn ɡɐɯɫnɐɫ ohu modɯn ɡʌt ihɛhɐmjʌ ɡɐmsɐ ɐnɐdʑunɯn thumjʌŋhɐn ɡɐɯɫnɐɫ ohu \\n', 'sumɐnɯn siqɐni tɕinɐqɐdo nɯɫ ɡɐthɯn tɕɐɾie innɯn nɐmutʃhʌɾʌm ɐmuɾi hɯndɯɫqo hɯndɯɾʌdo tɕedʑɐɾiɾo doɾɐonɯn ɡɯnetʃhʌɾʌm nɛ sɐɾɐŋɯn pjʌnhɐdʑi ɐnɐjo ʌndʑedɯn himi dɯɫ tɛn dwiɾɯɫ pwɐjo nɐn ɡɯɾimdʑɐtʃhʌɾʌm nɯɫ ɡɯdɛ dwie isʌjo pɐɾɐmi dweʌ ɡɯdɛwɐ sumɯɫ swiqo ɡuɾɯmi dweʌ ʌ ɡɯdɛ ɡjʌthɯɫ mɛmdoɫqo piqɐ dweʌ ʌ ɡɯdɛ ʌqɛɾɯɫ tɕʌqsiqo nɐn iɾʌtkhe nɯɫ ɡɯdɛ ɡjʌthe isʌjo nɯɫ ɡɯdɛ dwimmosɯpmɐn iqsukhɐn i siqɐni nʌmudo himdɯɫdʑimɐn hoqsi doɾɐboɫqɐbwɐ nɯɫ ɡɯdɛɫ pɐɾɐmɐn pwɐjo pɐɾɐmi dweʌ ɡɯdɛwɐ sumɯɫ swiqo ɡuɾɯmi dweʌ ʌ ɡɯdɛ ɡjʌthɯɫ mɛmdoɫqo piqɐ dweʌ ʌ ɡɯdɛ ʌqɛɾɯɫ tɕʌqsiqo nɐn iɾʌtkhe nɯɫ ɡɯdɛ ɡjʌthe isʌjo hɐŋsɐŋ ɡɐthɯn tɕɐɾie sʌsʌ iɫsɛŋɯɫ pɐboqɐtɕhi ɡidɐɾiɫ sɐɾɐm ɡɯdɛqɐ innɯn ɡosen dɐɫbittʃhʌɾʌm ɡɯdɛɾɯɫ hwɐnhɐqe pitʃhwʌdʑuɫ ɡɯɾʌn sɐɾɐm pɐɾɐmi dweʌ ɡɯdɛwɐ sumɯɫ swiqo ɡuɾɯmi dweʌ ʌ ɡɯdɛ ɡjʌthɯɫ mɛmdoɫqo piqɐ dweʌ ʌ ɡɯdɛ ʌqɛɾɯɫ tɕʌqsiqo nɐn iɾʌtkhe nɯɫ ɡɯdɛ ɡjʌthe isʌjo nɐn iɾʌtkhe nɯɫ ɡɯdɛ ɡjʌthe isʌjo \\n', 'jʌnbunhoŋ tʃhimɐqɐ pom pɐɾɐme hwinɐlidʌɾɐ onɯɫdo otkoɾɯm sipʌqɐmjʌ sɐndʑebi nʌmnɐdɯnɯn sʌŋhwɐŋdɐŋ ɡiɾe qotɕhi phimjʌn ɡɐtɕhi utko qotɕhi tɕimjʌn ɡɐtɕhi uɫdʌn ɐɫtɯɫhɐn ɡɯ mɛŋsee pomnɐɾɯn ɡɐndɐ sɛphɐɾɐn phuɾiphi muɾe tʌsʌ hɯlʌqɐdʌɾɐ onɯɫdo qot phjʌndʑi nɛdʌndʑimjʌ tʃhʌŋnosɛ tɕɐlɐŋdɛnɯn jʌqmɐtʃhɐ ɡiɾe pjʌɾi tɯmjʌn sʌɾo utko pjʌɾi tɕimjʌn sʌɾo uɫdʌn siɾʌpnɯn ɡɯ ɡijɐqe pomnɐɾɯn ɡɐndɐ jʌɾɐhop sidʑʌɾɯn hwɐŋhon soqe sɯɫphʌdʑidʌɾɐ onɯɫdo ɐŋqɐsɯm dudɯɾimjʌ tɯnquɾɯm hɯlʌqɐnɯn sindʑɐqɾo ɡiɾe sɛqɐ nɐɫmjʌn tɐɾɐ utko sɛqɐ uɫmjʌn tɐɾɐ uɫdʌn jɐɫqutɕɯn ɡɯ noɾɛe pomnɐɾɯn ɡɐndɐ \\n', 'nuqɐ dʌ tɕɐɫmot hɛtko ɡɯɾʌn ɡʌn ʌdʑetpɐmqɐdʑinɐ tɕuŋjohɛsʌttɕi nun tʌsɯɫ tɛ neqɐ ʌpsʌdʑjʌbon tɕʌqɯn ʌpsʌsɯniqɐ pulʌdo dɛdɐp ʌptʌn tɕʌqɯn ʌpsɯniqɐ nɐnɯn idʑe neqɐ ɐphɐdo molɐ neqɐ pojʌdo nɐn mot ɡɐ mɐɾi dwɛ tɕiqɯm nɛqɐ mɐɫhɐnɯn ɡʌttɯɾi ɐni tɕɐmqɐn ɡɯɾʌniqɐ uɾi idʑe mot ponɯn ɡʌjɐ sesɐŋesʌ ɡɐdʑɐŋ ɡɐqɐwʌttʌn nʌwɐ nɛqɐ ɐnim tɕɐmqɐn ɐdʑu tɕɐmqɐn doŋɐnmɐn mot ponɯn ɡʌjɐ hwɐqɐ nɐsʌ thudʑʌŋ puɾin ɡʌjɐ tɕɐɫ ɐɫdʑɐnɐ ɡɯɾʌniqɐ nʌwɐ nɛqɐ tɕinɐttʌn ɡiʌqtɯɫqwɐ pinnɐdʌn siqɐndɯɾɯn jʌqiqɐdʑijɐ iɾʌdʑimɐ ɾɐqo neqe mɐɫhɛttʌn mɐdʑimɐq ɡɯ sunqɐn soqe nɐn jʌdʑʌnhi sɐɫqo innɯnde ɐni tɕɐmqɐn ɡɯɾʌniqɐ uɾi idʑe mot ponɯn ɡʌjɐ sesɐŋesʌ ɡɐdʑɐŋ ɡɐqɐwʌttʌn nʌwɐ nɛqɐ ɐnim tɕɐmqɐn ɐdʑu tɕɐmqɐn doŋɐnmɐn mot ponɯn ɡʌjɐ neqɐ ʌpsi tɕɐɫ uttɕi mosɐnɯn nɐɫ ɐɫdʑɐnɐ \\n', 'aɪ dʒʌst wɒntɪd tuː pleɪ ðɪs ɡeɪm sɐɾɐŋiɾɐn ɡɐmdʑʌŋe mɛɾjodwɛ nɐɫ ɡɐdɯq tʃhɛwʌnne nuqɐ sikhin tɕʌqto ʌpnɯnde thɐpɯɫ sɐɐ oljʌnne nɐn nʌɯj tɕoqɐqtɯlo pɛqokhɛ nɛ mɐmɯɫ tʃhɛun nʌɯj nun kho ipkwɐ nʌɯj thɯqjuɯj mɐɫthuwɐ ʌqjɐŋ sijɐesʌ hɯɾisɛdʑjʌ ɡɐɫ tɛmjʌn hwitʃhʌŋqʌɾine nɐɯj hɐɾuqɐ nɛ mɐme sumɐnɯn ɡumʌŋi nɐdo pʌthiɫ su innɯn ijun nʌɾɐqo idʑe neqɐ hɐn pɐɫtɕɐqmɐn dʌ pɐɾɯɫ pɛmjʌn nɐn munʌdʑiɫ thende aɪ dəʊnt wɒnə pleɪ ðɪs ɡeɪm nəʊ mɔː sʌmbɒdi hɛlp aɪ dəʊnt wɒnə pleɪ ðɪs ɡeɪm nəʊ mɔː sʌmbɒdi hɛlp thɐpi munʌdʑiqo nɐmjʌn phjehʌqɐ dwɛbʌɾiɫqɐ pwɐ phensɯɾɯɫ duɾɯqo judʑʌqtɕiɾo dumjʌn ʌtʌɫqɐ iɾʌnɐdʑido ɐnɯn iɾɯɫ sɐŋsɐŋhɐmjʌ iɯmsɛɾɯɫ puttɯɫqo innɯn nɐɾɯɫ nʌnɯn tɕʌntʃhʌɾʌm pɐɾɐbodʑi ɐnɐ uɾi sɐɾɐŋɯɫ phisɐɯj sɐthɐpiɾɐ sɛŋqɐqtɕi ɐntʃhʲɐnɐ i ɡeimɯj qɯthɯɫ tɕunbihɐqe hɛdʑwʌ sɯɾʌdʑiɫ tɛn ɐmudo ʌpke ɡuqjʌŋqʌɾi dwedʑi ɐnkhe nɛ mɐmɯɫ tʃhɛun nʌɯj nun kho ipkwɐ nʌɯj thɯqjuɯj mɐɫthuwɐ ʌqjɐŋ sijɐesʌ hɯɾisɛdʑjʌ ɡɐɫ tɛmjʌn hwitʃhʌŋqʌɾine nɐɯj hɐɾuqɐ nɛ mɐme sumɐnɯn ɡumʌŋi nɐdo pʌthiɫ su innɯn ijun nʌɾɐqo idʑe neqɐ hɐn pɐɫtɕɐqmɐn dʌ pɐɾɯɫ pɛmjʌn nɐn munʌdʑiɫ thende aɪ dəʊnt wɒnə pleɪ ðɪs ɡeɪm nəʊ mɔː sʌmbɒdi hɛlp aɪ dəʊnt wɒnə pleɪ ðɪs ɡeɪm nəʊ mɔː sʌmbɒdi hɛlp pɐɾɐmi puɾʌwɐ dʌ isɐŋ mot pʌthiɫ ɡʌt ɡɐthɐ dɐsi tʃhɛwʌdʑumjʌn ɐn dweɫqɐ nɛ mɐmɯn ɡudʌqɐ ɯjmiɾɯɫ iɾɯn ɡʌt ɡɐthɐ aɪ dəʊnt wɒnə pleɪ ðɪs ɡeɪm nəʊ mɔː sʌmbɒdi hɛlp aɪ dəʊnt wɒnə pleɪ ðɪs ɡeɪm nəʊ mɔː sʌmbɒdi hɛlp \\n', 'doɾɐodʑi ɐnɯɫ oɫhɛɯj pomtʃhʌɾʌm tɕɐpɯɫ su ʌpkie ɐɾɯmdɐun nɐɫdɯɫ onɯɫbodɐ nunbusidʌn ʌdʑeɯj sɐɾɐŋɯn nɛ ɡɐsɯm hɐn khjʌne ɐnnjʌŋ sɐɾɐdʑjʌdo moɾɯɫ pɐmhɐnɯɫ pjʌɫtʃhʌɾʌm sʌɾonɯn sʌɾoɾɯɫ itɕʌqɐqettɕimɐn ɐphɯdoɾoq tɐtɯsɛttʌn ɡɯ mɐnɯn ɡiʌq tɕuŋe hɐnɐtɕɯmɯn nɐmqjʌdʑuqiɫ hɐn phjʌnɯj uɾiɾɯɫ podɯt ɡiʌqɯɫ nʌmqidɐ pomjʌn wʌn ʌpsi hɛŋbokhɛsʌtko sɐɾɐŋhɛttɐqo tɕɐlbɐttʌn uɾi sɐɾɐŋɯn hɐnnɐthɯj qumi dwɛttɕimɐn ɡiʌkhɛdʑwʌ nɐɫ ittɕi mɐɾɐ tɕwʌ hɐn phjʌnɯj siwɐ hɐn phjʌnɯj sɐɾɐŋ jʌqi hɐn phjʌnɯj uɾi duɾɯɫ nɛ ɡwie ulidʌn nʌɯj tʃhʌt insɐwɐ nɛ pɐmɯɫ humtʃhidʌn tʃhʌt ipmɐttʃhumqɐdʑi sʌnmjʌŋhɐqe sɛŋqɐqi nɐ nunmuɾi nɐɫ mɐnkhɯm ponɛqi siltʃhʲimɐn ɐnnjʌŋ hɐn phjʌnɯj uɾiɾɯɫ podɯt ɡiʌqɯɫ nʌmqidɐ pomjʌn wʌn ʌpsi hɛŋbokhɛsʌtko sɐɾɐŋhɛttɐqo tɕɐlbɐttʌn uɾi sɐɾɐŋɯn hɐnnɐthɯj qumi dwɛttɕimɐn ɡiʌkhɛdʑwʌ nɐɫ ittɕi mɐɾɐ tɕwʌ nɐɾɐnɯn siqɐni ɐmuɫqo to dɐɾɯn sɐɾɐŋɯɫ sidʑɐkhɛdo nɛ iɾɯmqwɐ nɛ moqsoɾi nɛ sumqjʌɫ modu nɐmɐitkiɾɯɫ mʌn hunnɐɫ hɐn pʌnɯn doɾɐbwɐdʑwʌ ɡɯnɐɾɯj uɾi duɾɯɫ hɐn phjʌnɯj sɐɾɐŋi qɯnnɐ mɐdʑimɐq tɕɐŋɯɫ nʌmqimjʌn uɾin tʃhɐm ɐɾɯmdɐwʌtko ɡomɐwʌttɐqo nunbusidʌn uɾi sɐɾɐŋɯn tɕemoq ʌpsi qɯtɕhi nɐttɕimɐn ɡiʌkhɛdʑwʌ nɐɫ ittɕi mɐɾɐ tɕwʌ hɐn phjʌnɯj siwɐ hɐn phjʌnɯj sɐɾɐŋ hɐn tɕuɾɯj ɡɯɫqwɐ hɐn tɕɐŋɯj tʃhuʌq ɐɾɯmdɐwʌttʌn hɐn phjʌnɯj uɾi duɾɯɫ \\n', 'khikhikhikhikhi khikhikhikhikhi nɐnɯn khido tɕɐqko jepɯdʑin ɐntʃhʲimɐn noɾɛnɯn tɕɐɫ pulʌ nɐnɯn khinɯn khɯqo jepɯdʑin ɐntʃhʲimɐn moqsoɾiqɐ tɕoɐ əʊ maɪ ɡɒd nɐnɯn khi tɕɐqɯn ɐi nɐnɯn khiqɐ khɯn ɐi ɡɯɾɛ nɐ tɕɐqɐ dɐnhwɐnɯn qumdo mot qwʌ hiɾiɾɐdo ɐn sinnɯn nɐɾenɯn aɪm ɡəʊɪŋ daʊn and daʊn tɕihɐtʃhʌɫ thɐmjʌn ʌdiɾɯɫ tɕɐpɯɾɐnɯn ɡʌndʑi sonɯɫ pʌdko to pʌdʌdo tɯnquɾɯm tɕɐpnɯn jɛqijɐ thɯqpjʌɫhɐn nɐɾiɾɐ tɕɐntɯq qumiqo nɐqɐ suɫdo hɐn tɕɐn hɐqo punwiqido wɐndʑʌn nɛ poɾjʌnɯnde tɕʌqi tɕwesoŋhɐnde sinbundʑɯŋ tɕom ɾɐqo muɾʌbonɯn nʌ tɛmune nɐnɯn tɕɐdʑɯŋ tɕɐdʑɯŋ wɐndʑʌn tɕɐdʑɯŋ nɛ khiqɐ musɯn tɕɐɫmosijɐ khikhikhikhikhi nɐnɯn khi tɕɐqɯn ɐi nɐnɯn khi tɕɐqɯn ɐi ɡɯɾɛ nɐ khi khʌ khi khɯn sɐɾɐmɯn siŋqʌptɛ tɕinquqɯɾo tɕɐɫhɛdʑwʌ pwɐjɐ aɪm nɒt səʊ ɡʊd and bad soqɛthiŋiɾɐdo hɐmjʌn ɡʌin tʃhjʌdɐbodɯsi nɐttʃhuqo to nɐttʃhwʌ pwɐdo nɐmdʑɐ tɕʌŋsuɾimɐn ɯm nɛ nɐi twɛnti faɪv ʌɾjʌ poiɫ nɐinde i sip dɛ hubɐn sɐm sip dɛ tʃhobɐn khiqɐ khʌsʌ ɡɯɾɛ poindɛ tɕiqɯm khiqɐ tɕuŋhɐqkjo tɛ khiinde ɐni ɡɯɾʌm ɡɯtɛdo nɛqɐ nɯlɡʌ pojʌttʌn ɡʌjɐ khiqɐ musɯn tɕɐɫmosijɐ khikhikhikhikhi nɐnɯn khiqɐ khɯn ɐi nɐnɯn khiqɐ khɯn ɐi əʊ nəʊ nəʊ nəʊ ɡʌmmosɯpmɐn podʑi mɐɫqo nɛmjʌnɯɫ tʃhjʌdɐbwɐ khiqɐ khɯdɯn khiqɐ tɕɐqtɯn motsɛŋqjʌttɯn tɕɐɫsɛŋqjʌttɯn i noɾɛ dɯdko ɐphɯɾon tɕʌɫdɛ nolidʑi mɐsejo khikhikhikhikhikhikhi khikhikhikhikhi khikhikhikhikhi khikhikhikhikhi khikhikhikhikhi nɐnɯn khi tɕɐqɯn ɐi nɐnɯn khiqɐ khɯn ɐi khikhikhi khikhikhi khikhikhi khikhi nɐnɯn tɕɐqɯn ɡe mɛɾjʌqiniqɐ khikhikhi khikhikhi khikhikhi khikhi ɐ nɐdo ɡɯɾʌtkhe khɯn ɡʌn ɐninde \\n', 'sɐɾɐmdɯɾɯn ɡɯdʑʌ somthʌɫmuŋtʃhi sɐɾɐmdɯɾɯn tɕinɐtʃhidɯt uɾiqɐ somthʌɫdʌŋʌɾiɾɐ mɐɫhɐdʑjo nenene hɐdʑimɐn sɐŋqwɐnʌptɕjo nɐnɯn nʌnɯn ɡojɐŋiejo duɫdo ʌpnɯn ɡojɐŋiejo nɐeqe nʌn nʌeqe nɐn i sesɐŋe dɐn hɐnɐ pɐke tɕondʑɛhɐdʑi ɐnnɯn juiɫhɐn nʌniqɐ nenene nʌniqɐ nɐnɯn nʌnɯn ɡojɐŋiejo duɫdo ʌpnɯn ɡojɐŋiejo nɐnɯn nʌnɯn ɡojɐŋiejo ɐɾɯmdɐun ɡojɐŋi i sesɐŋe dɐn hɐnɐ pɐke tɕondʑɛhɐdʑi ɐnnɯn juiɫhɐn nʌniqɐ nenene nʌniqɐ uɾin ɡwɛntʃhɐnɐ ɐijɐ iɾioɾjʌm iɾiwɐ aɪ lʌv juː nʌeqe nɐɯj on sesɐŋɯɫ pephuɾʌ tɕuɫqe sɐɾɐŋqɐdɯq on simdʑɐŋɯɫ quqquq nʌn nɛ ɐnesʌ ɐmu tʃhɛwʌdʑuɫqe duɾjʌumdo ʌpsi ɐijɐ iɾioɾjʌm iɾiwɐ aɪ lʌv juː nʌeqe nɐɯj on sesɐŋɯɫ pephuɾʌ tɕuɫqe sɐɾɐŋqɐdɯq on simdʑɐŋɯɫ quqquq quqquqquq tʃhɛwʌdʑuɫqe nʌn nɛ ɐnesʌ ɐmu duɾjʌumdo ʌpsi pɐlɡɯn pitɕhɯɫ nɛʌdɐo nenenenene pɐlɡɯn pitɕhɯɫ nɛʌdɐo nenenenene pɐlɡɯn pitɕhɯɫ nɛʌdɐo nenenenene on udʑuɾɯɫ dɐ tɕuʌdo pɐquɫ su ʌpsʌ nenene nenenenene nenene nenene ne nɐnɯn nʌnɯn ɡojɐŋiejo duɫdo ʌpnɯn ɡojɐŋiejo nɐnɯn nʌnɯn ɡojɐŋiejo ɐɾɯmdɐun ɡojɐŋiejo nɐnɯn nʌnɯn ɡojɐŋiejo duɫdo ʌpnɯn ɡojɐŋiejo nɐnɯn nʌnɯn ɡojɐŋiejo sɐɾɐŋsɯɾʌn ɡojɐŋiejo nenene nenenenene nenene nenenene nenene nenenene nenene nenenene sɐɾɐŋhɛ aɪ lʌv juː hɛŋbokhɛ \\n', 'ɡɐbjʌun noŋdɐmɯɾo sɐɾɐŋɯɫ tɕikhiɫ sun ʌpsʌ himdɯn pɐɾɛminqɐ siphʌ kjʊəɹiəs niqɐ tɕun sɐɾɐŋɯn onɯɫdo ʌɾjʌ uɾi sɐie hɐdʑi mosɐɫ ijɐqinɯn mwʌqɐ isʌ əʊ ʌɾidɐqo mɐɫhɛdo ɡudʑi hwɐnɛɫ phiɾjonɯn ʌpsʌ ɡɯqe mwʌ mundʑe isʌ feɪməs feɪməs feɪməs mɛbʌn ɡɐthɯn thɛdo nʌ qoin ɡʌn qoin ɡʌn qoin ɡʌn nɐɾɐqo mɐɫhɛdo mɔː lʌv mɔː lʌv mɔː lʌv ɐdʑiq nɐɫ molɐ tʃhiŋʌɫdɛqimɐn hɐne nʌn sɐɾɐŋ ɐphesʌn quɾʌqi quɾʌqi quɾʌqi quɾʌqi quɾʌqi quɾʌqi juː meɪk miː ɡɹɒɡi ɡɹɒɡi ɡɹɒɡi ɡɹɒɡi ɡɹɒɡi ɡɹɒɡi qumɯɫ qunɯn ɡʌtkwɐ nʌɾɯɫ sɐɾɐŋhɐndɐnɯn ɡʌn dɐ ɡɐthɯn mɐɾijɐ wuː ihɛnɯn pɐɾɐdʑi ɐnɐdo sɯɫdeʌpnɯn ɡʌqtɕʌŋɯn mɐ nɐnɯn nʌ hɐnɐ punjɐ ɡeimhɐɫ tɛ jʌnɾɐq qɐmʌqnɯn ɡʌ ɐnim pɐmsɛ nonɯn ɡʌ tɛɾon phiqonhɛ ɡwitʃhɐnɐ pojʌdo ne jʌphe innɯn ɡʌɫ iɾidʑʌɾi tʃhijʌdo dɐ ɡɐthɯn nɐinqʌɫ nʌmɐn poqo innɯn nɐnde mɐtʃhi ʌɾinɛtʃhʌɾʌm quɾʌqi quɾʌqi quɾʌqi quɾʌqi quɾʌqi quɾʌqi juː meɪk miː ɡɹɒɡi ɡɹɒɡi ɡɹɒɡi ɡɹɒɡi ɡɹɒɡi ɡɹɒɡi ɐni nʌɯj pʌnpʌnhɐm idʑen dɐ nɛɾjʌnotkho ɡɯnjɐŋ ni ʌqɛɾɯɫ nɛdʑuqenni uː tɕiqɯm idɛɾo nɛ phume ɐnqjʌ ɐmu iɫ ʌptɯsi onɯɫ pɐm nʌɫ ihɛɾɯɫ hɐqo siphʌsʌ ɯjsim hɐqon hɛ ɡjʌɫquq uɾin sɐɾɐŋ ɐphe ʌɾinɐine sɐɾɐŋɯɫ pɐdko siphʌsʌ tʃhiŋʌɫ dɛqonhɛ ɡjʌɫquq uɾin sɐɾɐŋ ɐphe ʌɾinɐine uɾi sɐuɫ tɛmɐdɐ pendʑɐmintʃhʌɾʌm ɡʌquɾo jutʃhihɐn mɐɫdʑɐŋnɐnɯɫ dʌtputɕhjʌ sʌɾoqɐ ʌɾidɐqo uqidʑjo nɐmdɯɾi poqiedo utkinɯn ɡɯnde sɐɾɐŋ ɐphen dɐ toqkɐttɛ modu ʌɾinɛ noɾidoŋsɐn ɡɐthɛ ɡɐmdʑʌŋɯn ɾolʌkhosɯthʌ sɐudɐqɐ dɐsi ipmɐttʃhunɯn mosɯpto quɾʌqi quɾʌqi quɾʌqi quɾʌqi quɾʌqi quɾʌqi juː meɪk miː ɡɹɒɡi ɡɹɒɡi ɡɹɒɡi ɡɹɒɡi ɡɹɒɡi ɡɹɒɡi quɾʌqi quɾʌqi quɾʌqi \\n', 'ɐɾɐ ɐɾɐ ɐmu mɐɫdo hɐdʑi mɐ ɐnjɐ ɐnjɐ ɐmu mɐɫdo hɐdʑi mɐ tɕebɐɫ hɐdʑimɐ hɐdʑimɐ ɡɯɾʌn mɐɾɯn uɾi ɡɯmɐnhɐdʑɐ himdɯn mɐɫ uɾi ɡɯmɐnhɐdʑɐ himdɯn mɐɫ mwʌqɐ himdɯndʑi muɾʌbwɐdo dwɛ mwʌɫ ɐnɯndʑi muɾʌbwɐdo dwɛ ɡɐqɯm ɐnbunɯn muɾʌbwɐdo dwɛ mwʌn sɛŋqɐqindʑi muɾʌbwɐdo dwɛ mwʌɫ ɡɯmɐnhɐɫqɐ muɾʌbwɐdo dwɛ mwʌɫ ɡɯmɐnhɛnni muɾʌbwɐdo dwɛ tɐq tʌɾʌdʑinɯn dɐpi ʌpsɯɫ tɛn idʑe hɛŋboqɯn muɾɯp pɐɫ mithe bak tuː ðə beɪsɪks hɯnhi tʃhosimɯɾo doɾɐqɐɾɐ mɐɫhɐdʑi ʌm nʌɯj phɛqthɯqɐ mwʌjʌttɕi ɡɯqʌtto moɾɯmjʌnsʌ sʌɾoeqe hjɐŋhɐdʑi pʌɾim ɡɐthɐsʌ tɕipɯɫ iɾɯn nomtʃhʌɾʌm sʌsʌŋqʌɾjʌ jesɐŋ mot hɛsʌ pɐpsɐŋmʌɾiesʌ uɫmʌqkʌɾjʌ pʌɾimɯn ɡod tʃhɛum dʌ tʃhɛumjʌn to sɐum iɾɯɫ ɡe mɐnɯn nʌɯj ɐɾɯmdɐum oɾɐtkʌdɯn ne mɐɾɯn ɡɯɾɛsʌ dʌ puɾɐnhɛ mɐmɯn əʊ nɐn iɾʌtko nʌɾɐnɯn nɐɯj pomɯɫ iɾʌtko ɐɾɐ dɐsi iɾʌnɐɾjʌqo ɛsʌ poqettɕimɐn nʌɾɐqo pudʑʌŋdo hɐdʑimɐ nɐn nʌɾɐqo nunmuɾɯɫ peʌ muɫqo ɐpuɫsɐ qumɯɫ qɛqo thɐnsiqtʃhʌɾʌm tʌɾʌdʑin nunmuɾi hɐnɯɾe piɾɯɫ moɫqo piɾɯɫ moɫqo eɪ to himdɯn ɡoqɛ eɪ sumɐnɯn ohɛ eɪ to himdɯn ɡoqɛ eɪ sumɐnɯn ohɛ mwʌɫ ɡɯmɐnhɐɫqɐ muɾʌbwɐdo dwɛ mwʌɫ ɡɯmɐnhɛnni muɾʌbwɐdo dwɛ tɐq tʌɾʌdʑinɯn dɐpi ʌpsɯɫ tɛn idʑe hɛŋboqɯn muɾɯp pɐɫ mithe ɐɾɐ ɐɾɐ ɐmu mɐɫdo hɐdʑi mɐ ɐnjɐ ɐnjɐ ɐmu mɐɫdo hɐdʑi mɐ tɕebɐɫ hɐdʑi mɐ hɐdʑi mɐ ɡɯɾʌn mɐɾɯn uɾi ɡɯmɐnhɐdʑɐ himdɯn mɐɫ uɾi ɡɯmɐnhɐdʑɐ himdɯn mɐɫ uɾi sɐɾɐŋhɛttʌn siqɐndɯɾɯn ɡɐqo nʌn ɐɾɐtko nɐn molɐtko uɾiqɐ phoqphuŋ soqe sɐɾɐtkun ʌɾjʌpkenɐmɐ mʌndʑʌ unɯɫ ten neqɐ tɕiqsʌɫdʑʌqiɾɐsʌ musʌpko aɪ dəʊnt bɪlɒŋ weə lʌv haz ɡɒn nʌn ɐɾɐtko nɐn molɐtko uɾiqɐ phoqphuŋ soqe sɐɾɐtkun aɪ dəʊnt bɪlɒŋ weə lʌv haz ɡɒn ʌɾjʌpkenɐmɐ mʌndʑʌ unɯɫ ten neqɐ tɕiqsʌɫdʑʌqiɾɐsʌ musʌpko tɕuqɯɫ dɯt onɯɫ pɐmɯɫ ponɛnɯn onɯɫ pɐmɯɫ tɕuqɯɫ dɯt onɯɫ pɐmɯɫ ponɛnɯn onɯɫ pɐmɯɫ tɕuqɯɫ dɯt onɯɫ pɐmɯɫ ponɛnɯn onɯɫ pɐmɯɫ tɕuqɯɫ dɯt onɯɫ pɐmɯɫ ponɛnɯn onɯɫ pɐmɯɫ eɪ to himdɯn ɡoqɛ eɪ sumɐnɯn ohɛ eɪ to himdɯn ɡoqɛ eɪ sumɐnɯn ohɛ mwʌɫ ɡɯmɐnhɐɫqɐ muɾʌbwɐdo dwɛ mwʌɫ ɡɯmɐnhɛnni muɾʌbwɐdo dwɛ tɐq tʌɾʌdʑinɯn dɐpi ʌpsɯɫ tɛn idʑe hɛŋboqɯn muɾɯp pɐɫ mithe ɐɾɐ ɐɾɐ ɐmu mɐɫdo hɐdʑi mɐ \\n']\n"
     ]
    }
   ],
   "source": [
    "with open(ipa_f,'r',encoding='utf-8') as f:\n",
    "    ipa_lyrics = f.readlines()\n",
    "print(ipa_lyrics)"
   ]
  },
  {
   "cell_type": "code",
   "execution_count": 11,
   "metadata": {},
   "outputs": [
    {
     "output_type": "execute_result",
     "data": {
      "text/plain": [
       "4006"
      ]
     },
     "metadata": {},
     "execution_count": 11
    }
   ],
   "source": [
    "len(ipa_lyrics)"
   ]
  },
  {
   "cell_type": "code",
   "execution_count": 12,
   "metadata": {},
   "outputs": [
    {
     "output_type": "execute_result",
     "data": {
      "text/plain": [
       "'hɐnɯɾɯn phɐɾɐtkhe ɡuɾɯmɯn hɐjɐtkhe siɫbɐɾɐmdo puɾʌwɐ puphuɾɯn nɛ mɐɯm nɐmunnip phuɾɯqe ɡɐŋmuɫdo phuɾɯqe ɐɾɯmdɐun iqose nɛqɐ itko neqɐ inne uɾinɯn i tɐŋ wie uɾinɯn thɛʌnɐqo ɐɾɯmdɐun iqose tɕɐɾɐŋsɯɾʌn iqose sɐliɾɐ tʃhɐnɾɐnhɐqe pinnɐnɯn pulɡɯn thɛjɐŋi pitʃhuqo hɐjɐn muɫqjʌɫ nʌmtʃhinɯn tɕʌ pɐdɐwɐ hɐmqe inne ɡɯ ʌɫmɐnɐ tɕoɯnqɐ uɾi sɐnɯn iqose sɐɾɐŋhɐnɯn ɡɯdɛwɐ noɾɛhɐɾi pɐmpɐbɐmpɐbɐm pɐbɐbɐm pɐbɐbɐm pɐmpɐ pɐbɐbɐbɐbɐbɐm onɯɫdo nʌɾɯɫ mɐnnɐɾʌ ɡɐjɐdʑi mɐɫhɛjɐdʑi mʌn hunnɐɾe nʌwɐ nɐ sɐɫqo tɕiqo jʌŋwʌnhɐn iqose uɾiɯj sɛ qumɯɫ mɐndɯɾʌ poqophɐ tʃhɐnɾɐnhɐqe pinnɐnɯn pulɡɯn thɛjɐŋi pitʃhuqo hɐjɐn muɫqjʌɫ nʌmtʃhinɯn tɕʌ pɐdɐwɐ hɐmqe inne ɡɯ ʌɫmɐnɐ tɕoɯnqɐ uɾi sɐnɯn iqose sɐɾɐŋhɐnɯn ɡɯdɛwɐ sɐɾɐŋhɐmjʌ noɾɛhɐɾi pɐmpɐbɐmpɐbɐm pɐbɐbɐm pɐbɐbɐm pɐmpɐ pɐbɐbɐbɐbɐbɐm pɐmpɐbɐmpɐbɐm pɐbɐbɐm pɐbɐbɐm pɐmpɐ pɐbɐbɐbɐbɐbɐm pɐmpɐbɐmpɐbɐm pɐbɐbɐm pɐbɐbɐm pɐmpɐ pɐbɐbɐbɐbɐbɐm pɐmpɐbɐmpɐbɐm pɐbɐbɐm pɐbɐbɐm pɐmpɐ pɐbɐbɐbɐbɐbɐm oooo pomjʌɾɯmi tɕinɐmjʌn ɡɐɯɫ ɡjʌuɾi ondɐne ɐɾɯmdɐun ɡɐŋsɐn nʌɯj mɐɯmɯn nɐɯj mɐɯm nɐɯj mɐɯmɯn nʌɯj mɐɯm nʌwɐ nɐnɯn hɐnmɐɯm nʌwɐ nɐ uɾi jʌŋwʌnhi jʌŋwʌnhi sɐɾɐŋ jʌŋwʌnhi jʌŋwʌnhi uɾi modu dɐ modu dɐ qɯthʌpsi dɐdʑʌŋhɛ \\n'"
      ]
     },
     "metadata": {},
     "execution_count": 12
    }
   ],
   "source": [
    "ipa_lyrics[0]"
   ]
  },
  {
   "cell_type": "code",
   "execution_count": 14,
   "metadata": {},
   "outputs": [],
   "source": [
    "ipa_lyrics = [i.replace('\\n','') for i in ipa_lyrics]"
   ]
  },
  {
   "cell_type": "code",
   "execution_count": 15,
   "metadata": {},
   "outputs": [
    {
     "output_type": "execute_result",
     "data": {
      "text/plain": [
       "'hɐnɯɾɯn phɐɾɐtkhe ɡuɾɯmɯn hɐjɐtkhe siɫbɐɾɐmdo puɾʌwɐ puphuɾɯn nɛ mɐɯm nɐmunnip phuɾɯqe ɡɐŋmuɫdo phuɾɯqe ɐɾɯmdɐun iqose nɛqɐ itko neqɐ inne uɾinɯn i tɐŋ wie uɾinɯn thɛʌnɐqo ɐɾɯmdɐun iqose tɕɐɾɐŋsɯɾʌn iqose sɐliɾɐ tʃhɐnɾɐnhɐqe pinnɐnɯn pulɡɯn thɛjɐŋi pitʃhuqo hɐjɐn muɫqjʌɫ nʌmtʃhinɯn tɕʌ pɐdɐwɐ hɐmqe inne ɡɯ ʌɫmɐnɐ tɕoɯnqɐ uɾi sɐnɯn iqose sɐɾɐŋhɐnɯn ɡɯdɛwɐ noɾɛhɐɾi pɐmpɐbɐmpɐbɐm pɐbɐbɐm pɐbɐbɐm pɐmpɐ pɐbɐbɐbɐbɐbɐm onɯɫdo nʌɾɯɫ mɐnnɐɾʌ ɡɐjɐdʑi mɐɫhɛjɐdʑi mʌn hunnɐɾe nʌwɐ nɐ sɐɫqo tɕiqo jʌŋwʌnhɐn iqose uɾiɯj sɛ qumɯɫ mɐndɯɾʌ poqophɐ tʃhɐnɾɐnhɐqe pinnɐnɯn pulɡɯn thɛjɐŋi pitʃhuqo hɐjɐn muɫqjʌɫ nʌmtʃhinɯn tɕʌ pɐdɐwɐ hɐmqe inne ɡɯ ʌɫmɐnɐ tɕoɯnqɐ uɾi sɐnɯn iqose sɐɾɐŋhɐnɯn ɡɯdɛwɐ sɐɾɐŋhɐmjʌ noɾɛhɐɾi pɐmpɐbɐmpɐbɐm pɐbɐbɐm pɐbɐbɐm pɐmpɐ pɐbɐbɐbɐbɐbɐm pɐmpɐbɐmpɐbɐm pɐbɐbɐm pɐbɐbɐm pɐmpɐ pɐbɐbɐbɐbɐbɐm pɐmpɐbɐmpɐbɐm pɐbɐbɐm pɐbɐbɐm pɐmpɐ pɐbɐbɐbɐbɐbɐm pɐmpɐbɐmpɐbɐm pɐbɐbɐm pɐbɐbɐm pɐmpɐ pɐbɐbɐbɐbɐbɐm oooo pomjʌɾɯmi tɕinɐmjʌn ɡɐɯɫ ɡjʌuɾi ondɐne ɐɾɯmdɐun ɡɐŋsɐn nʌɯj mɐɯmɯn nɐɯj mɐɯm nɐɯj mɐɯmɯn nʌɯj mɐɯm nʌwɐ nɐnɯn hɐnmɐɯm nʌwɐ nɐ uɾi jʌŋwʌnhi jʌŋwʌnhi sɐɾɐŋ jʌŋwʌnhi jʌŋwʌnhi uɾi modu dɐ modu dɐ qɯthʌpsi dɐdʑʌŋhɛ '"
      ]
     },
     "metadata": {},
     "execution_count": 15
    }
   ],
   "source": [
    "ipa_lyrics[0]"
   ]
  },
  {
   "cell_type": "code",
   "execution_count": 16,
   "metadata": {},
   "outputs": [
    {
     "output_type": "execute_result",
     "data": {
      "text/plain": [
       "                titles    artist  \\\n",
       "0  아름다운 강산 (With. 민영기)       정동하   \n",
       "1              아름다운 강산  알리 (ALi)   \n",
       "2                 팔도강산     방탄소년단   \n",
       "3    ...라구요 (원곡가수 강산에)       한영애   \n",
       "4  아껴둔 이야기 (Full Ver.)       강성훈   \n",
       "\n",
       "                                          video_name  \\\n",
       "0  /content/drive/MyDrive/data/svs/music/불후의명곡 Im...   \n",
       "1  /content/drive/MyDrive/data/svs/music/알리 - 아름다...   \n",
       "2  /content/drive/MyDrive/data/svs/music/BTS - Pa...   \n",
       "3  /content/drive/MyDrive/data/svs/music/[ROCK] 강...   \n",
       "4  /content/drive/MyDrive/data/svs/music/강성훈   아껴...   \n",
       "\n",
       "                                              lyrics  \n",
       "0  hɐnɯɾɯn phɐɾɐtkhe ɡuɾɯmɯn hɐjɐtkhe siɫbɐɾɐmdo ...  \n",
       "1  hɐnɯɾɯn phɐɾɐtkhe slaʃ ɡuɾɯmɯn hɐjɐtkhe siɫbɐɾ...  \n",
       "2  jəʊ wʌns ɐɡɛn bɪɡhɪt ɹɛpɹɪzɛnt uɾinɯn pɐŋthɐns...  \n",
       "3  dumɐnqɐŋ phuɾɯn muɾe no tɕʌnnɯn pɛtsɐqoŋɯɫ poɫ...  \n",
       "4  ɐdʑiqto ɡɯdɛɾoindʑi siqɐni deɾjʌqɐn nimosɯp hi...  "
      ],
      "text/html": "<div>\n<style scoped>\n    .dataframe tbody tr th:only-of-type {\n        vertical-align: middle;\n    }\n\n    .dataframe tbody tr th {\n        vertical-align: top;\n    }\n\n    .dataframe thead th {\n        text-align: right;\n    }\n</style>\n<table border=\"1\" class=\"dataframe\">\n  <thead>\n    <tr style=\"text-align: right;\">\n      <th></th>\n      <th>titles</th>\n      <th>artist</th>\n      <th>video_name</th>\n      <th>lyrics</th>\n    </tr>\n  </thead>\n  <tbody>\n    <tr>\n      <th>0</th>\n      <td>아름다운 강산 (With. 민영기)</td>\n      <td>정동하</td>\n      <td>/content/drive/MyDrive/data/svs/music/불후의명곡 Im...</td>\n      <td>hɐnɯɾɯn phɐɾɐtkhe ɡuɾɯmɯn hɐjɐtkhe siɫbɐɾɐmdo ...</td>\n    </tr>\n    <tr>\n      <th>1</th>\n      <td>아름다운 강산</td>\n      <td>알리 (ALi)</td>\n      <td>/content/drive/MyDrive/data/svs/music/알리 - 아름다...</td>\n      <td>hɐnɯɾɯn phɐɾɐtkhe slaʃ ɡuɾɯmɯn hɐjɐtkhe siɫbɐɾ...</td>\n    </tr>\n    <tr>\n      <th>2</th>\n      <td>팔도강산</td>\n      <td>방탄소년단</td>\n      <td>/content/drive/MyDrive/data/svs/music/BTS - Pa...</td>\n      <td>jəʊ wʌns ɐɡɛn bɪɡhɪt ɹɛpɹɪzɛnt uɾinɯn pɐŋthɐns...</td>\n    </tr>\n    <tr>\n      <th>3</th>\n      <td>...라구요 (원곡가수 강산에)</td>\n      <td>한영애</td>\n      <td>/content/drive/MyDrive/data/svs/music/[ROCK] 강...</td>\n      <td>dumɐnqɐŋ phuɾɯn muɾe no tɕʌnnɯn pɛtsɐqoŋɯɫ poɫ...</td>\n    </tr>\n    <tr>\n      <th>4</th>\n      <td>아껴둔 이야기 (Full Ver.)</td>\n      <td>강성훈</td>\n      <td>/content/drive/MyDrive/data/svs/music/강성훈   아껴...</td>\n      <td>ɐdʑiqto ɡɯdɛɾoindʑi siqɐni deɾjʌqɐn nimosɯp hi...</td>\n    </tr>\n  </tbody>\n</table>\n</div>"
     },
     "metadata": {},
     "execution_count": 16
    }
   ],
   "source": [
    "data['lyrics'] = pd.Series(ipa_lyrics)\n",
    "data.head()"
   ]
  },
  {
   "cell_type": "code",
   "execution_count": 17,
   "metadata": {},
   "outputs": [],
   "source": [
    "data.to_csv('data/ipa.singer_up40.mr_removed.lyrics_alinged.tab_removed.tsv',index=False,header=None,sep='\\t')"
   ]
  },
  {
   "cell_type": "code",
   "execution_count": 18,
   "metadata": {},
   "outputs": [],
   "source": [
    "group_singer = ['방탄소년단','플라이 투 더 스카이','다비치','에픽하이 (EPIK HIGH)','노라조','BIGBANG','더보이즈 (THE BOYZ)','가비엔제이','DAY6 (데이식스)']\n",
    "\n",
    "data = data.drop(index = data[data['artist'].isin(group_singer)].index)"
   ]
  },
  {
   "cell_type": "code",
   "execution_count": 20,
   "metadata": {},
   "outputs": [
    {
     "output_type": "execute_result",
     "data": {
      "text/plain": [
       "3591"
      ]
     },
     "metadata": {},
     "execution_count": 20
    }
   ],
   "source": [
    "len(data)"
   ]
  },
  {
   "cell_type": "code",
   "execution_count": 21,
   "metadata": {},
   "outputs": [],
   "source": [
    "ta.to_csv(,''data/group_singer_rm.ipa.singer_up40.mr_removed.lyrics_alinged.tab_removed.tsv'ndex=False,header=None,sep='\\t')"
   ]
  },
  {
   "cell_type": "code",
   "execution_count": 1,
   "metadata": {},
   "outputs": [],
   "source": [
    "#4/23 26 28\n",
    "import pandas as pd\n",
    "import unicodedata"
   ]
  },
  {
   "cell_type": "code",
   "execution_count": 2,
   "metadata": {},
   "outputs": [],
   "source": [
    "data = pd.read_csv('data/group_singer_rm.ipa.singer_up40.mr_removed.lyrics_alinged.tab_removed.tsv',sep = '\\t')"
   ]
  },
  {
   "cell_type": "code",
   "execution_count": 3,
   "metadata": {},
   "outputs": [
    {
     "output_type": "execute_result",
     "data": {
      "text/plain": [
       "                                  titles       artist  \\\n",
       "3586                                  바람  헤이즈 (Heize)   \n",
       "3587                    키키키 (With MIIII)            벤   \n",
       "3588  사랑해 행복해 (Prod. By 선우정아X안신애 (바버렛츠))          KCM   \n",
       "3589                        꾸러기 (Groggy)          김범수   \n",
       "3590                알아 (Feat. HYNN(박혜원))          MC몽   \n",
       "\n",
       "                                             video_name  \\\n",
       "3586  /content/drive/MyDrive/data/svs/music/【韓中字】 He...   \n",
       "3587  /content/drive/MyDrive/data/svs/music/MIIII & ...   \n",
       "3588  /content/drive/MyDrive/data/svs/music/사랑해 행복해 ...   \n",
       "3589  /content/drive/MyDrive/data/svs/music/꾸러기 (Gro...   \n",
       "3590  /content/drive/MyDrive/data/svs/music/알아 (I Kn...   \n",
       "\n",
       "                                                 lyrics  \n",
       "3586  aɪ dʒʌst wɒntɪd tuː pleɪ ðɪs ɡeɪm sɐɾɐŋiɾɐn ɡɐ...  \n",
       "3587  khikhikhikhikhi khikhikhikhikhi nɐnɯn khido tɕ...  \n",
       "3588  sɐɾɐmdɯɾɯn ɡɯdʑʌ somthʌɫmuŋtʃhi sɐɾɐmdɯɾɯn tɕi...  \n",
       "3589  ɡɐbjʌun noŋdɐmɯɾo sɐɾɐŋɯɫ tɕikhiɫ sun ʌpsʌ him...  \n",
       "3590  ɐɾɐ ɐɾɐ ɐmu mɐɫdo hɐdʑi mɐ ɐnjɐ ɐnjɐ ɐmu mɐɫdo...  "
      ],
      "text/html": "<div>\n<style scoped>\n    .dataframe tbody tr th:only-of-type {\n        vertical-align: middle;\n    }\n\n    .dataframe tbody tr th {\n        vertical-align: top;\n    }\n\n    .dataframe thead th {\n        text-align: right;\n    }\n</style>\n<table border=\"1\" class=\"dataframe\">\n  <thead>\n    <tr style=\"text-align: right;\">\n      <th></th>\n      <th>titles</th>\n      <th>artist</th>\n      <th>video_name</th>\n      <th>lyrics</th>\n    </tr>\n  </thead>\n  <tbody>\n    <tr>\n      <th>3586</th>\n      <td>바람</td>\n      <td>헤이즈 (Heize)</td>\n      <td>/content/drive/MyDrive/data/svs/music/【韓中字】 He...</td>\n      <td>aɪ dʒʌst wɒntɪd tuː pleɪ ðɪs ɡeɪm sɐɾɐŋiɾɐn ɡɐ...</td>\n    </tr>\n    <tr>\n      <th>3587</th>\n      <td>키키키 (With MIIII)</td>\n      <td>벤</td>\n      <td>/content/drive/MyDrive/data/svs/music/MIIII &amp; ...</td>\n      <td>khikhikhikhikhi khikhikhikhikhi nɐnɯn khido tɕ...</td>\n    </tr>\n    <tr>\n      <th>3588</th>\n      <td>사랑해 행복해 (Prod. By 선우정아X안신애 (바버렛츠))</td>\n      <td>KCM</td>\n      <td>/content/drive/MyDrive/data/svs/music/사랑해 행복해 ...</td>\n      <td>sɐɾɐmdɯɾɯn ɡɯdʑʌ somthʌɫmuŋtʃhi sɐɾɐmdɯɾɯn tɕi...</td>\n    </tr>\n    <tr>\n      <th>3589</th>\n      <td>꾸러기 (Groggy)</td>\n      <td>김범수</td>\n      <td>/content/drive/MyDrive/data/svs/music/꾸러기 (Gro...</td>\n      <td>ɡɐbjʌun noŋdɐmɯɾo sɐɾɐŋɯɫ tɕikhiɫ sun ʌpsʌ him...</td>\n    </tr>\n    <tr>\n      <th>3590</th>\n      <td>알아 (Feat. HYNN(박혜원))</td>\n      <td>MC몽</td>\n      <td>/content/drive/MyDrive/data/svs/music/알아 (I Kn...</td>\n      <td>ɐɾɐ ɐɾɐ ɐmu mɐɫdo hɐdʑi mɐ ɐnjɐ ɐnjɐ ɐmu mɐɫdo...</td>\n    </tr>\n  </tbody>\n</table>\n</div>"
     },
     "metadata": {},
     "execution_count": 3
    }
   ],
   "source": [
    "data.tail()"
   ]
  },
  {
   "cell_type": "code",
   "execution_count": 7,
   "metadata": {
    "tags": []
   },
   "outputs": [
    {
     "output_type": "stream",
     "name": "stdout",
     "text": [
      "So Da (笑多)|강성훈아껴둔이야기(가사첨부).mp3\n환란과 핍박중에도(383장)|새찬송가336장(통383)환난과핍박중에도.mp3\n안녕|[0]만약에-권인하원곡반주가사.mp3\n사랑 그리고 우린…|권인하➿사랑그리고우린(가사).mp3\n슬픈 영혼의 아리아 [엘리제]|김경호슬픈영혼의아리아(엘리제)(가사첨부).mp3\n내게 남은 사랑을 드릴께요|김경호내게남은사랑을드릴게요.mp3\nReplay|kimdongryul(김동률)_답장(reply)(가사).mp3\n여행|출발-김동률(가사).mp3\n나를 보내야|endlesslove-김민종withlyrics.mp3\n후회 왕|윤종신-후회王(vocal김연우).mp3\n전화해줘|♪sg워너비-내사람[가사lyrics].mp3\n친구에게|김진호(sg워너비)-편의점앞에서가사.mp3\n북촌고백|김진호(sgwannabe)-고백.mp3\n집에 가는 길|씨야(seeya)집으로돌아오는길(feat김진호sg워너비)(가사첨부).mp3\n얼음물|김진호(sgwannabe)-고백.mp3\n샤랄라|sgwannabe-lalala(colorcodedlyricshanromeng).mp3\n티비|그거모으러왔나봐요-김진호(sg워너비)music사랑👇가사첨부.mp3\n더크로스의 해체|더크로스1집앨범전곡듣기더크로스김혁건tv[가사자막]korsub.mp3\n돈 크라이의 탄생|더크로스-dontcry(가사듣기3699fa).mp3\n두려워 말라|【옥타브요기요】김혁건나만의그대(warrior)전구간옥타브확인가사보기!!.mp3\n2012년 3월 26일|04partiii(however)락밴드크로스legend더크로스김혁건tv[가사자막]korsub.mp3\n세상의로의 초대|【옥타브요기요】김혁건나만의그대(warrior)전구간옥타브확인가사보기!!.mp3\n악성댓글|【옥타브요기요】김혁건나만의그대(warrior)전구간옥타브확인가사보기!!.mp3\n경추야 놀자|유성은(usungeun)-야놀자(rightontime)(가사hanromeng).mp3\n새로운 도전 대학원|김혁건솔로warrior-07jeeny더크로스김혁건tv[가사자막].mp3\n사고후 첫앨범|더크로스1집앨범전곡듣기더크로스김혁건tv[가사자막]korsub.mp3\n재능기부|【옥타브요기요】김혁건나만의그대(warrior)전구간옥타브확인가사보기!!.mp3\n강연가 김혁건|김혁건솔로warrior-02tonight더크로스김혁건tv[가사자막].mp3\n인트로|김혁건솔로warrior-05독백더크로스김혁건tv[가사자막].mp3\n2000/90|[1시간](가사)기리보이-200090.mp3\n1:03|103by넬nell[engsub].mp3\n듀엣|nell(넬)-duet(lyricsengromhan가사).mp3\n이제 일년|달빛요정역전만루홈런-나의노래가사자막.mp3\n너의 노래|달빛요정역전만루홈런-나의노래가사자막.mp3\n나는 개|달빛요정역전만루홈런-나의노래가사자막.mp3\n보이나요? (Remastered)|루시드폴-보이나요(46번째인디음악).mp3\n그대는 나즈막히|그대는나지막이.mp3\n너에게로 가는 길 - 슬램덩크 오프닝|슬램덩크오프닝한국판너에게로가는길.mp3\n남자의 눈물|[sbs]컬투쇼남자의인생박상민라이브.mp3\n1991年, 찬바람이 불던 밤....|박효신(parkhyoshin)-1991년찬바람이불던밤(1991onthatnightwhenthecoldwindblew)(engromhan가사).mp3\n화신 (花信)|parkhyoshin(박효신)-lost[hanromenglyrics].mp3\nMy Bro (Feat. MC몽,Crown J,허우진,프라임,인태,미료,여정,보행,효진)|mcmong-미치겠어+lyrics.mp3\n모두에게 크리스마스|크리스마스니까-성시경박효신이석훈서인국빅스(가사)│노래중독.mp3\nIn The Still Of The Night (with 빅마마, 거미, 세븐) -feat.서재호|휘성withme.mp3\n제주도의 푸른 밤|[발라드]성시경-제주도푸른밤-가사-떠나요둘이서모든것훌훌버리고제주도푸른밤그별아래.mp3\n그대 내 맘에 들어오면은|성시경-그대내마음에들어오면은(가사).mp3\n우리 앞의 생이 끝나갈 때|무한궤도우리앞에생이끝나갈때노래가사.mp3\n일상으로의 초대 2018|신해철-일상으로의초대(가사자막).mp3\n마지막 민물장어의 꿈 2018|신해철-민물장어의꿈(가사).mp3\n힘을 내!|[넥스트][가사자막]신해철-힘을내.mp3\n그대에게 2019|신해철(shinhaechul)-그대에게(toher)가사[lyrics].mp3\nThe Ocean : 불멸에 관하여|next-theocean불멸에관하여(1994年).mp3\n좋은날이 올거야 (Feat. 전인권)|psy-gooddaywillcome(ftjuninkwon)[subespromhan].mp3\n오토리버스 (Feat. TABLO)|psy-autoreversefttablo(colorcodedlyricsenglishromhan).mp3\n지금|윤종신(yoonjongshin)-나이(age)가사(lyrics)연속듣기.mp3\n오늘까지|권인하3집lp.mp3\n비오는날의 수채화|비오는날수채화권인하강인원김현식(가사).mp3\n사람들|♪sg워너비-내사람[가사lyrics].mp3\n노래샘|✔sg워너비노래모음전곡가사.mp3\n사나이 (Bonus Track)|[가사]달빛요정역전만루홈런-절룩거리네.mp3\n너에게 가는길 (슬램덩크)|슬램덩크op박상민-crazyforyou(3분).mp3\nMy Bro (Feat. MC몽, Crown J, 허우진, 프라임, 인태, 미료, 여정, 보행, 효진)|mcmong-미치겠어+lyrics.mp3\nInterview|nocomment-ericnam(에릭남)[hanromenglyrics].mp3\nI Don't Miss You|ericnam(에릭남)-missyou(hanromeng)colorcodedlyrics한국어가사.mp3\n해가 지기 전에|ericnam-beforethesunsetscolorcodedlyrics(hanromeng).mp3\n내곁에 머물수없니|김원준다시내곁에(가사첨부).mp3\n비오는 오후에|do(디오)&yooyoungjin(유영진)-tellme(whatislove)lyrics(color-codedhanromeng).mp3\n…사랑했잖아…|정준일(jungjoonil)-사랑했잖아.mp3\n잊었니…|[윤하]잊었니[유희열의스케치북youheeyeolssketchbook]20200320.mp3\n눈 내리던 겨울밤|김범수눈내리는겨울밤.mp3\n화이트 크리스마스|whitechristmas-bingcrosbywithlyrics(영어가사한글번역)winterstormseleneindenveronmar232016.mp3\n윤수일 Medly|박상민-윤수일메들리(live앨범中).mp3\n고마울뿐야|이석훈-하고싶은말(초록담쟁이님).mp3\n보라빛 엽서|[미스터트롯]일대일데스매치임영웅일편단심민들레야(가사자막).mp3\n일편단심 민들레야|임영웅일편단심민들레미스터트롯데스매치예선곡[가사자막].mp3\nDespacito|♡데스파시토♡임영웅(한국말가사).mp3\n비오는 날의 수채화|비오는날수채화권인하강인원김현식(가사).mp3\n보이나요?|루시드폴-보이나요(46번째인디음악).mp3\n너에게|toyou•sungsikyungreply1994hanromenglyrics.mp3\n혼자있으면|do(디오)&yooyoungjin(유영진)-tellme(whatislove)lyrics(color-codedhanromeng).mp3\n사랑하나요!?|이승환사랑하나요7집.mp3\nThe Moment I Saw You (처음 만난 날처럼)|임태경&옥주현-iwasborntoloveyou+onlylove(reprise).mp3\nHow Will I Know? (알 수 없는 길)|임태경-howwilliknow(알수없는길).mp3\n꿈에|❤rainyday휘성(realslow)   태일(블락비)   청하[가사첨부].mp3\n공 (2012 Ver.)|조항조-때(가사자막)음유시인조항조히트곡입니다멋진노래.mp3\nI’ll Be There (송도해변 버스킹 Ver.)|소향(sohyang)하림-illbethere(송도해변버스킹ver)가사.mp3\n여름 찬가 (Feat. MC 하하)|mc몽죽도록사랑해(feat박정현)(가사첨부).mp3\n그 노래를 틀때마다|huhgak&le-wheneveryouplaythatsong.mp3\n힙합이 뭔데?|hongdaekwang(홍대광)&kisum(키썸)-whatthehiphop(힙합이뭔데)mvhdk-pop[germansub].mp3\n굿바이 (With 소유 Of 씨스타)|홍대광(hongdaekwang)-goodbye(with소유of씨스타).mp3\n사랑인 걸까?|[空耳韓文hangul가사]洪大光(홍대광)-是愛情嗎（사랑인걸까）(內向的老闆내성적인보스ost).mp3\nGood-bye Luv|휘성goodbyeluv(굿바이러브)(가사첨부).mp3\n주르륵|휘성(realslow)-우주속에서ㅣ가사lyrics.mp3\n하늘에서 (부제: 편지)|휘성(realslow)-우주속에서ㅣ가사lyrics.mp3\n흑백사진 Part.2|kcm-흑백사진(2021)(바른연애길잡이xkcm)가사.mp3\n말해! 뭐해?|케이윌kwill말해뭐해talklove태양의후예descendantsofthesunostpart6가사lyrics.mp3\n너에게 쓰는 편지 Part 2 (Feat. LISA)|너에게쓰는편지partii(featlisa).mp3\n라 라 라|se7en-lalalalyrics[colorcodedhanromeng].mp3\n라라라 (Remix)|se7en-lalalalyrics[colorcodedhanromeng].mp3\n안녕 (Duet With 거미)|se7enfeatgummy-goodbye[engsub].mp3\n알아|se7en(세븐)-괜찮은건지가사amialrightlyrics(hangul+engsub)[몬스터(monster)ostpart2].mp3\n비누 Duet With 김예림|이승환&김예림leeseunghwan&limkim-비누soapofficialmusicvideo.mp3\nVoce (With Roberto Menescal)|마음.mp3\n화조도 花鳥圖|심규선(lucia)-화조도가사.mp3\n꽃처럼 한 철만 사랑해 줄 건가요? (Sakura Moment)|심규선(lucia)-꽃처럼한철만사랑해줄건가요가사.mp3\n꽃 처럼 한 철만 사랑해 줄 건가요?|심규선(lucia)-꽃처럼한철만사랑해줄건가요가사.mp3\n달빛바다|seaofmoonlight-fiestarxiulyrics[hanromeng].mp3\nNight (Feat. 박미경)|psy-밤(feat박미경).mp3\n동화 (CF - 한일건설 유앤아이아파트 김하늘편)|박혜경너에게주고싶은세가지(가사첨부).mp3\nReality (원빈, 신민아의 맥심 TOP 광고 삽입곡)|맥심topcf-리얼에스프레소에관하여4편(2009).mp3\n별 보러 갈래?|볼빨간사춘기(bol4)-별보러갈래(starsoverme)가사.mp3\n하루해가 질 때 아쉬울 것 내겐 없어라 (원곡가수 할리퀸)|04suhmoon-tak-whenthesunsets서문탁-하루해가질때아쉬울것내겐없.mp3\n너무 많은…|[rockballad]서문탁-너무많은가사(lyrics).mp3\n나는 모아나 (조상의 노래) (From \"Moana\"/Soundtrack Version)|iammoana(korean)lyrics&translation.mp3\nI Won’t Give Up (송도해변 버스킹 Ver.)|소향(sohyang)-iwontgiveup(송도해변버스킹ver)가사.mp3\n나 언젠간 떠날 거야 (From \"Moana\"/Soundtrack Version)|so-hyang-디즈니모아나-“howfari’llgo”(언젠가떠날거야)-소향.mp3\n사랑, 결코 시들지 않는… (성대천하 유아독존 동방불패)|【복면가왕클린】손승연sonnet(seung-yeonson)-사랑결코시들지않는(loveneverwither)클린버전무자막패널xtvpp.mp3\n꿈에 (성대천하 유아독존 동방불패)|손승연-혜야(성대천하유아독존동방불패)가사(syncedlyrics).mp3\n거부 (성대천하 유아독존 동방불패, 고음반 저음반 아수라백작)|[kingofmaskedsinger]복면가왕-theeastinvincibilityvscountademon1round-refusal20180218.mp3\n세움|알리(ali)서약(가사황금무지개ost).mp3\n0시의 이별|임영웅cover-영시의이별(배호).mp3\n팔레트 (Feat. G-DRAGON)|iu-palette(featg-dragon)colorcodedlyrics[hanromenglyrics].mp3\n말로 하지 않아도 (Inst.)|제이세라-꽃길만걸어요ostpart01-다잘될거야.mp3\n오늘도 눈물|안예슬-youareawesome(누가뭐래도ostpart5)가사.mp3\n사랑은 창밖에 빗물 같아요|사랑은창밖의빗물같아요-양수경-(가사有).mp3\n보고 싶은 얼굴/민해경|보고싶은얼굴--민해경.mp3\n사랑은 차가운 유혹 (2016 Ver.)|양수경잊을래(가사2016ver).mp3\nQ/조용필|양수경q큐(가사원곡조용필).mp3\nD.I.S.C.O Part.2 (Feat. G-Dragon)|uhmjunghwa(엄정화)feattop-disco[colorcodedlyricshanromeng].mp3\n리모콘과 매니큐어 (Remotecontrol \\& Manicure)|uhmjung-hwa-remotecontrolandnailpolish엄정화-리모컨과매니큐어musiccamp19.mp3\n슬픈 착각|saddelusion.mp3\n후회|엄정화-후애(後愛).mp3\n페스티발|[가사lyrics]엄정화-festival(1999).mp3\n떨어진다 눈물이|imissyouostwaxtearsarefallinglyricsenglishsubromanizationhangul].mp3\n포이즌|엄정화-poison(가사).mp3\n...사랑했잖아...  Part2|린(lyn)사랑했잖아partⅱ(가사첨부).mp3\nDon't Say Anything|웅산yesterday(가사첨부).mp3\n파란새벽|웅산-yesterday(가사).mp3\nElegy|봄비-웅산(박인수)가사kpop.mp3\n황혼의 부르스|이미자-황혼의블루스.mp3\n사랑은 창밖에 빗물같아요|사랑은창밖의빗물같아요-양수경-(가사有).mp3\nU-Go-Girl (With 낯선)|이효리ugogirlwith낯선(가사첨부).mp3\n미스코리아|leehyori(이효리)-misskorea(미스코리야)lyrics(hanromengcolorcodedlyrics가사)bingsoosh.mp3\n톡!톡!톡! (Toc Toc Toc)(CF - 투싼 '이효리'편)|이효리toctoctoc(가사첨부).mp3\nAnyclub (Feat.Teddy) ( CF - Anycall Anyclub 이효리, 에릭, 권상우편 )|이효리애니클럽가사.mp3\nShall We Dance?|이효리shallwedance(가사첨부).mp3\n비야내려|【hunsub】leehyori-letitrain.mp3\n괜찮아질까요? (With Bigtone)|이효리괜찮아질까요？(withbigtone)(가사첨부).mp3\n지붕 위의 고양이 (Off The Rec. Hyolee 주제가)|leehyori-osthyoleeofftherecord(acatontheroof).mp3\n다이아몬드 (With 이적)|diamondleehyori(이효리)[subespañol+romanizacion+hangul].mp3\n초혼II(송인)|❤초혼2(송인)장윤정[가사첨부].mp3\nDJ에게 (나래이션 : 성우 김상현)|[문학비타민2014]김상현-가만히좋아하는.mp3\n바람의 탱고|조명섭의명품보이스로듣는☔비의탱고☔(가사자막)3번연속듣기.mp3\n부디 나를…|제이세라-부디나를가사.mp3\n울고, 불고…|지아(zia)울고불고(with4men)(가사첨부).mp3\n가버린 사랑|[kyentertainment]가버린당신-최진희(ky104)kykaraoke.mp3\n대전 부르스|[kyentertainment]대전블루스-안정애(ky281)kykaraoke.mp3\n때늦은 후회|최진희뒤늦은 후회(가사원곡현이와 덕이).mp3\n11:11|태연(taeyeon)_1111[lyrics]가사한국어.mp3\nGalaxy|taeyeon태연whatdoicallyoumv.mp3\nPlaylist|taeyeon태연whatdoicallyoumv.mp3\n노란 샤쓰의 사나이 (원곡가수 한명숙)|한명숙-노란셔츠의사나이[가요무대musicstage]20200406.mp3\n따오기|한영애➿바람(가사).mp3\n보고 싶은 얼굴/현미|보고싶은얼굴현미.mp3\n1/1440 (Feat. 지샤넬)|heize(헤이즈)-11440(ftjichanel(지샤넬))[colorcodedlyricshanromeng].mp3\n누구없소?|한영애-누구없소kpop韓國歌謠.mp3\n바람처럼|바람한영애(가사).mp3\n바람|【韓中字】heize헤이즈-underwater(lyricswithhangul).mp3\n168\n168\n"
     ]
    }
   ],
   "source": [
    "c = 0\n",
    "with open('data/mismatch1.txt','w',encoding='utf-8') as f:\n",
    "    wrong = []\n",
    "    for title,v_name in zip(data['titles'],data['video_name']):\n",
    "        cnt = 0\n",
    "        t = title\n",
    "        if '(' in title:\n",
    "            t = title.split('(')[0]\n",
    "        t = unicodedata.normalize('NFC',t.replace(' ','').replace(\"'\",'').replace(',','').lower())\n",
    "        v_name = v_name[38:]\n",
    "        v_name = unicodedata.normalize('NFC',v_name.replace(' ','').replace(\"'\",'').replace(',','').lower())\n",
    "        for letter in t:\n",
    "            if letter in v_name:\n",
    "                cnt += 1\n",
    "            \n",
    "        if len(t) - cnt >=1:\n",
    "            wrong.append(t)\n",
    "            c += 1\n",
    "            f.write(title+'|'+v_name+'\\n')\n",
    "            print(title + '|' + v_name)\n",
    "    print(len(wrong))\n",
    "    print(c)"
   ]
  },
  {
   "cell_type": "code",
   "execution_count": 24,
   "metadata": {},
   "outputs": [
    {
     "output_type": "stream",
     "name": "stdout",
     "text": [
      "['So Da (笑多)', '안녕', 'Replay', '여행', '나를 보내야', '전화해줘', '친구에게', '북촌고백', '집에 가는 길', '얼음물', '샤랄라', '티비', '더크로스의 해체', '돈 크라이의 탄생', '두려워 말라', '2012년 3월 26일', '세상의로의 초대', '악성댓글', '경추야 놀자', '새로운 도전 대학원', '사고후 첫앨범', '재능기부', '강연가 김혁건', '인트로', '이제 일년', '너의 노래', '나는 개', '남자의 눈물', '화신 (花信)', 'My Bro (Feat. MC몽,Crown J,허우진,프라임,인태,미료,여정,보행,효진)', '모두에게 크리스마스', 'In The Still Of The Night (with 빅마마, 거미, 세븐) -feat.서재호', '마지막 민물장어의 꿈 2018', '지금', '오늘까지', '사람들', '노래샘', '사나이 (Bonus Track)', '너에게 가는길 (슬램덩크)', 'My Bro (Feat. MC몽, Crown J, 허우진, 프라임, 인태, 미료, 여정, 보행, 효진)', 'Interview', \"I Don't Miss You\", '내곁에 머물수없니', '비오는 오후에', '…사랑했잖아…', '고마울뿐야', '보라빛 엽서', '비오는 날의 수채화', '혼자있으면', 'The Moment I Saw You (처음 만난 날처럼)', '꿈에', '공 (2012 Ver.)', '여름 찬가 (Feat. MC 하하)', '주르륵', '하늘에서 (부제: 편지)', '안녕 (Duet With 거미)', '알아', '비누 Duet With 김예림', 'Voce (With Roberto Menescal)', '동화 (CF - 한일건설 유앤아이아파트 김하늘편)', 'Reality (원빈, 신민아의 맥심 TOP 광고 삽입곡)', '꿈에 (성대천하 유아독존 동방불패)', '세움', '말로 하지 않아도 (Inst.)', '오늘도 눈물', '사랑은 차가운 유혹 (2016 Ver.)', 'D.I.S.C.O Part.2 (Feat. G-Dragon)', '후회', \"Don't Say Anything\", '파란새벽', 'Elegy', '지붕 위의 고양이 (Off The Rec. Hyolee 주제가)', 'DJ에게 (나래이션 : 성우 김상현)', '바람의 탱고', '가버린 사랑', '때늦은 후회', 'Galaxy', 'Playlist', '따오기', '바람처럼', '바람']\n"
     ]
    }
   ],
   "source": [
    "with open('data/mismatch1.txt','r',encoding='utf-8') as f:\n",
    "    with open('data/match_from_mismatch.txt','r',encoding='utf-8') as d:\n",
    "        a = f.readlines()\n",
    "        b = d.readlines()\n",
    "        b = [i.strip() for i in b]\n",
    "\n",
    "        appropriate = [ a[int(i) - 1] for i in b if i]\n",
    "        non_appropriate = [song.split('|')[0] for song in a if song not in appropriate]\n",
    "        print(non_appropriate)"
   ]
  },
  {
   "cell_type": "code",
   "execution_count": 28,
   "metadata": {},
   "outputs": [
    {
     "output_type": "execute_result",
     "data": {
      "text/plain": [
       "         titles artist                                         video_name  \\\n",
       "11   So Da (笑多)    강성훈  /content/drive/MyDrive/data/svs/music/강성훈   아껴...   \n",
       "80           안녕    권인하  /content/drive/MyDrive/data/svs/music/[0] 만약에 ...   \n",
       "182      Replay    김동률  /content/drive/MyDrive/data/svs/music/KIM DONG...   \n",
       "207          여행    김동률  /content/drive/MyDrive/data/svs/music/출발 - 김동률...   \n",
       "246      나를 보내야    김민종  /content/drive/MyDrive/data/svs/music/Endless ...   \n",
       "\n",
       "                                                lyrics  \n",
       "11   sesɐŋ qʌdʑiɫ ɡʌt ɡɐthɯn ɡiphɯn nʌɯj hɐn sum tɕ...  \n",
       "80   sɐɾɐŋ sɐɾɐŋ ɡɯ iɾɯmmɐnɯɾo dɐqɐsʌmjʌn ɡɯ mɐnkhɯ...  \n",
       "182  nɐn jodʑɯm ɡɐqɯm tɐn sesɐŋe ittɕi nʌɫ tʌnɐbonɛ...  \n",
       "207  ʌndʑenɐ ɡɯ nophɯn hwesɛqpiɫdiŋ soqe dɐlidɯt tɕ...  \n",
       "246  nɐeqen ʌndʑenɐ muqʌun tɕimi dweʌsʌ idʑen nɐɫ n...  "
      ],
      "text/html": "<div>\n<style scoped>\n    .dataframe tbody tr th:only-of-type {\n        vertical-align: middle;\n    }\n\n    .dataframe tbody tr th {\n        vertical-align: top;\n    }\n\n    .dataframe thead th {\n        text-align: right;\n    }\n</style>\n<table border=\"1\" class=\"dataframe\">\n  <thead>\n    <tr style=\"text-align: right;\">\n      <th></th>\n      <th>titles</th>\n      <th>artist</th>\n      <th>video_name</th>\n      <th>lyrics</th>\n    </tr>\n  </thead>\n  <tbody>\n    <tr>\n      <th>11</th>\n      <td>So Da (笑多)</td>\n      <td>강성훈</td>\n      <td>/content/drive/MyDrive/data/svs/music/강성훈   아껴...</td>\n      <td>sesɐŋ qʌdʑiɫ ɡʌt ɡɐthɯn ɡiphɯn nʌɯj hɐn sum tɕ...</td>\n    </tr>\n    <tr>\n      <th>80</th>\n      <td>안녕</td>\n      <td>권인하</td>\n      <td>/content/drive/MyDrive/data/svs/music/[0] 만약에 ...</td>\n      <td>sɐɾɐŋ sɐɾɐŋ ɡɯ iɾɯmmɐnɯɾo dɐqɐsʌmjʌn ɡɯ mɐnkhɯ...</td>\n    </tr>\n    <tr>\n      <th>182</th>\n      <td>Replay</td>\n      <td>김동률</td>\n      <td>/content/drive/MyDrive/data/svs/music/KIM DONG...</td>\n      <td>nɐn jodʑɯm ɡɐqɯm tɐn sesɐŋe ittɕi nʌɫ tʌnɐbonɛ...</td>\n    </tr>\n    <tr>\n      <th>207</th>\n      <td>여행</td>\n      <td>김동률</td>\n      <td>/content/drive/MyDrive/data/svs/music/출발 - 김동률...</td>\n      <td>ʌndʑenɐ ɡɯ nophɯn hwesɛqpiɫdiŋ soqe dɐlidɯt tɕ...</td>\n    </tr>\n    <tr>\n      <th>246</th>\n      <td>나를 보내야</td>\n      <td>김민종</td>\n      <td>/content/drive/MyDrive/data/svs/music/Endless ...</td>\n      <td>nɐeqen ʌndʑenɐ muqʌun tɕimi dweʌsʌ idʑen nɐɫ n...</td>\n    </tr>\n  </tbody>\n</table>\n</div>"
     },
     "metadata": {},
     "execution_count": 28
    }
   ],
   "source": [
    "non_appropriate_df = data[data['titles'].isin(non_appropriate)]\n",
    "non_appropriate_df.head()"
   ]
  },
  {
   "cell_type": "code",
   "execution_count": 29,
   "metadata": {},
   "outputs": [
    {
     "output_type": "execute_result",
     "data": {
      "text/plain": [
       "        titles        artist  \\\n",
       "3488  Playlist  태연 (TAEYEON)   \n",
       "3504        바람           한영애   \n",
       "3533       따오기           한영애   \n",
       "3583      바람처럼           한영애   \n",
       "3586        바람   헤이즈 (Heize)   \n",
       "\n",
       "                                             video_name  \\\n",
       "3488  /content/drive/MyDrive/data/svs/music/TAEYEON ...   \n",
       "3504  /content/drive/MyDrive/data/svs/music/한영애  ➿  ...   \n",
       "3533  /content/drive/MyDrive/data/svs/music/한영애  ➿  ...   \n",
       "3583  /content/drive/MyDrive/data/svs/music/바람 한영애(가...   \n",
       "3586  /content/drive/MyDrive/data/svs/music/【韓中字】 He...   \n",
       "\n",
       "                                                 lyrics  \n",
       "3488  lɪsən tuː maɪ feɪvəɹɪt sɒŋ ɡɐtɕhi dɯdko siphʌs...  \n",
       "3504  sumɐnɯn siqɐni tɕinɐqɐdo nɯɫ ɡɐthɯn tɕɐɾie inn...  \n",
       "3533  poiɫdɯsi poiɫdɯsi poidʑi ɐnnɯn tɐoq tɐoq tɐoqs...  \n",
       "3583  sumɐnɯn siqɐni tɕinɐqɐdo nɯɫ ɡɐthɯn tɕɐɾie inn...  \n",
       "3586  aɪ dʒʌst wɒntɪd tuː pleɪ ðɪs ɡeɪm sɐɾɐŋiɾɐn ɡɐ...  "
      ],
      "text/html": "<div>\n<style scoped>\n    .dataframe tbody tr th:only-of-type {\n        vertical-align: middle;\n    }\n\n    .dataframe tbody tr th {\n        vertical-align: top;\n    }\n\n    .dataframe thead th {\n        text-align: right;\n    }\n</style>\n<table border=\"1\" class=\"dataframe\">\n  <thead>\n    <tr style=\"text-align: right;\">\n      <th></th>\n      <th>titles</th>\n      <th>artist</th>\n      <th>video_name</th>\n      <th>lyrics</th>\n    </tr>\n  </thead>\n  <tbody>\n    <tr>\n      <th>3488</th>\n      <td>Playlist</td>\n      <td>태연 (TAEYEON)</td>\n      <td>/content/drive/MyDrive/data/svs/music/TAEYEON ...</td>\n      <td>lɪsən tuː maɪ feɪvəɹɪt sɒŋ ɡɐtɕhi dɯdko siphʌs...</td>\n    </tr>\n    <tr>\n      <th>3504</th>\n      <td>바람</td>\n      <td>한영애</td>\n      <td>/content/drive/MyDrive/data/svs/music/한영애  ➿  ...</td>\n      <td>sumɐnɯn siqɐni tɕinɐqɐdo nɯɫ ɡɐthɯn tɕɐɾie inn...</td>\n    </tr>\n    <tr>\n      <th>3533</th>\n      <td>따오기</td>\n      <td>한영애</td>\n      <td>/content/drive/MyDrive/data/svs/music/한영애  ➿  ...</td>\n      <td>poiɫdɯsi poiɫdɯsi poidʑi ɐnnɯn tɐoq tɐoq tɐoqs...</td>\n    </tr>\n    <tr>\n      <th>3583</th>\n      <td>바람처럼</td>\n      <td>한영애</td>\n      <td>/content/drive/MyDrive/data/svs/music/바람 한영애(가...</td>\n      <td>sumɐnɯn siqɐni tɕinɐqɐdo nɯɫ ɡɐthɯn tɕɐɾie inn...</td>\n    </tr>\n    <tr>\n      <th>3586</th>\n      <td>바람</td>\n      <td>헤이즈 (Heize)</td>\n      <td>/content/drive/MyDrive/data/svs/music/【韓中字】 He...</td>\n      <td>aɪ dʒʌst wɒntɪd tuː pleɪ ðɪs ɡeɪm sɐɾɐŋiɾɐn ɡɐ...</td>\n    </tr>\n  </tbody>\n</table>\n</div>"
     },
     "metadata": {},
     "execution_count": 29
    }
   ],
   "source": [
    "non_appropriate_df.tail()"
   ]
  },
  {
   "cell_type": "code",
   "execution_count": 34,
   "metadata": {},
   "outputs": [
    {
     "output_type": "execute_result",
     "data": {
      "text/plain": [
       "                titles    artist  \\\n",
       "0  아름다운 강산 (With. 민영기)       정동하   \n",
       "1              아름다운 강산  알리 (ALi)   \n",
       "2    ...라구요 (원곡가수 강산에)       한영애   \n",
       "3  아껴둔 이야기 (Full Ver.)       강성훈   \n",
       "4              My Girl       강성훈   \n",
       "\n",
       "                                          video_name  \\\n",
       "0  /content/drive/MyDrive/data/svs/music/불후의명곡 Im...   \n",
       "1  /content/drive/MyDrive/data/svs/music/알리 - 아름다...   \n",
       "2  /content/drive/MyDrive/data/svs/music/[ROCK] 강...   \n",
       "3  /content/drive/MyDrive/data/svs/music/강성훈   아껴...   \n",
       "4  /content/drive/MyDrive/data/svs/music/❤My Girl...   \n",
       "\n",
       "                                              lyrics  \n",
       "0  hɐnɯɾɯn phɐɾɐtkhe ɡuɾɯmɯn hɐjɐtkhe siɫbɐɾɐmdo ...  \n",
       "1  hɐnɯɾɯn phɐɾɐtkhe slaʃ ɡuɾɯmɯn hɐjɐtkhe siɫbɐɾ...  \n",
       "2  dumɐnqɐŋ phuɾɯn muɾe no tɕʌnnɯn pɛtsɐqoŋɯɫ poɫ...  \n",
       "3  ɐdʑiqto ɡɯdɛɾoindʑi siqɐni deɾjʌqɐn nimosɯp hi...  \n",
       "4  wəʊ huː jɛh heɪ heɪ seɪ maɪ dɹiːmz kʌm tɹuː ma...  "
      ],
      "text/html": "<div>\n<style scoped>\n    .dataframe tbody tr th:only-of-type {\n        vertical-align: middle;\n    }\n\n    .dataframe tbody tr th {\n        vertical-align: top;\n    }\n\n    .dataframe thead th {\n        text-align: right;\n    }\n</style>\n<table border=\"1\" class=\"dataframe\">\n  <thead>\n    <tr style=\"text-align: right;\">\n      <th></th>\n      <th>titles</th>\n      <th>artist</th>\n      <th>video_name</th>\n      <th>lyrics</th>\n    </tr>\n  </thead>\n  <tbody>\n    <tr>\n      <th>0</th>\n      <td>아름다운 강산 (With. 민영기)</td>\n      <td>정동하</td>\n      <td>/content/drive/MyDrive/data/svs/music/불후의명곡 Im...</td>\n      <td>hɐnɯɾɯn phɐɾɐtkhe ɡuɾɯmɯn hɐjɐtkhe siɫbɐɾɐmdo ...</td>\n    </tr>\n    <tr>\n      <th>1</th>\n      <td>아름다운 강산</td>\n      <td>알리 (ALi)</td>\n      <td>/content/drive/MyDrive/data/svs/music/알리 - 아름다...</td>\n      <td>hɐnɯɾɯn phɐɾɐtkhe slaʃ ɡuɾɯmɯn hɐjɐtkhe siɫbɐɾ...</td>\n    </tr>\n    <tr>\n      <th>2</th>\n      <td>...라구요 (원곡가수 강산에)</td>\n      <td>한영애</td>\n      <td>/content/drive/MyDrive/data/svs/music/[ROCK] 강...</td>\n      <td>dumɐnqɐŋ phuɾɯn muɾe no tɕʌnnɯn pɛtsɐqoŋɯɫ poɫ...</td>\n    </tr>\n    <tr>\n      <th>3</th>\n      <td>아껴둔 이야기 (Full Ver.)</td>\n      <td>강성훈</td>\n      <td>/content/drive/MyDrive/data/svs/music/강성훈   아껴...</td>\n      <td>ɐdʑiqto ɡɯdɛɾoindʑi siqɐni deɾjʌqɐn nimosɯp hi...</td>\n    </tr>\n    <tr>\n      <th>4</th>\n      <td>My Girl</td>\n      <td>강성훈</td>\n      <td>/content/drive/MyDrive/data/svs/music/❤My Girl...</td>\n      <td>wəʊ huː jɛh heɪ heɪ seɪ maɪ dɹiːmz kʌm tɹuː ma...</td>\n    </tr>\n  </tbody>\n</table>\n</div>"
     },
     "metadata": {},
     "execution_count": 34
    }
   ],
   "source": [
    "appropriate_data = data.drop(index = non_appropriate_df.index)\n",
    "appropriate_data.head()"
   ]
  },
  {
   "cell_type": "code",
   "execution_count": 35,
   "metadata": {},
   "outputs": [],
   "source": [
    "appropriate_data.to_csv('data/rm_missmatch.group_singer_rm.ipa.singer_up40.mr_removed.lyrics_alinged.tab_removed.tsv',index=False,header=None,sep='\\t')"
   ]
  },
  {
   "cell_type": "code",
   "execution_count": 42,
   "metadata": {},
   "outputs": [
    {
     "output_type": "stream",
     "name": "stdout",
     "text": [
      "{'KCM': 1,\n 'MC몽': 3,\n 'SE7EN': 2,\n '강성훈': 1,\n '권인하': 3,\n '김동률': 2,\n '김민종': 1,\n '김진호 (SG워너비)': 9,\n '김혁건': 12,\n '나희경': 1,\n '달빛요정 역전만루홈런': 4,\n '박상민': 2,\n '박혜경': 3,\n '박효신': 1,\n '볼빨간사춘기': 1,\n '성시경': 1,\n '손승연': 2,\n '신해철': 2,\n '안예슬': 3,\n '알리 (ALi)': 1,\n '양수경': 1,\n '엄정화': 2,\n '에릭남 (Eric Nam)': 2,\n '영탁': 1,\n '웅산': 3,\n '유영진': 3,\n '윤종신': 1,\n '이석훈': 1,\n '이승환': 1,\n '이찬원': 1,\n '이효리': 1,\n '임영웅': 1,\n '임태경': 2,\n '적우': 2,\n '정준일': 1,\n '제이세라': 1,\n '조항조': 1,\n '최진희': 2,\n '태연 (TAEYEON)': 2,\n '폴킴': 1,\n '한영애': 3,\n '헤이즈 (Heize)': 1,\n '휘성 (Realslow)': 4}\n"
     ]
    }
   ],
   "source": [
    "from pprint import pprint\n",
    "artist_counter = {}\n",
    "for artist in non_appropriate_df['artist']:\n",
    "    try:\n",
    "        artist_counter[artist] += 1\n",
    "    except:\n",
    "        artist_counter[artist] = 1\n",
    "pprint(artist_counter)"
   ]
  },
  {
   "cell_type": "code",
   "execution_count": 44,
   "metadata": {},
   "outputs": [
    {
     "output_type": "execute_result",
     "data": {
      "text/plain": [
       "3498"
      ]
     },
     "metadata": {},
     "execution_count": 44
    }
   ],
   "source": [
    "len(appropriate_data)"
   ]
  },
  {
   "cell_type": "code",
   "execution_count": 5,
   "metadata": {},
   "outputs": [
    {
     "output_type": "error",
     "ename": "HeaderNotFoundError",
     "evalue": "can't sync to MPEG frame",
     "traceback": [
      "\u001b[1;31m---------------------------------------------------------------------------\u001b[0m",
      "\u001b[1;31mHeaderNotFoundError\u001b[0m                       Traceback (most recent call last)",
      "\u001b[1;32m<ipython-input-5-ea0a2b684ece>\u001b[0m in \u001b[0;36m<module>\u001b[1;34m\u001b[0m\n\u001b[0;32m      1\u001b[0m \u001b[1;32mfrom\u001b[0m \u001b[0mmutagen\u001b[0m\u001b[1;33m.\u001b[0m\u001b[0mmp3\u001b[0m \u001b[1;32mimport\u001b[0m \u001b[0mMP3\u001b[0m\u001b[1;33m\u001b[0m\u001b[1;33m\u001b[0m\u001b[0m\n\u001b[1;32m----> 2\u001b[1;33m \u001b[0maudio\u001b[0m \u001b[1;33m=\u001b[0m \u001b[0mMP3\u001b[0m\u001b[1;33m(\u001b[0m\u001b[1;34m\"C:/Users/Lee/Downloads/[ 가사  Lyrics ] 장범준 - 주홍빛거리.mp3\"\u001b[0m\u001b[1;33m)\u001b[0m\u001b[1;33m\u001b[0m\u001b[1;33m\u001b[0m\u001b[0m\n\u001b[0m",
      "\u001b[1;32m~\\anaconda3\\envs\\crawl\\lib\\site-packages\\mutagen\\_file.py\u001b[0m in \u001b[0;36m__init__\u001b[1;34m(self, *args, **kwargs)\u001b[0m\n\u001b[0;32m     46\u001b[0m                           DeprecationWarning)\n\u001b[0;32m     47\u001b[0m         \u001b[1;32melse\u001b[0m\u001b[1;33m:\u001b[0m\u001b[1;33m\u001b[0m\u001b[1;33m\u001b[0m\u001b[0m\n\u001b[1;32m---> 48\u001b[1;33m             \u001b[0mself\u001b[0m\u001b[1;33m.\u001b[0m\u001b[0mload\u001b[0m\u001b[1;33m(\u001b[0m\u001b[1;33m*\u001b[0m\u001b[0margs\u001b[0m\u001b[1;33m,\u001b[0m \u001b[1;33m**\u001b[0m\u001b[0mkwargs\u001b[0m\u001b[1;33m)\u001b[0m\u001b[1;33m\u001b[0m\u001b[1;33m\u001b[0m\u001b[0m\n\u001b[0m\u001b[0;32m     49\u001b[0m \u001b[1;33m\u001b[0m\u001b[0m\n\u001b[0;32m     50\u001b[0m     \u001b[1;33m@\u001b[0m\u001b[0mloadfile\u001b[0m\u001b[1;33m(\u001b[0m\u001b[1;33m)\u001b[0m\u001b[1;33m\u001b[0m\u001b[1;33m\u001b[0m\u001b[0m\n",
      "\u001b[1;32m~\\anaconda3\\envs\\crawl\\lib\\site-packages\\mutagen\\_util.py\u001b[0m in \u001b[0;36mwrapper\u001b[1;34m(self, *args, **kwargs)\u001b[0m\n\u001b[0;32m    154\u001b[0m             with _openfile(self, filething, filename, fileobj,\n\u001b[0;32m    155\u001b[0m                            writable, create) as h:\n\u001b[1;32m--> 156\u001b[1;33m                 \u001b[1;32mreturn\u001b[0m \u001b[0mfunc\u001b[0m\u001b[1;33m(\u001b[0m\u001b[0mself\u001b[0m\u001b[1;33m,\u001b[0m \u001b[0mh\u001b[0m\u001b[1;33m,\u001b[0m \u001b[1;33m*\u001b[0m\u001b[0margs\u001b[0m\u001b[1;33m,\u001b[0m \u001b[1;33m**\u001b[0m\u001b[0mkwargs\u001b[0m\u001b[1;33m)\u001b[0m\u001b[1;33m\u001b[0m\u001b[1;33m\u001b[0m\u001b[0m\n\u001b[0m\u001b[0;32m    157\u001b[0m \u001b[1;33m\u001b[0m\u001b[0m\n\u001b[0;32m    158\u001b[0m         \u001b[1;33m@\u001b[0m\u001b[0mwraps\u001b[0m\u001b[1;33m(\u001b[0m\u001b[0mfunc\u001b[0m\u001b[1;33m)\u001b[0m\u001b[1;33m\u001b[0m\u001b[1;33m\u001b[0m\u001b[0m\n",
      "\u001b[1;32m~\\anaconda3\\envs\\crawl\\lib\\site-packages\\mutagen\\id3\\_file.py\u001b[0m in \u001b[0;36mload\u001b[1;34m(self, filething, ID3, **kwargs)\u001b[0m\n\u001b[0;32m    419\u001b[0m             \u001b[0moffset\u001b[0m \u001b[1;33m=\u001b[0m \u001b[1;32mNone\u001b[0m\u001b[1;33m\u001b[0m\u001b[1;33m\u001b[0m\u001b[0m\n\u001b[0;32m    420\u001b[0m \u001b[1;33m\u001b[0m\u001b[0m\n\u001b[1;32m--> 421\u001b[1;33m         \u001b[0mself\u001b[0m\u001b[1;33m.\u001b[0m\u001b[0minfo\u001b[0m \u001b[1;33m=\u001b[0m \u001b[0mself\u001b[0m\u001b[1;33m.\u001b[0m\u001b[0m_Info\u001b[0m\u001b[1;33m(\u001b[0m\u001b[0mfileobj\u001b[0m\u001b[1;33m,\u001b[0m \u001b[0moffset\u001b[0m\u001b[1;33m)\u001b[0m\u001b[1;33m\u001b[0m\u001b[1;33m\u001b[0m\u001b[0m\n\u001b[0m",
      "\u001b[1;32m~\\anaconda3\\envs\\crawl\\lib\\site-packages\\mutagen\\_util.py\u001b[0m in \u001b[0;36mwrapper\u001b[1;34m(*args, **kwargs)\u001b[0m\n\u001b[0;32m    183\u001b[0m         \u001b[1;32mdef\u001b[0m \u001b[0mwrapper\u001b[0m\u001b[1;33m(\u001b[0m\u001b[1;33m*\u001b[0m\u001b[0margs\u001b[0m\u001b[1;33m,\u001b[0m \u001b[1;33m**\u001b[0m\u001b[0mkwargs\u001b[0m\u001b[1;33m)\u001b[0m\u001b[1;33m:\u001b[0m\u001b[1;33m\u001b[0m\u001b[1;33m\u001b[0m\u001b[0m\n\u001b[0;32m    184\u001b[0m             \u001b[1;32mtry\u001b[0m\u001b[1;33m:\u001b[0m\u001b[1;33m\u001b[0m\u001b[1;33m\u001b[0m\u001b[0m\n\u001b[1;32m--> 185\u001b[1;33m                 \u001b[1;32mreturn\u001b[0m \u001b[0mfunc\u001b[0m\u001b[1;33m(\u001b[0m\u001b[1;33m*\u001b[0m\u001b[0margs\u001b[0m\u001b[1;33m,\u001b[0m \u001b[1;33m**\u001b[0m\u001b[0mkwargs\u001b[0m\u001b[1;33m)\u001b[0m\u001b[1;33m\u001b[0m\u001b[1;33m\u001b[0m\u001b[0m\n\u001b[0m\u001b[0;32m    186\u001b[0m             \u001b[1;32mexcept\u001b[0m \u001b[0mexc_dest\u001b[0m\u001b[1;33m:\u001b[0m\u001b[1;33m\u001b[0m\u001b[1;33m\u001b[0m\u001b[0m\n\u001b[0;32m    187\u001b[0m                 \u001b[1;32mraise\u001b[0m\u001b[1;33m\u001b[0m\u001b[1;33m\u001b[0m\u001b[0m\n",
      "\u001b[1;32m~\\anaconda3\\envs\\crawl\\lib\\site-packages\\mutagen\\mp3\\__init__.py\u001b[0m in \u001b[0;36m__init__\u001b[1;34m(self, fileobj, offset)\u001b[0m\n\u001b[0;32m    400\u001b[0m \u001b[1;33m\u001b[0m\u001b[0m\n\u001b[0;32m    401\u001b[0m         \u001b[1;32mif\u001b[0m \u001b[0mfirst_frame\u001b[0m \u001b[1;32mis\u001b[0m \u001b[1;32mNone\u001b[0m\u001b[1;33m:\u001b[0m\u001b[1;33m\u001b[0m\u001b[1;33m\u001b[0m\u001b[0m\n\u001b[1;32m--> 402\u001b[1;33m             \u001b[1;32mraise\u001b[0m \u001b[0mHeaderNotFoundError\u001b[0m\u001b[1;33m(\u001b[0m\u001b[1;34m\"can't sync to MPEG frame\"\u001b[0m\u001b[1;33m)\u001b[0m\u001b[1;33m\u001b[0m\u001b[1;33m\u001b[0m\u001b[0m\n\u001b[0m\u001b[0;32m    403\u001b[0m \u001b[1;33m\u001b[0m\u001b[0m\n\u001b[0;32m    404\u001b[0m         \u001b[1;32massert\u001b[0m \u001b[0mfirst_frame\u001b[0m\u001b[1;33m\u001b[0m\u001b[1;33m\u001b[0m\u001b[0m\n",
      "\u001b[1;31mHeaderNotFoundError\u001b[0m: can't sync to MPEG frame"
     ]
    }
   ],
   "source": [
    "from mutagen.mp3 import MP3\n",
    "audio = MP3(\"C:/Users/Lee/Downloads/[ 가사  Lyrics ] 장범준 - 주홍빛거리.mp3\")"
   ]
  },
  {
   "cell_type": "code",
   "execution_count": 7,
   "metadata": {},
   "outputs": [],
   "source": [
    "import librosa\n",
    "audio_path = \"C:/Users/Lee/Downloads/accompaniment.wav\"\n",
    "y,sr = librosa.load(audio_path) "
   ]
  },
  {
   "cell_type": "code",
   "execution_count": null,
   "metadata": {},
   "outputs": [],
   "source": [
    "#from colab\n",
    "import librosa\n",
    "import pandas as pd\n",
    "import os\n",
    "import glob\n",
    "\n",
    "data = pd.read_csv('rm_missmatch.group_singer_rm.ipa.singer_up40.mr_removed.lyrics_alinged.tab_removed.tsv',sep='\\t')\n",
    "data.head()\n",
    "\n",
    "saved_path = '/content/drive/MyDrive/data/svs/appropriate_data/'\n",
    "for index,video_name in enumerate(data['video_name']):\n",
    "  video_path = saved_path + video_name[38:]\n",
    "  data['video_name'][index] = video_name[38:-4]\n",
    "\n",
    "data.tail()\n",
    "\n",
    "data.to_csv('path_renamed.rm_missmatch.group_singer_rm.ipa.singer_up40.mr_removed.lyrics_alinged.tab_removed.tsv',index=False,header=None,sep='\\t')\n",
    "\n",
    "saved_path = '/content/drive/MyDrive/data/svs/appropriate_data/'\n",
    "for video_name in data['video_name']:\n",
    "  saved_video_path = saved_path + video_name +'.mp3'\n",
    "  save_video_path = saved_path + video_name + '.wav'\n",
    "  try:\n",
    "    os.rename(saved_video_path,save_video_path)\n",
    "  except:\n",
    "    pass\n",
    "\n",
    "files = glob.glob('/content/drive/MyDrive/data/svs/appropriate_data/*.wav')\n",
    "len(files)\n",
    "\n",
    "data = pd.read_csv('feat_rm.path_renamed.rm_missmatch.group_singer_rm.ipa.singer_up40.mr_removed.lyrics_alinged.tab_removed.tsv',sep='\\t')\n",
    "data.tail()\n",
    "\n",
    "from pprint import pprint\n",
    "video_counter = {}\n",
    "for video_name in data['video_name']:\n",
    "  try:\n",
    "    video_counter[video_name] +=1\n",
    "  except:\n",
    "    video_counter[video_name] = 1\n",
    "for key,value in video_counter.items():\n",
    "  if value>1:\n",
    "    print(key+'\\t'+str(value))\n",
    "\n",
    "import re\n",
    "pattern = re.compile('with\\s{0,}[ㄱ-ㅎ|ㅏ-ㅣ|가-힣]')\n",
    "\n",
    "removal_index = []\n",
    "for index,x in enumerate(zip(data['title'],data['video_name'])):\n",
    "  title,v_name = x\n",
    "  #if 'with' in title.lower() or 'with' in v_name.lower():\n",
    "  if pattern.search(title.lower()) is not None or pattern.search(v_name.lower()) is not None or 'duet' in title.lower() or 'duet' in v_name.lower():\n",
    "    removal_index.append(index)\n",
    "    print(title+'_'+v_name)\n",
    "print(len(removal_index))\n",
    "\n",
    "del removal_index[11]\n",
    "print(removal_index)\n",
    "\n",
    "zduet_rm_data = removal_index\n",
    "\n",
    "\n",
    "\n",
    "duet_rm_data = data.drop(index=removal_index)\n",
    "duet_rm_data.tail()\n",
    "\n",
    "len(duet_rm_data)\n",
    "\n",
    "from pprint import pprint\n",
    "video_counter = {}\n",
    "for video_name in feat_rm_data['video_name']:\n",
    "  try:\n",
    "    video_counter[video_name] +=1\n",
    "  except:\n",
    "    video_counter[video_name] = 1\n",
    "for key,value in video_counter.items():\n",
    "  if value>1:\n",
    "    print(key+'\\t'+str(value))\n",
    "\n",
    "duet_rm_data.to_csv('duet_rm.feat_rm.path_renamed.rm_missmatch.group_singer_rm.ipa.singer_up40.mr_removed.lyrics_alinged.tab_removed.tsv',index=False,header=None,sep='\\t')\n",
    "\n",
    "data = pd.read_csv('duet_rm.feat_rm.path_renamed.rm_missmatch.group_singer_rm.ipa.singer_up40.mr_removed.lyrics_alinged.tab_removed.tsv',sep='\\t')\n",
    "data.tail()\n",
    "\n",
    "from pprint import pprint\n",
    "video_counter = {}\n",
    "for video_name in data['video_name']:\n",
    "  try:\n",
    "    video_counter[video_name] +=1\n",
    "  except:\n",
    "    video_counter[video_name] = 1\n",
    "for key,value in video_counter.items():\n",
    "  if value>1:\n",
    "    print(key+'\\t'+str(value))\n",
    "\n",
    "import re\n",
    "\n",
    "removal_index = []\n",
    "for index,x in enumerate(zip(data['title'],data['video_name'])):\n",
    "  title,v_name = x\n",
    "  #if 'with' in title.lower() or 'with' in v_name.lower():\n",
    "  if 'live' in title.lower() or 'live' in v_name.lower():\n",
    "    removal_index.append(index)\n",
    "    print(title+'_'+v_name)\n",
    "print(len(removal_index))\n",
    "\n",
    "live_rm_data = data.drop(index=removal_index)\n",
    "len(live_rm_data)\n",
    "\n",
    "live_rm_data.to_csv('live_rm.duet_rm.feat_rm.path_renamed.rm_missmatch.group_singer_rm.ipa.singer_up40.mr_removed.lyrics_alinged.tab_removed.tsv',sep='\\t')\n",
    "\n"
   ]
  },
  {
   "cell_type": "code",
   "execution_count": 1,
   "metadata": {},
   "outputs": [
    {
     "output_type": "execute_result",
     "data": {
      "text/plain": [
       "      Unnamed: 0                               title artist  \\\n",
       "2991        3006                            불어오라 바람아    한영애   \n",
       "2992        3007                                   봄    한영애   \n",
       "2993        3008                    키키키 (With MIIII)      벤   \n",
       "2994        3009  사랑해 행복해 (Prod. By 선우정아X안신애 (바버렛츠))    KCM   \n",
       "2995        3010                        꾸러기 (Groggy)    김범수   \n",
       "\n",
       "                                             video_name  \\\n",
       "2991                            불어오라 바람아 Blow Wind Blow   \n",
       "2992                                                  봄   \n",
       "2993         MIIII & Ben (Bebe Mignon) - 키키키 (Ki Ki Ki)   \n",
       "2994  사랑해 행복해 (Prod By 선우정아X안신애 (바버렛츠)) I Love You B...   \n",
       "2995                                       꾸러기 (Groggy)   \n",
       "\n",
       "                                                  lyric  \n",
       "2991  idʑenɯn modu doɾɐqɐ tɕedʑɐɾie ɐnnɯndɐ puɫthɐnɯ...  \n",
       "2992  jʌnbunhoŋ tʃhimɐqɐ pom pɐɾɐme hwinɐlidʌɾɐ onɯɫ...  \n",
       "2993  khikhikhikhikhi khikhikhikhikhi nɐnɯn khido tɕ...  \n",
       "2994  sɐɾɐmdɯɾɯn ɡɯdʑʌ somthʌɫmuŋtʃhi sɐɾɐmdɯɾɯn tɕi...  \n",
       "2995  ɡɐbjʌun noŋdɐmɯɾo sɐɾɐŋɯɫ tɕikhiɫ sun ʌpsʌ him...  "
      ],
      "text/html": "<div>\n<style scoped>\n    .dataframe tbody tr th:only-of-type {\n        vertical-align: middle;\n    }\n\n    .dataframe tbody tr th {\n        vertical-align: top;\n    }\n\n    .dataframe thead th {\n        text-align: right;\n    }\n</style>\n<table border=\"1\" class=\"dataframe\">\n  <thead>\n    <tr style=\"text-align: right;\">\n      <th></th>\n      <th>Unnamed: 0</th>\n      <th>title</th>\n      <th>artist</th>\n      <th>video_name</th>\n      <th>lyric</th>\n    </tr>\n  </thead>\n  <tbody>\n    <tr>\n      <th>2991</th>\n      <td>3006</td>\n      <td>불어오라 바람아</td>\n      <td>한영애</td>\n      <td>불어오라 바람아 Blow Wind Blow</td>\n      <td>idʑenɯn modu doɾɐqɐ tɕedʑɐɾie ɐnnɯndɐ puɫthɐnɯ...</td>\n    </tr>\n    <tr>\n      <th>2992</th>\n      <td>3007</td>\n      <td>봄</td>\n      <td>한영애</td>\n      <td>봄</td>\n      <td>jʌnbunhoŋ tʃhimɐqɐ pom pɐɾɐme hwinɐlidʌɾɐ onɯɫ...</td>\n    </tr>\n    <tr>\n      <th>2993</th>\n      <td>3008</td>\n      <td>키키키 (With MIIII)</td>\n      <td>벤</td>\n      <td>MIIII &amp; Ben (Bebe Mignon) - 키키키 (Ki Ki Ki)</td>\n      <td>khikhikhikhikhi khikhikhikhikhi nɐnɯn khido tɕ...</td>\n    </tr>\n    <tr>\n      <th>2994</th>\n      <td>3009</td>\n      <td>사랑해 행복해 (Prod. By 선우정아X안신애 (바버렛츠))</td>\n      <td>KCM</td>\n      <td>사랑해 행복해 (Prod By 선우정아X안신애 (바버렛츠)) I Love You B...</td>\n      <td>sɐɾɐmdɯɾɯn ɡɯdʑʌ somthʌɫmuŋtʃhi sɐɾɐmdɯɾɯn tɕi...</td>\n    </tr>\n    <tr>\n      <th>2995</th>\n      <td>3010</td>\n      <td>꾸러기 (Groggy)</td>\n      <td>김범수</td>\n      <td>꾸러기 (Groggy)</td>\n      <td>ɡɐbjʌun noŋdɐmɯɾo sɐɾɐŋɯɫ tɕikhiɫ sun ʌpsʌ him...</td>\n    </tr>\n  </tbody>\n</table>\n</div>"
     },
     "metadata": {},
     "execution_count": 1
    }
   ],
   "source": [
    "import pandas as pd\n",
    "data = pd.read_csv('data/live_rm.duet_rm.feat_rm.path_renamed.rm_missmatch.group_singer_rm.ipa.singer_up40.mr_removed.lyrics_alinged.tab_removed.tsv',sep='\\t')\n",
    "data.tail()"
   ]
  },
  {
   "cell_type": "code",
   "execution_count": 4,
   "metadata": {},
   "outputs": [
    {
     "output_type": "execute_result",
     "data": {
      "text/plain": [
       "                 title    artist  \\\n",
       "0              아름다운 강산  알리 (ALi)   \n",
       "1    ...라구요 (원곡가수 강산에)       한영애   \n",
       "2  아껴둔 이야기 (Full Ver.)       강성훈   \n",
       "3              My Girl       강성훈   \n",
       "4                  영원히       강성훈   \n",
       "\n",
       "                                          video_name  \\\n",
       "0  알리 - 아름다운 강산 [불후의 명곡2 전설을 노래하다Immortal Songs 2...   \n",
       "1                            [ROCK] 강산에 - 라구요 │ 가사포함   \n",
       "2                               강성훈   아껴둔 이야기(가사 첨부)   \n",
       "3                               ❤My Girl  강성훈 [가사첨부]   \n",
       "4                                   강성훈  영원히 (가사 첨부)   \n",
       "\n",
       "                                               lyric  \n",
       "0  hɐnɯɾɯn phɐɾɐtkhe slaʃ ɡuɾɯmɯn hɐjɐtkhe siɫbɐɾ...  \n",
       "1  dumɐnqɐŋ phuɾɯn muɾe no tɕʌnnɯn pɛtsɐqoŋɯɫ poɫ...  \n",
       "2  ɐdʑiqto ɡɯdɛɾoindʑi siqɐni deɾjʌqɐn nimosɯp hi...  \n",
       "3  wəʊ huː jɛh heɪ heɪ seɪ maɪ dɹiːmz kʌm tɹuː ma...  \n",
       "4  wɛn aɪ lɒst ɪn maɪ hɑːt ʌɾjʌpke uttʌn ni mosɯp...  "
      ],
      "text/html": "<div>\n<style scoped>\n    .dataframe tbody tr th:only-of-type {\n        vertical-align: middle;\n    }\n\n    .dataframe tbody tr th {\n        vertical-align: top;\n    }\n\n    .dataframe thead th {\n        text-align: right;\n    }\n</style>\n<table border=\"1\" class=\"dataframe\">\n  <thead>\n    <tr style=\"text-align: right;\">\n      <th></th>\n      <th>title</th>\n      <th>artist</th>\n      <th>video_name</th>\n      <th>lyric</th>\n    </tr>\n  </thead>\n  <tbody>\n    <tr>\n      <th>0</th>\n      <td>아름다운 강산</td>\n      <td>알리 (ALi)</td>\n      <td>알리 - 아름다운 강산 [불후의 명곡2 전설을 노래하다Immortal Songs 2...</td>\n      <td>hɐnɯɾɯn phɐɾɐtkhe slaʃ ɡuɾɯmɯn hɐjɐtkhe siɫbɐɾ...</td>\n    </tr>\n    <tr>\n      <th>1</th>\n      <td>...라구요 (원곡가수 강산에)</td>\n      <td>한영애</td>\n      <td>[ROCK] 강산에 - 라구요 │ 가사포함</td>\n      <td>dumɐnqɐŋ phuɾɯn muɾe no tɕʌnnɯn pɛtsɐqoŋɯɫ poɫ...</td>\n    </tr>\n    <tr>\n      <th>2</th>\n      <td>아껴둔 이야기 (Full Ver.)</td>\n      <td>강성훈</td>\n      <td>강성훈   아껴둔 이야기(가사 첨부)</td>\n      <td>ɐdʑiqto ɡɯdɛɾoindʑi siqɐni deɾjʌqɐn nimosɯp hi...</td>\n    </tr>\n    <tr>\n      <th>3</th>\n      <td>My Girl</td>\n      <td>강성훈</td>\n      <td>❤My Girl  강성훈 [가사첨부]</td>\n      <td>wəʊ huː jɛh heɪ heɪ seɪ maɪ dɹiːmz kʌm tɹuː ma...</td>\n    </tr>\n    <tr>\n      <th>4</th>\n      <td>영원히</td>\n      <td>강성훈</td>\n      <td>강성훈  영원히 (가사 첨부)</td>\n      <td>wɛn aɪ lɒst ɪn maɪ hɑːt ʌɾjʌpke uttʌn ni mosɯp...</td>\n    </tr>\n  </tbody>\n</table>\n</div>"
     },
     "metadata": {},
     "execution_count": 4
    }
   ],
   "source": [
    "data = data.drop(columns= 'Unnamed: 0')\n",
    "data.head()"
   ]
  },
  {
   "cell_type": "code",
   "execution_count": 10,
   "metadata": {},
   "outputs": [],
   "source": [
    "data.to_csv('data/live_rm.duet_rm.feat_rm.path_renamed.rm_missmatch.group_singer_rm.ipa.singer_up40.mr_removed.lyrics_alinged.tab_removed.tsv',index=False,sep='\\t')"
   ]
  },
  {
   "cell_type": "code",
   "execution_count": 1,
   "metadata": {},
   "outputs": [],
   "source": [
    "#5/9\n",
    "import pandas as pd"
   ]
  },
  {
   "cell_type": "code",
   "execution_count": 2,
   "metadata": {},
   "outputs": [
    {
     "output_type": "execute_result",
     "data": {
      "text/plain": [
       "                                   title artist  \\\n",
       "2919                            불어오라 바람아    한영애   \n",
       "2920                                   봄    한영애   \n",
       "2921                    키키키 (With MIIII)      벤   \n",
       "2922  사랑해 행복해 (Prod. By 선우정아X안신애 (바버렛츠))    KCM   \n",
       "2923                        꾸러기 (Groggy)    김범수   \n",
       "\n",
       "                                             video_name  \\\n",
       "2919                            불어오라 바람아 Blow Wind Blow   \n",
       "2920                                                  봄   \n",
       "2921         MIIII & Ben (Bebe Mignon) - 키키키 (Ki Ki Ki)   \n",
       "2922  사랑해 행복해 (Prod By 선우정아X안신애 (바버렛츠)) I Love You B...   \n",
       "2923                                       꾸러기 (Groggy)   \n",
       "\n",
       "                                                  lyric  \n",
       "2919  idʑenɯn modu doɾɐqɐ tɕedʑɐɾie ɐnnɯndɐ puɫthɐnɯ...  \n",
       "2920  jʌnbunhoŋ tʃhimɐqɐ pom pɐɾɐme hwinɐlidʌɾɐ onɯɫ...  \n",
       "2921  khikhikhikhikhi khikhikhikhikhi nɐnɯn khido tɕ...  \n",
       "2922  sɐɾɐmdɯɾɯn ɡɯdʑʌ somthʌɫmuŋtʃhi sɐɾɐmdɯɾɯn tɕi...  \n",
       "2923  ɡɐbjʌun noŋdɐmɯɾo sɐɾɐŋɯɫ tɕikhiɫ sun ʌpsʌ him...  "
      ],
      "text/html": "<div>\n<style scoped>\n    .dataframe tbody tr th:only-of-type {\n        vertical-align: middle;\n    }\n\n    .dataframe tbody tr th {\n        vertical-align: top;\n    }\n\n    .dataframe thead th {\n        text-align: right;\n    }\n</style>\n<table border=\"1\" class=\"dataframe\">\n  <thead>\n    <tr style=\"text-align: right;\">\n      <th></th>\n      <th>title</th>\n      <th>artist</th>\n      <th>video_name</th>\n      <th>lyric</th>\n    </tr>\n  </thead>\n  <tbody>\n    <tr>\n      <th>2919</th>\n      <td>불어오라 바람아</td>\n      <td>한영애</td>\n      <td>불어오라 바람아 Blow Wind Blow</td>\n      <td>idʑenɯn modu doɾɐqɐ tɕedʑɐɾie ɐnnɯndɐ puɫthɐnɯ...</td>\n    </tr>\n    <tr>\n      <th>2920</th>\n      <td>봄</td>\n      <td>한영애</td>\n      <td>봄</td>\n      <td>jʌnbunhoŋ tʃhimɐqɐ pom pɐɾɐme hwinɐlidʌɾɐ onɯɫ...</td>\n    </tr>\n    <tr>\n      <th>2921</th>\n      <td>키키키 (With MIIII)</td>\n      <td>벤</td>\n      <td>MIIII &amp; Ben (Bebe Mignon) - 키키키 (Ki Ki Ki)</td>\n      <td>khikhikhikhikhi khikhikhikhikhi nɐnɯn khido tɕ...</td>\n    </tr>\n    <tr>\n      <th>2922</th>\n      <td>사랑해 행복해 (Prod. By 선우정아X안신애 (바버렛츠))</td>\n      <td>KCM</td>\n      <td>사랑해 행복해 (Prod By 선우정아X안신애 (바버렛츠)) I Love You B...</td>\n      <td>sɐɾɐmdɯɾɯn ɡɯdʑʌ somthʌɫmuŋtʃhi sɐɾɐmdɯɾɯn tɕi...</td>\n    </tr>\n    <tr>\n      <th>2923</th>\n      <td>꾸러기 (Groggy)</td>\n      <td>김범수</td>\n      <td>꾸러기 (Groggy)</td>\n      <td>ɡɐbjʌun noŋdɐmɯɾo sɐɾɐŋɯɫ tɕikhiɫ sun ʌpsʌ him...</td>\n    </tr>\n  </tbody>\n</table>\n</div>"
     },
     "metadata": {},
     "execution_count": 2
    }
   ],
   "source": [
    "data = pd.read_csv('data/duration_filtered.live_rm.duet_rm.feat_rm.path_renamed.rm_missmatch.group_singer_rm.ipa.singer_up40.mr_removed.lyrics_alinged.tab_removed.tsv',sep='\\t')\n",
    "data.tail()"
   ]
  },
  {
   "cell_type": "code",
   "execution_count": 3,
   "metadata": {},
   "outputs": [
    {
     "output_type": "execute_result",
     "data": {
      "text/plain": [
       "                                   title artist\n",
       "2919                            불어오라 바람아    한영애\n",
       "2920                                   봄    한영애\n",
       "2921                    키키키 (With MIIII)      벤\n",
       "2922  사랑해 행복해 (Prod. By 선우정아X안신애 (바버렛츠))    KCM\n",
       "2923                        꾸러기 (Groggy)    김범수"
      ],
      "text/html": "<div>\n<style scoped>\n    .dataframe tbody tr th:only-of-type {\n        vertical-align: middle;\n    }\n\n    .dataframe tbody tr th {\n        vertical-align: top;\n    }\n\n    .dataframe thead th {\n        text-align: right;\n    }\n</style>\n<table border=\"1\" class=\"dataframe\">\n  <thead>\n    <tr style=\"text-align: right;\">\n      <th></th>\n      <th>title</th>\n      <th>artist</th>\n    </tr>\n  </thead>\n  <tbody>\n    <tr>\n      <th>2919</th>\n      <td>불어오라 바람아</td>\n      <td>한영애</td>\n    </tr>\n    <tr>\n      <th>2920</th>\n      <td>봄</td>\n      <td>한영애</td>\n    </tr>\n    <tr>\n      <th>2921</th>\n      <td>키키키 (With MIIII)</td>\n      <td>벤</td>\n    </tr>\n    <tr>\n      <th>2922</th>\n      <td>사랑해 행복해 (Prod. By 선우정아X안신애 (바버렛츠))</td>\n      <td>KCM</td>\n    </tr>\n    <tr>\n      <th>2923</th>\n      <td>꾸러기 (Groggy)</td>\n      <td>김범수</td>\n    </tr>\n  </tbody>\n</table>\n</div>"
     },
     "metadata": {},
     "execution_count": 3
    }
   ],
   "source": [
    "seperation_mark_data_list = data[['title','artist']]\n",
    "seperation_mark_data_list.tail()"
   ]
  },
  {
   "cell_type": "code",
   "execution_count": 4,
   "metadata": {},
   "outputs": [],
   "source": [
    "seperation_mark_data_list.to_csv('data/for_crawl_seperation_mark_dat_list.csv',index=False,sep='\\t')"
   ]
  },
  {
   "cell_type": "code",
   "execution_count": 2,
   "metadata": {},
   "outputs": [],
   "source": [
    "#5/13\n",
    "import pandas as pd\n",
    "import math"
   ]
  },
  {
   "cell_type": "code",
   "execution_count": 3,
   "metadata": {},
   "outputs": [
    {
     "output_type": "stream",
     "name": "stdout",
     "text": [
      "2836\n2697\n"
     ]
    },
    {
     "output_type": "execute_result",
     "data": {
      "text/plain": [
       "                titles artist  \\\n",
       "2831            나비의 겨울    박효신   \n",
       "2832           그대안의 블루    임영웅   \n",
       "2833        사랑한 걸로 됐어요    박효신   \n",
       "2834  키키키 (With MIIII)      벤   \n",
       "2835      꾸러기 (Groggy)    김범수   \n",
       "\n",
       "                                                 lyrics  \n",
       "2831  시간을 멈출수 있다면 온힘을 다해 막을텐데 어쩌면 우리 오늘이 마지막인데 잠시후면 ...  \n",
       "2832  난 난 눈을 감아요 빛과 그대 모습 사라져 이제 어둠이 밀려오네 저 파란 어둠 속에...  \n",
       "2833  아무런 걱정하지 말아요 나 하나 없다고 이 세상이 바뀌진 않아 참을 수 없이 아픈 ...  \n",
       "2834  키키키키키 키키키키키 나는 키도 작고 예쁘진 않지만  노래는 잘 불러 나는 키는 크...  \n",
       "2835  가벼운 농담으로 사랑을 지킬 순 없어 힘든 바램인가 싶어 curious 니가 준 사...  "
      ],
      "text/html": "<div>\n<style scoped>\n    .dataframe tbody tr th:only-of-type {\n        vertical-align: middle;\n    }\n\n    .dataframe tbody tr th {\n        vertical-align: top;\n    }\n\n    .dataframe thead th {\n        text-align: right;\n    }\n</style>\n<table border=\"1\" class=\"dataframe\">\n  <thead>\n    <tr style=\"text-align: right;\">\n      <th></th>\n      <th>titles</th>\n      <th>artist</th>\n      <th>lyrics</th>\n    </tr>\n  </thead>\n  <tbody>\n    <tr>\n      <th>2831</th>\n      <td>나비의 겨울</td>\n      <td>박효신</td>\n      <td>시간을 멈출수 있다면 온힘을 다해 막을텐데 어쩌면 우리 오늘이 마지막인데 잠시후면 ...</td>\n    </tr>\n    <tr>\n      <th>2832</th>\n      <td>그대안의 블루</td>\n      <td>임영웅</td>\n      <td>난 난 눈을 감아요 빛과 그대 모습 사라져 이제 어둠이 밀려오네 저 파란 어둠 속에...</td>\n    </tr>\n    <tr>\n      <th>2833</th>\n      <td>사랑한 걸로 됐어요</td>\n      <td>박효신</td>\n      <td>아무런 걱정하지 말아요 나 하나 없다고 이 세상이 바뀌진 않아 참을 수 없이 아픈 ...</td>\n    </tr>\n    <tr>\n      <th>2834</th>\n      <td>키키키 (With MIIII)</td>\n      <td>벤</td>\n      <td>키키키키키 키키키키키 나는 키도 작고 예쁘진 않지만  노래는 잘 불러 나는 키는 크...</td>\n    </tr>\n    <tr>\n      <th>2835</th>\n      <td>꾸러기 (Groggy)</td>\n      <td>김범수</td>\n      <td>가벼운 농담으로 사랑을 지킬 순 없어 힘든 바램인가 싶어 curious 니가 준 사...</td>\n    </tr>\n  </tbody>\n</table>\n</div>"
     },
     "metadata": {},
     "execution_count": 3
    }
   ],
   "source": [
    "melone_data = pd.read_csv('data/for_seperation_mark.melone_result.csv').drop(columns = ['Unnamed: 0'])\n",
    "genie_data = pd.read_csv('data/for_seperation_mark.genie_result.csv').drop(columns = ['Unnamed: 0'])\n",
    "print(len(melone_data))\n",
    "print(len(genie_data))\n",
    "melone_data.tail()\n"
   ]
  },
  {
   "cell_type": "code",
   "execution_count": 15,
   "metadata": {},
   "outputs": [
    {
     "output_type": "execute_result",
     "data": {
      "text/plain": [
       "             titles       artist  \\\n",
       "2692             편지          임태경   \n",
       "2693  인연 (원곡가수 이선희)           소향   \n",
       "2694             고백  김진호 (SG워너비)   \n",
       "2695        Endless          강성훈   \n",
       "2696          폭죽과 별  김진호 (SG워너비)   \n",
       "\n",
       "                                                 lyrics  \n",
       "2692  여기까지가 끝인가보오%이제 나는 돌아서겠소%억지 노력으로 인연을 거슬러%괴롭히지는 ...  \n",
       "2693  약속해요 %이 순간이 다 지나고 %다시 보게 %되는 그날 %모든 걸 버리고 %그대 ...  \n",
       "2694                                                NaN  \n",
       "2695                                                NaN  \n",
       "2696                                                NaN  "
      ],
      "text/html": "<div>\n<style scoped>\n    .dataframe tbody tr th:only-of-type {\n        vertical-align: middle;\n    }\n\n    .dataframe tbody tr th {\n        vertical-align: top;\n    }\n\n    .dataframe thead th {\n        text-align: right;\n    }\n</style>\n<table border=\"1\" class=\"dataframe\">\n  <thead>\n    <tr style=\"text-align: right;\">\n      <th></th>\n      <th>titles</th>\n      <th>artist</th>\n      <th>lyrics</th>\n    </tr>\n  </thead>\n  <tbody>\n    <tr>\n      <th>2692</th>\n      <td>편지</td>\n      <td>임태경</td>\n      <td>여기까지가 끝인가보오%이제 나는 돌아서겠소%억지 노력으로 인연을 거슬러%괴롭히지는 ...</td>\n    </tr>\n    <tr>\n      <th>2693</th>\n      <td>인연 (원곡가수 이선희)</td>\n      <td>소향</td>\n      <td>약속해요 %이 순간이 다 지나고 %다시 보게 %되는 그날 %모든 걸 버리고 %그대 ...</td>\n    </tr>\n    <tr>\n      <th>2694</th>\n      <td>고백</td>\n      <td>김진호 (SG워너비)</td>\n      <td>NaN</td>\n    </tr>\n    <tr>\n      <th>2695</th>\n      <td>Endless</td>\n      <td>강성훈</td>\n      <td>NaN</td>\n    </tr>\n    <tr>\n      <th>2696</th>\n      <td>폭죽과 별</td>\n      <td>김진호 (SG워너비)</td>\n      <td>NaN</td>\n    </tr>\n  </tbody>\n</table>\n</div>"
     },
     "metadata": {},
     "execution_count": 15
    }
   ],
   "source": [
    "genie_data.tail()"
   ]
  },
  {
   "cell_type": "code",
   "execution_count": 34,
   "metadata": {},
   "outputs": [
    {
     "output_type": "execute_result",
     "data": {
      "text/plain": [
       "          titles artist lyrics\n",
       "66        무조건 사랑    권인하    NaN\n",
       "201        그 때마다    김민종    NaN\n",
       "1428         친구야    조항조    NaN\n",
       "1781       Angel  SE7EN    NaN\n",
       "2410  I Love You     웅산    NaN"
      ],
      "text/html": "<div>\n<style scoped>\n    .dataframe tbody tr th:only-of-type {\n        vertical-align: middle;\n    }\n\n    .dataframe tbody tr th {\n        vertical-align: top;\n    }\n\n    .dataframe thead th {\n        text-align: right;\n    }\n</style>\n<table border=\"1\" class=\"dataframe\">\n  <thead>\n    <tr style=\"text-align: right;\">\n      <th></th>\n      <th>titles</th>\n      <th>artist</th>\n      <th>lyrics</th>\n    </tr>\n  </thead>\n  <tbody>\n    <tr>\n      <th>66</th>\n      <td>무조건 사랑</td>\n      <td>권인하</td>\n      <td>NaN</td>\n    </tr>\n    <tr>\n      <th>201</th>\n      <td>그 때마다</td>\n      <td>김민종</td>\n      <td>NaN</td>\n    </tr>\n    <tr>\n      <th>1428</th>\n      <td>친구야</td>\n      <td>조항조</td>\n      <td>NaN</td>\n    </tr>\n    <tr>\n      <th>1781</th>\n      <td>Angel</td>\n      <td>SE7EN</td>\n      <td>NaN</td>\n    </tr>\n    <tr>\n      <th>2410</th>\n      <td>I Love You</td>\n      <td>웅산</td>\n      <td>NaN</td>\n    </tr>\n  </tbody>\n</table>\n</div>"
     },
     "metadata": {},
     "execution_count": 34
    }
   ],
   "source": [
    "melone_data[melone_data.isna().any(axis=1)]"
   ]
  },
  {
   "cell_type": "code",
   "execution_count": 35,
   "metadata": {},
   "outputs": [
    {
     "output_type": "execute_result",
     "data": {
      "text/plain": [
       "                 titles       artist lyrics\n",
       "7     ...라구요 (원곡가수 강산에)          한영애    NaN\n",
       "1818  은하수(恩하受)_큰 사랑을 얻다          강성훈    NaN\n",
       "2597                Now          김경호    NaN\n",
       "2657                언젠가  김진호 (SG워너비)    NaN\n",
       "2680        가족사진 (2020)  김진호 (SG워너비)    NaN\n",
       "2688               졸업사진  김진호 (SG워너비)    NaN\n",
       "2694                 고백  김진호 (SG워너비)    NaN\n",
       "2695            Endless          강성훈    NaN\n",
       "2696              폭죽과 별  김진호 (SG워너비)    NaN"
      ],
      "text/html": "<div>\n<style scoped>\n    .dataframe tbody tr th:only-of-type {\n        vertical-align: middle;\n    }\n\n    .dataframe tbody tr th {\n        vertical-align: top;\n    }\n\n    .dataframe thead th {\n        text-align: right;\n    }\n</style>\n<table border=\"1\" class=\"dataframe\">\n  <thead>\n    <tr style=\"text-align: right;\">\n      <th></th>\n      <th>titles</th>\n      <th>artist</th>\n      <th>lyrics</th>\n    </tr>\n  </thead>\n  <tbody>\n    <tr>\n      <th>7</th>\n      <td>...라구요 (원곡가수 강산에)</td>\n      <td>한영애</td>\n      <td>NaN</td>\n    </tr>\n    <tr>\n      <th>1818</th>\n      <td>은하수(恩하受)_큰 사랑을 얻다</td>\n      <td>강성훈</td>\n      <td>NaN</td>\n    </tr>\n    <tr>\n      <th>2597</th>\n      <td>Now</td>\n      <td>김경호</td>\n      <td>NaN</td>\n    </tr>\n    <tr>\n      <th>2657</th>\n      <td>언젠가</td>\n      <td>김진호 (SG워너비)</td>\n      <td>NaN</td>\n    </tr>\n    <tr>\n      <th>2680</th>\n      <td>가족사진 (2020)</td>\n      <td>김진호 (SG워너비)</td>\n      <td>NaN</td>\n    </tr>\n    <tr>\n      <th>2688</th>\n      <td>졸업사진</td>\n      <td>김진호 (SG워너비)</td>\n      <td>NaN</td>\n    </tr>\n    <tr>\n      <th>2694</th>\n      <td>고백</td>\n      <td>김진호 (SG워너비)</td>\n      <td>NaN</td>\n    </tr>\n    <tr>\n      <th>2695</th>\n      <td>Endless</td>\n      <td>강성훈</td>\n      <td>NaN</td>\n    </tr>\n    <tr>\n      <th>2696</th>\n      <td>폭죽과 별</td>\n      <td>김진호 (SG워너비)</td>\n      <td>NaN</td>\n    </tr>\n  </tbody>\n</table>\n</div>"
     },
     "metadata": {},
     "execution_count": 35
    }
   ],
   "source": [
    "genie_data[genie_data.isna().any(axis=1)]"
   ]
  },
  {
   "cell_type": "code",
   "execution_count": 4,
   "metadata": {},
   "outputs": [
    {
     "output_type": "error",
     "ename": "TypeError",
     "evalue": "must be real number, not str",
     "traceback": [
      "\u001b[1;31m---------------------------------------------------------------------------\u001b[0m",
      "\u001b[1;31mTypeError\u001b[0m                                 Traceback (most recent call last)",
      "\u001b[1;32m<ipython-input-4-c75aae3fcd1d>\u001b[0m in \u001b[0;36m<module>\u001b[1;34m\u001b[0m\n\u001b[0;32m      3\u001b[0m \u001b[1;32mfor\u001b[0m \u001b[0mm_data\u001b[0m\u001b[1;33m,\u001b[0m\u001b[0mg_data\u001b[0m \u001b[1;32min\u001b[0m \u001b[0mzip\u001b[0m\u001b[1;33m(\u001b[0m\u001b[0mmelone_data\u001b[0m\u001b[1;33m[\u001b[0m\u001b[1;34m'lyrics'\u001b[0m\u001b[1;33m]\u001b[0m\u001b[1;33m,\u001b[0m\u001b[0mgenie_data\u001b[0m\u001b[1;33m[\u001b[0m\u001b[1;34m'lyrics'\u001b[0m\u001b[1;33m]\u001b[0m\u001b[1;33m)\u001b[0m\u001b[1;33m:\u001b[0m\u001b[1;33m\u001b[0m\u001b[1;33m\u001b[0m\u001b[0m\n\u001b[0;32m      4\u001b[0m \u001b[1;33m\u001b[0m\u001b[0m\n\u001b[1;32m----> 5\u001b[1;33m     \u001b[1;32mif\u001b[0m \u001b[0mg_data\u001b[0m \u001b[1;32mis\u001b[0m \u001b[1;32mNone\u001b[0m \u001b[1;32mor\u001b[0m \u001b[0mmath\u001b[0m\u001b[1;33m.\u001b[0m\u001b[0misnan\u001b[0m\u001b[1;33m(\u001b[0m\u001b[0mg_data\u001b[0m\u001b[1;33m)\u001b[0m\u001b[1;33m:\u001b[0m\u001b[1;33m\u001b[0m\u001b[1;33m\u001b[0m\u001b[0m\n\u001b[0m\u001b[0;32m      6\u001b[0m         \u001b[0mfinal_lyrics\u001b[0m\u001b[1;33m.\u001b[0m\u001b[0mappend\u001b[0m\u001b[1;33m(\u001b[0m\u001b[0mm_data\u001b[0m\u001b[1;33m)\u001b[0m\u001b[1;33m\u001b[0m\u001b[1;33m\u001b[0m\u001b[0m\n\u001b[0;32m      7\u001b[0m         \u001b[1;32mcontinue\u001b[0m\u001b[1;33m\u001b[0m\u001b[1;33m\u001b[0m\u001b[0m\n",
      "\u001b[1;31mTypeError\u001b[0m: must be real number, not str"
     ]
    }
   ],
   "source": [
    "cnt = 0\n",
    "final_lyrics = []\n",
    "for m_data,g_data in zip(melone_data['lyrics'],genie_data['lyrics']):\n",
    "    \n",
    "    if g_data is None or math.isnan(g_data):\n",
    "        final_lyrics.append(m_data)\n",
    "        continue\n",
    "    if m_data is None or math.isnan(m_data):\n",
    "        final_lyrics.append(g_data)\n",
    "        continue\n",
    "\n",
    "    print(g_data)\n",
    "    m_sep_cnt =  m_data.count('%')\n",
    "    g_sep_cnt =  g_data.count('%')\n",
    "    \n",
    "    if abs(m_sep_cnt - g_sep_cnt) > 10:\n",
    "        cnt += 1\n",
    "print(cnt)"
   ]
  },
  {
   "cell_type": "code",
   "execution_count": 4,
   "metadata": {},
   "outputs": [],
   "source": [
    "cnt = 0\n",
    "final_lyrics = []\n",
    "for m_data in melone_data.iterrows():\n",
    "    m_data = m_data[1]\n",
    "    g_data = genie_data[(genie_data['titles'] == m_data['titles']) & (genie_data['artist'] == m_data['artist'])]\n",
    "    \n",
    "    if len(g_data) == 0:\n",
    "        final_lyrics.append(m_data['lyrics'])\n",
    "        continue\n",
    "    \n",
    "    try:\n",
    "        if math.isnan(m_data['lyrics']):\n",
    "            final_lyrics.append(g_data.iloc[0]['lyrics'])\n",
    "            continue\n",
    "    except:\n",
    "        pass\n",
    "    \n",
    "    try:\n",
    "        if math.isnan(g_data.iloc[0]['lyrics']):\n",
    "            final_lyrics.append(m_data['lyrics'])\n",
    "            continue\n",
    "    except:\n",
    "        pass\n",
    "\n",
    "    m_sep_cnt = m_data['lyrics'].count('%')\n",
    "    \n",
    "    g_sep_cnt = g_data.iloc[0]['lyrics'].count('%')\n",
    "    \n",
    "    if m_sep_cnt > g_sep_cnt:\n",
    "        final_lyrics.append(m_data['lyrics'])\n",
    "    else:\n",
    "        final_lyrics.append(g_data.iloc[0]['lyrics'])\n"
   ]
  },
  {
   "cell_type": "code",
   "execution_count": 57,
   "metadata": {},
   "outputs": [
    {
     "output_type": "error",
     "ename": "TypeError",
     "evalue": "tuple indices must be integers or slices, not str",
     "traceback": [
      "\u001b[1;31m---------------------------------------------------------------------------\u001b[0m",
      "\u001b[1;31mTypeError\u001b[0m                                 Traceback (most recent call last)",
      "\u001b[1;32m<ipython-input-57-f6ea1e925e2e>\u001b[0m in \u001b[0;36m<module>\u001b[1;34m\u001b[0m\n\u001b[1;32m----> 1\u001b[1;33m \u001b[0mgenie_data\u001b[0m\u001b[1;33m[\u001b[0m\u001b[1;33m(\u001b[0m\u001b[0mgenie_data\u001b[0m\u001b[1;33m[\u001b[0m\u001b[1;34m'titles'\u001b[0m\u001b[1;33m]\u001b[0m \u001b[1;33m==\u001b[0m \u001b[1;34m'My Love'\u001b[0m\u001b[1;33m)\u001b[0m \u001b[1;33m&\u001b[0m \u001b[1;33m(\u001b[0m\u001b[0mgenie_data\u001b[0m\u001b[1;33m[\u001b[0m\u001b[1;34m'artist'\u001b[0m\u001b[1;33m]\u001b[0m \u001b[1;33m==\u001b[0m \u001b[0mm_data\u001b[0m\u001b[1;33m[\u001b[0m\u001b[1;34m'artist'\u001b[0m\u001b[1;33m]\u001b[0m\u001b[1;33m)\u001b[0m\u001b[1;33m]\u001b[0m\u001b[1;33m\u001b[0m\u001b[1;33m\u001b[0m\u001b[0m\n\u001b[0m",
      "\u001b[1;31mTypeError\u001b[0m: tuple indices must be integers or slices, not str"
     ]
    }
   ],
   "source": [
    "genie_data[(genie_data['titles'] == 'My Love') & (genie_data['artist'] == '강성ㅎ')]"
   ]
  },
  {
   "cell_type": "code",
   "execution_count": 62,
   "metadata": {},
   "outputs": [
    {
     "output_type": "stream",
     "name": "stdout",
     "text": [
      "<class 'str'>\n"
     ]
    },
    {
     "output_type": "error",
     "ename": "TypeError",
     "evalue": "tuple indices must be integers or slices, not str",
     "traceback": [
      "\u001b[1;31m---------------------------------------------------------------------------\u001b[0m",
      "\u001b[1;31mTypeError\u001b[0m                                 Traceback (most recent call last)",
      "\u001b[1;32m<ipython-input-62-ad7abd039677>\u001b[0m in \u001b[0;36m<module>\u001b[1;34m\u001b[0m\n\u001b[0;32m      1\u001b[0m \u001b[0mprint\u001b[0m\u001b[1;33m(\u001b[0m\u001b[0mtype\u001b[0m\u001b[1;33m(\u001b[0m\u001b[1;34m'강성훈'\u001b[0m\u001b[1;33m)\u001b[0m\u001b[1;33m)\u001b[0m\u001b[1;33m\u001b[0m\u001b[1;33m\u001b[0m\u001b[0m\n\u001b[1;32m----> 2\u001b[1;33m \u001b[0martist\u001b[0m \u001b[1;33m=\u001b[0m \u001b[0mm_data\u001b[0m\u001b[1;33m[\u001b[0m\u001b[1;34m'artist'\u001b[0m\u001b[1;33m]\u001b[0m\u001b[1;33m\u001b[0m\u001b[1;33m\u001b[0m\u001b[0m\n\u001b[0m\u001b[0;32m      3\u001b[0m \u001b[0mtype\u001b[0m\u001b[1;33m(\u001b[0m\u001b[0martist\u001b[0m\u001b[1;33m)\u001b[0m\u001b[1;33m\u001b[0m\u001b[1;33m\u001b[0m\u001b[0m\n",
      "\u001b[1;31mTypeError\u001b[0m: tuple indices must be integers or slices, not str"
     ]
    }
   ],
   "source": [
    "print(type('강성훈'))\n",
    "artist = m_data['artist']\n",
    "type(artist)"
   ]
  },
  {
   "cell_type": "code",
   "execution_count": 29,
   "metadata": {},
   "outputs": [
    {
     "output_type": "execute_result",
     "data": {
      "text/plain": [
       "pandas.core.series.Series"
      ]
     },
     "metadata": {},
     "execution_count": 29
    }
   ],
   "source": [
    "type(m_data)"
   ]
  },
  {
   "cell_type": "code",
   "execution_count": 45,
   "metadata": {},
   "outputs": [
    {
     "output_type": "execute_result",
     "data": {
      "text/plain": [
       "2836"
      ]
     },
     "metadata": {},
     "execution_count": 45
    }
   ],
   "source": [
    "len(final_lyrics)"
   ]
  },
  {
   "cell_type": "code",
   "execution_count": 5,
   "metadata": {},
   "outputs": [
    {
     "output_type": "execute_result",
     "data": {
      "text/plain": [
       "      titles    artist                                             lyrics\n",
       "0  보이지 않는 인사       강성훈  이제야 울어요%아파서 우네요%떠나가는 그댈 보며%보이지 않는 인사 전해요%고운 그대...\n",
       "1    아름다운 강산  알리 (ALi)  하늘은 파랗게 구름은 하얗게%실바람도 불어와 부풀은 내 마음%나뭇잎 푸르게 강물도 ...\n",
       "2         축복       강성훈  강은경 작사, 심상원 작곡 %알아 이제는 오지 않겠죠 %그 동안 너무 행복했어요 %...\n",
       "3        영원히       강성훈  유나 작사, 송재준 작곡 %When I lost in my heart %내가 슬픔에...\n",
       "4    My Girl       강성훈  wo hoo yeah hey %say my dream come true %ho my..."
      ],
      "text/html": "<div>\n<style scoped>\n    .dataframe tbody tr th:only-of-type {\n        vertical-align: middle;\n    }\n\n    .dataframe tbody tr th {\n        vertical-align: top;\n    }\n\n    .dataframe thead th {\n        text-align: right;\n    }\n</style>\n<table border=\"1\" class=\"dataframe\">\n  <thead>\n    <tr style=\"text-align: right;\">\n      <th></th>\n      <th>titles</th>\n      <th>artist</th>\n      <th>lyrics</th>\n    </tr>\n  </thead>\n  <tbody>\n    <tr>\n      <th>0</th>\n      <td>보이지 않는 인사</td>\n      <td>강성훈</td>\n      <td>이제야 울어요%아파서 우네요%떠나가는 그댈 보며%보이지 않는 인사 전해요%고운 그대...</td>\n    </tr>\n    <tr>\n      <th>1</th>\n      <td>아름다운 강산</td>\n      <td>알리 (ALi)</td>\n      <td>하늘은 파랗게 구름은 하얗게%실바람도 불어와 부풀은 내 마음%나뭇잎 푸르게 강물도 ...</td>\n    </tr>\n    <tr>\n      <th>2</th>\n      <td>축복</td>\n      <td>강성훈</td>\n      <td>강은경 작사, 심상원 작곡 %알아 이제는 오지 않겠죠 %그 동안 너무 행복했어요 %...</td>\n    </tr>\n    <tr>\n      <th>3</th>\n      <td>영원히</td>\n      <td>강성훈</td>\n      <td>유나 작사, 송재준 작곡 %When I lost in my heart %내가 슬픔에...</td>\n    </tr>\n    <tr>\n      <th>4</th>\n      <td>My Girl</td>\n      <td>강성훈</td>\n      <td>wo hoo yeah hey %say my dream come true %ho my...</td>\n    </tr>\n  </tbody>\n</table>\n</div>"
     },
     "metadata": {},
     "execution_count": 5
    }
   ],
   "source": [
    "melone_data['lyrics'] = pd.Series(final_lyrics)\n",
    "melone_data.head()"
   ]
  },
  {
   "cell_type": "code",
   "execution_count": 6,
   "metadata": {},
   "outputs": [
    {
     "output_type": "stream",
     "name": "stdout",
     "text": [
      "14\n"
     ]
    }
   ],
   "source": [
    "data = melone_data\n",
    "cnt = 0\n",
    "for lyric in data['lyrics']:\n",
    "    if '작사' in lyric or '작곡' in lyric:\n",
    "        cnt += 1\n",
    "\n",
    "print(cnt)"
   ]
  },
  {
   "cell_type": "code",
   "execution_count": 7,
   "metadata": {},
   "outputs": [],
   "source": [
    "data.to_csv('data/mg_seperation_mark.tsv',index=False,sep='\\t')"
   ]
  },
  {
   "cell_type": "code",
   "execution_count": 10,
   "metadata": {},
   "outputs": [
    {
     "output_type": "stream",
     "name": "stdout",
     "text": [
      "261\n"
     ]
    }
   ],
   "source": [
    "cnt = 0\n",
    "result = []\n",
    "data = pd.read_csv('data/mg_seperation_mark.tsv',sep='\\t')\n",
    "for lyric in data['lyrics']:\n",
    "    if '%' not in lyric:\n",
    "        cnt += 1\n",
    "        result.append(lyric)\n",
    "print(cnt)"
   ]
  },
  {
   "cell_type": "code",
   "execution_count": 11,
   "metadata": {},
   "outputs": [
    {
     "output_type": "execute_result",
     "data": {
      "text/plain": [
       "'미안해 하지 말아요 혼자 남게 되겠죠 괜찮아요 그대 언제나 기다릴께요 이대로 간직할께요 지난 날은 가슴에 담아둘께요 그대는 알겠죠 난 그대뿐이죠 수많은 날이 흘러가도 내안엔 그대만 가득한 거죠 보고싶겠죠 많이 울겠죠 언젠간 나도 지쳐가겠죠 내 걱정말아요 편하게 지내요 그대를 위해서라면 난 어떤것도 참을테니까 조금씩 잊어가겠죠 그래서 나는 없겠죠 하지만 난 그대를 원망 안해요 세상은 말이죠 나 원하는 대로 모든걸 주진 않나봐요 그대도 마찬가진 것 같아요 보고싶겠죠 많이 울겠죠 언젠간 나도 지쳐가겠죠 내 걱정말아요 편하게 지내요 그대를 위해서라면 난 어떤것도 참을테니까 뒤돌아 보아요 들리지 않나요 아직도 그대 부르잖아요 대답은 없겠죠 나 바보 같겠죠 그래도 세상 가득한건 나의 사랑 그대니까   '"
      ]
     },
     "metadata": {},
     "execution_count": 11
    }
   ],
   "source": [
    "result[2]"
   ]
  }
 ]
}